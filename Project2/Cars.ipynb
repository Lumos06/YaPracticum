{
 "cells": [
  {
   "cell_type": "markdown",
   "metadata": {
    "toc": true
   },
   "source": [
    "<h1>Содержание<span class=\"tocSkip\"></span></h1>\n",
    "<div class=\"toc\"><ul class=\"toc-item\"><li><span><a href=\"#Подготовка\" data-toc-modified-id=\"Подготовка-1\"><span class=\"toc-item-num\">1&nbsp;&nbsp;</span>Подготовка</a></span></li><li><span><a href=\"#Анализ\" data-toc-modified-id=\"Анализ-2\"><span class=\"toc-item-num\">2&nbsp;&nbsp;</span>Анализ</a></span></li><li><span><a href=\"#Обучение\" data-toc-modified-id=\"Обучение-3\"><span class=\"toc-item-num\">3&nbsp;&nbsp;</span>Обучение</a></span></li><li><span><a href=\"#Тестирование\" data-toc-modified-id=\"Тестирование-4\"><span class=\"toc-item-num\">4&nbsp;&nbsp;</span>Тестирование</a></span></li><li><span><a href=\"#Выводы\" data-toc-modified-id=\"Выводы-5\"><span class=\"toc-item-num\">5&nbsp;&nbsp;</span>Выводы</a></span></li></ul></div>"
   ]
  },
  {
   "cell_type": "markdown",
   "metadata": {},
   "source": [
    "#  Прогнозирование заказов такси"
   ]
  },
  {
   "cell_type": "markdown",
   "metadata": {},
   "source": [
    "Компания «Чётенькое такси» собрала исторические данные о заказах такси в аэропортах. \n",
    "\n",
    "**Цель** - чтобы привлекать больше водителей в период пиковой нагрузки, нужно спрогнозировать количество заказов такси на следующий час. Построим модель для такого предсказания.\n",
    "\n",
    "Значение метрики *RMSE* на тестовой выборке должно быть не больше 48.\n",
    "\n",
    "**Задачи**:\n",
    "\n",
    "1. Загрузить данные и выполнить их ресемплирование по одному часу.\n",
    "2. Проанализировать данные.\n",
    "3. Обучить разные модели с различными гиперпараметрами. Сделать тестовую выборку размером 10% от исходных данных.\n",
    "4. Проверить данные на тестовой выборке и сделать выводы."
   ]
  },
  {
   "cell_type": "markdown",
   "metadata": {},
   "source": [
    "## Подготовка"
   ]
  },
  {
   "cell_type": "markdown",
   "metadata": {},
   "source": [
    "На первом этапе изучения данных, мы импортируем необходимые библиотеки, которые пригодятся для исследования, и изучим общую информацию о датасетах."
   ]
  },
  {
   "cell_type": "code",
   "execution_count": 30,
   "metadata": {},
   "outputs": [],
   "source": [
    "!pip install -U scikit-learn==1.1.3 -q\n",
    "!pip install catboost -q\n",
    "!pip install statsmodels -q"
   ]
  },
  {
   "cell_type": "code",
   "execution_count": 31,
   "metadata": {},
   "outputs": [],
   "source": [
    "import pandas as pd\n",
    "import matplotlib.pyplot as plt\n",
    "import math\n",
    "import numpy as np\n",
    "from catboost import CatBoostRegressor, cv, Pool\n",
    "from numpy.random import RandomState\n",
    "import lightgbm as lgb\n",
    "import seaborn as sns\n",
    "import scipy\n",
    "from scipy import stats as st\n",
    "import sklearn as sk\n",
    "from statsmodels.tsa.seasonal import seasonal_decompose\n",
    "from statsmodels. tsa.stattools import adfuller\n",
    "from sklearn.dummy import DummyRegressor\n",
    "from sklearn.linear_model import LinearRegression\n",
    "from sklearn.model_selection import (\n",
    "    train_test_split,\n",
    "    RandomizedSearchCV,\n",
    "    TimeSeriesSplit\n",
    ")\n",
    "from sklearn.preprocessing import (\n",
    "    StandardScaler,\n",
    "    MinMaxScaler,\n",
    "    RobustScaler\n",
    ")\n",
    "from sklearn.pipeline import Pipeline\n",
    "from sklearn.compose import ColumnTransformer\n",
    "from sklearn.tree import DecisionTreeRegressor\n",
    "from sklearn.metrics import mean_squared_error\n",
    "from sklearn.model_selection import RandomizedSearchCV"
   ]
  },
  {
   "cell_type": "code",
   "execution_count": 32,
   "metadata": {},
   "outputs": [],
   "source": [
    "plt.rcParams['figure.figsize'] = (6, 5)"
   ]
  },
  {
   "cell_type": "code",
   "execution_count": 33,
   "metadata": {},
   "outputs": [],
   "source": [
    "def download(filename):\n",
    "    df = pd.read_csv(filename, parse_dates=['datetime'])\n",
    "    display(df.head())\n",
    "    df.info()\n",
    "    return df"
   ]
  },
  {
   "cell_type": "code",
   "execution_count": 34,
   "metadata": {
    "scrolled": false
   },
   "outputs": [
    {
     "data": {
      "text/html": [
       "<div>\n",
       "<style scoped>\n",
       "    .dataframe tbody tr th:only-of-type {\n",
       "        vertical-align: middle;\n",
       "    }\n",
       "\n",
       "    .dataframe tbody tr th {\n",
       "        vertical-align: top;\n",
       "    }\n",
       "\n",
       "    .dataframe thead th {\n",
       "        text-align: right;\n",
       "    }\n",
       "</style>\n",
       "<table border=\"1\" class=\"dataframe\">\n",
       "  <thead>\n",
       "    <tr style=\"text-align: right;\">\n",
       "      <th></th>\n",
       "      <th>datetime</th>\n",
       "      <th>num_orders</th>\n",
       "    </tr>\n",
       "  </thead>\n",
       "  <tbody>\n",
       "    <tr>\n",
       "      <th>0</th>\n",
       "      <td>2018-03-01 00:00:00</td>\n",
       "      <td>9</td>\n",
       "    </tr>\n",
       "    <tr>\n",
       "      <th>1</th>\n",
       "      <td>2018-03-01 00:10:00</td>\n",
       "      <td>14</td>\n",
       "    </tr>\n",
       "    <tr>\n",
       "      <th>2</th>\n",
       "      <td>2018-03-01 00:20:00</td>\n",
       "      <td>28</td>\n",
       "    </tr>\n",
       "    <tr>\n",
       "      <th>3</th>\n",
       "      <td>2018-03-01 00:30:00</td>\n",
       "      <td>20</td>\n",
       "    </tr>\n",
       "    <tr>\n",
       "      <th>4</th>\n",
       "      <td>2018-03-01 00:40:00</td>\n",
       "      <td>32</td>\n",
       "    </tr>\n",
       "  </tbody>\n",
       "</table>\n",
       "</div>"
      ],
      "text/plain": [
       "             datetime  num_orders\n",
       "0 2018-03-01 00:00:00           9\n",
       "1 2018-03-01 00:10:00          14\n",
       "2 2018-03-01 00:20:00          28\n",
       "3 2018-03-01 00:30:00          20\n",
       "4 2018-03-01 00:40:00          32"
      ]
     },
     "metadata": {},
     "output_type": "display_data"
    },
    {
     "name": "stdout",
     "output_type": "stream",
     "text": [
      "<class 'pandas.core.frame.DataFrame'>\n",
      "RangeIndex: 26496 entries, 0 to 26495\n",
      "Data columns (total 2 columns):\n",
      " #   Column      Non-Null Count  Dtype         \n",
      "---  ------      --------------  -----         \n",
      " 0   datetime    26496 non-null  datetime64[ns]\n",
      " 1   num_orders  26496 non-null  int64         \n",
      "dtypes: datetime64[ns](1), int64(1)\n",
      "memory usage: 414.1 KB\n"
     ]
    }
   ],
   "source": [
    "data = download('/datasets/taxi.csv') "
   ]
  },
  {
   "cell_type": "code",
   "execution_count": 35,
   "metadata": {},
   "outputs": [],
   "source": [
    "def research(filename):\n",
    "    isna = filename.isna().sum()\n",
    "    print(\"Количество пропущенных значений\\n\", isna, \"\\n\")\n",
    "    per = isna/ len(filename) * 100\n",
    "    print(\"Количество пропущенных значений в процентах\\n\", per, \"\\n\")\n",
    "    duplicates = filename.duplicated().sum()\n",
    "    print(\"Количество дубликатов\\n\", duplicates, \"\\n\")"
   ]
  },
  {
   "cell_type": "code",
   "execution_count": 36,
   "metadata": {},
   "outputs": [
    {
     "name": "stdout",
     "output_type": "stream",
     "text": [
      "Количество пропущенных значений\n",
      " datetime      0\n",
      "num_orders    0\n",
      "dtype: int64 \n",
      "\n",
      "Количество пропущенных значений в процентах\n",
      " datetime      0.0\n",
      "num_orders    0.0\n",
      "dtype: float64 \n",
      "\n",
      "Количество дубликатов\n",
      " 0 \n",
      "\n"
     ]
    }
   ],
   "source": [
    "research(data) "
   ]
  },
  {
   "cell_type": "code",
   "execution_count": 37,
   "metadata": {},
   "outputs": [],
   "source": [
    "data = data.set_index('datetime')"
   ]
  },
  {
   "cell_type": "markdown",
   "metadata": {},
   "source": [
    "Проверим, в хронологическом ли порядке расположены дата и время."
   ]
  },
  {
   "cell_type": "code",
   "execution_count": 38,
   "metadata": {},
   "outputs": [
    {
     "data": {
      "text/plain": [
       "True"
      ]
     },
     "execution_count": 38,
     "metadata": {},
     "output_type": "execute_result"
    }
   ],
   "source": [
    "data.sort_index(inplace=True)\n",
    "data.index.is_monotonic"
   ]
  },
  {
   "cell_type": "code",
   "execution_count": 39,
   "metadata": {},
   "outputs": [],
   "source": [
    "data = data.resample('1H').sum()"
   ]
  },
  {
   "cell_type": "code",
   "execution_count": 40,
   "metadata": {},
   "outputs": [
    {
     "data": {
      "text/html": [
       "<div>\n",
       "<style scoped>\n",
       "    .dataframe tbody tr th:only-of-type {\n",
       "        vertical-align: middle;\n",
       "    }\n",
       "\n",
       "    .dataframe tbody tr th {\n",
       "        vertical-align: top;\n",
       "    }\n",
       "\n",
       "    .dataframe thead th {\n",
       "        text-align: right;\n",
       "    }\n",
       "</style>\n",
       "<table border=\"1\" class=\"dataframe\">\n",
       "  <thead>\n",
       "    <tr style=\"text-align: right;\">\n",
       "      <th></th>\n",
       "      <th>num_orders</th>\n",
       "    </tr>\n",
       "    <tr>\n",
       "      <th>datetime</th>\n",
       "      <th></th>\n",
       "    </tr>\n",
       "  </thead>\n",
       "  <tbody>\n",
       "    <tr>\n",
       "      <th>2018-03-01 00:00:00</th>\n",
       "      <td>124</td>\n",
       "    </tr>\n",
       "    <tr>\n",
       "      <th>2018-03-01 01:00:00</th>\n",
       "      <td>85</td>\n",
       "    </tr>\n",
       "    <tr>\n",
       "      <th>2018-03-01 02:00:00</th>\n",
       "      <td>71</td>\n",
       "    </tr>\n",
       "    <tr>\n",
       "      <th>2018-03-01 03:00:00</th>\n",
       "      <td>66</td>\n",
       "    </tr>\n",
       "    <tr>\n",
       "      <th>2018-03-01 04:00:00</th>\n",
       "      <td>43</td>\n",
       "    </tr>\n",
       "  </tbody>\n",
       "</table>\n",
       "</div>"
      ],
      "text/plain": [
       "                     num_orders\n",
       "datetime                       \n",
       "2018-03-01 00:00:00         124\n",
       "2018-03-01 01:00:00          85\n",
       "2018-03-01 02:00:00          71\n",
       "2018-03-01 03:00:00          66\n",
       "2018-03-01 04:00:00          43"
      ]
     },
     "execution_count": 40,
     "metadata": {},
     "output_type": "execute_result"
    }
   ],
   "source": [
    "data.head()"
   ]
  },
  {
   "cell_type": "markdown",
   "metadata": {},
   "source": [
    "В датасете 2 столбца. Описание данных:\n",
    "* `datetime` — дата и время\n",
    "* `num_orders` — количество заказов\n",
    "\n",
    "Количество значений совпадает во всех колонках, значит, вероятно, нет пропущенных данных. Тип данных datetime был приведен к необходимому."
   ]
  },
  {
   "cell_type": "markdown",
   "metadata": {},
   "source": [
    "**Таким образом, на этапом этапе исследования были произведены загрузка данных, изучение общей информации о них, ресемплирование данных по одному часу, тип данных столбца datetime был приведен к необходимому.**"
   ]
  },
  {
   "cell_type": "markdown",
   "metadata": {},
   "source": [
    "## Анализ"
   ]
  },
  {
   "cell_type": "markdown",
   "metadata": {},
   "source": [
    "Построим график временного ряда, сравним его с графиком скользящего среднего."
   ]
  },
  {
   "cell_type": "code",
   "execution_count": 41,
   "metadata": {},
   "outputs": [
    {
     "data": {
      "image/png": "[encoded data removed]",
      "text/plain": [
       "<Figure size 432x360 with 1 Axes>"
      ]
     },
     "metadata": {
      "needs_background": "light"
     },
     "output_type": "display_data"
    }
   ],
   "source": [
    "data.plot()\n",
    "plt.xlabel('Месяц')\n",
    "plt.ylabel('Количество заказов')\n",
    "plt.title('Количество заказов за определённый период');"
   ]
  },
  {
   "cell_type": "code",
   "execution_count": 42,
   "metadata": {},
   "outputs": [],
   "source": [
    "dataa = data.rolling(10, closed='left').mean()"
   ]
  },
  {
   "cell_type": "code",
   "execution_count": 43,
   "metadata": {},
   "outputs": [
    {
     "data": {
      "image/png": "[encoded data removed]",
      "text/plain": [
       "<Figure size 432x360 with 1 Axes>"
      ]
     },
     "metadata": {
      "needs_background": "light"
     },
     "output_type": "display_data"
    }
   ],
   "source": [
    "dataa.plot()\n",
    "plt.xlabel('Месяц')\n",
    "plt.ylabel('Количество заказов')\n",
    "plt.title('Количество заказов за определённый период: скользящее среднее');"
   ]
  },
  {
   "cell_type": "markdown",
   "metadata": {},
   "source": [
    "Таким образом, видно, что количество заказов увеличивается к лету. "
   ]
  },
  {
   "cell_type": "markdown",
   "metadata": {},
   "source": [
    "Разберём тренды и сезонность."
   ]
  },
  {
   "cell_type": "code",
   "execution_count": 44,
   "metadata": {},
   "outputs": [
    {
     "data": {
      "text/html": [
       "<div>\n",
       "<style scoped>\n",
       "    .dataframe tbody tr th:only-of-type {\n",
       "        vertical-align: middle;\n",
       "    }\n",
       "\n",
       "    .dataframe tbody tr th {\n",
       "        vertical-align: top;\n",
       "    }\n",
       "\n",
       "    .dataframe thead th {\n",
       "        text-align: right;\n",
       "    }\n",
       "</style>\n",
       "<table border=\"1\" class=\"dataframe\">\n",
       "  <thead>\n",
       "    <tr style=\"text-align: right;\">\n",
       "      <th></th>\n",
       "      <th>num_orders</th>\n",
       "    </tr>\n",
       "    <tr>\n",
       "      <th>datetime</th>\n",
       "      <th></th>\n",
       "    </tr>\n",
       "  </thead>\n",
       "  <tbody>\n",
       "    <tr>\n",
       "      <th>2018-03-01 00:00:00</th>\n",
       "      <td>124</td>\n",
       "    </tr>\n",
       "    <tr>\n",
       "      <th>2018-03-01 01:00:00</th>\n",
       "      <td>85</td>\n",
       "    </tr>\n",
       "    <tr>\n",
       "      <th>2018-03-01 02:00:00</th>\n",
       "      <td>71</td>\n",
       "    </tr>\n",
       "    <tr>\n",
       "      <th>2018-03-01 03:00:00</th>\n",
       "      <td>66</td>\n",
       "    </tr>\n",
       "    <tr>\n",
       "      <th>2018-03-01 04:00:00</th>\n",
       "      <td>43</td>\n",
       "    </tr>\n",
       "  </tbody>\n",
       "</table>\n",
       "</div>"
      ],
      "text/plain": [
       "                     num_orders\n",
       "datetime                       \n",
       "2018-03-01 00:00:00         124\n",
       "2018-03-01 01:00:00          85\n",
       "2018-03-01 02:00:00          71\n",
       "2018-03-01 03:00:00          66\n",
       "2018-03-01 04:00:00          43"
      ]
     },
     "execution_count": 44,
     "metadata": {},
     "output_type": "execute_result"
    }
   ],
   "source": [
    "data.head()"
   ]
  },
  {
   "cell_type": "code",
   "execution_count": 45,
   "metadata": {},
   "outputs": [
    {
     "data": {
      "text/html": [
       "<div>\n",
       "<style scoped>\n",
       "    .dataframe tbody tr th:only-of-type {\n",
       "        vertical-align: middle;\n",
       "    }\n",
       "\n",
       "    .dataframe tbody tr th {\n",
       "        vertical-align: top;\n",
       "    }\n",
       "\n",
       "    .dataframe thead th {\n",
       "        text-align: right;\n",
       "    }\n",
       "</style>\n",
       "<table border=\"1\" class=\"dataframe\">\n",
       "  <thead>\n",
       "    <tr style=\"text-align: right;\">\n",
       "      <th></th>\n",
       "      <th>num_orders</th>\n",
       "    </tr>\n",
       "    <tr>\n",
       "      <th>datetime</th>\n",
       "      <th></th>\n",
       "    </tr>\n",
       "  </thead>\n",
       "  <tbody>\n",
       "    <tr>\n",
       "      <th>2018-08-31 19:00:00</th>\n",
       "      <td>136</td>\n",
       "    </tr>\n",
       "    <tr>\n",
       "      <th>2018-08-31 20:00:00</th>\n",
       "      <td>154</td>\n",
       "    </tr>\n",
       "    <tr>\n",
       "      <th>2018-08-31 21:00:00</th>\n",
       "      <td>159</td>\n",
       "    </tr>\n",
       "    <tr>\n",
       "      <th>2018-08-31 22:00:00</th>\n",
       "      <td>223</td>\n",
       "    </tr>\n",
       "    <tr>\n",
       "      <th>2018-08-31 23:00:00</th>\n",
       "      <td>205</td>\n",
       "    </tr>\n",
       "  </tbody>\n",
       "</table>\n",
       "</div>"
      ],
      "text/plain": [
       "                     num_orders\n",
       "datetime                       \n",
       "2018-08-31 19:00:00         136\n",
       "2018-08-31 20:00:00         154\n",
       "2018-08-31 21:00:00         159\n",
       "2018-08-31 22:00:00         223\n",
       "2018-08-31 23:00:00         205"
      ]
     },
     "execution_count": 45,
     "metadata": {},
     "output_type": "execute_result"
    }
   ],
   "source": [
    "data.tail()"
   ]
  },
  {
   "cell_type": "markdown",
   "metadata": {},
   "source": [
    "Данные представлены за 6 месяцев: с 1 марта 2018 года до 31 августа 2018 года."
   ]
  },
  {
   "cell_type": "code",
   "execution_count": 46,
   "metadata": {},
   "outputs": [],
   "source": [
    "decomposed = seasonal_decompose(data)"
   ]
  },
  {
   "cell_type": "code",
   "execution_count": 47,
   "metadata": {},
   "outputs": [
    {
     "data": {
      "image/png": "[encoded data removed]",
      "text/plain": [
       "<Figure size 432x576 with 3 Axes>"
      ]
     },
     "metadata": {
      "needs_background": "light"
     },
     "output_type": "display_data"
    }
   ],
   "source": [
    "decomposed = seasonal_decompose(data)\n",
    "plt.figure(figsize=(6, 8))\n",
    "plt.subplot(311)\n",
    "decomposed.trend.plot(ax=plt.gca())\n",
    "plt.xlabel('Месяц')\n",
    "plt.ylabel('Количество заказов')\n",
    "plt.title('Trend')\n",
    "plt.subplot(312)\n",
    "decomposed.seasonal.plot(ax=plt.gca())\n",
    "plt.xlabel('Месяц')\n",
    "plt.ylabel('Количество заказов')\n",
    "plt.title('Seasonality')\n",
    "plt.subplot(313)\n",
    "decomposed.resid.plot(ax=plt.gca())\n",
    "plt.xlabel('Месяц')\n",
    "plt.ylabel('Количество заказов')\n",
    "plt.title('Residuals')\n",
    "plt.tight_layout()"
   ]
  },
  {
   "cell_type": "markdown",
   "metadata": {},
   "source": [
    "Рассмотрим сезонность за месяц и за неделю."
   ]
  },
  {
   "cell_type": "code",
   "execution_count": 48,
   "metadata": {},
   "outputs": [
    {
     "data": {
      "image/png": "[encoded data removed]",
      "text/plain": [
       "<Figure size 576x720 with 1 Axes>"
      ]
     },
     "metadata": {
      "needs_background": "light"
     },
     "output_type": "display_data"
    }
   ],
   "source": [
    "decomposed = seasonal_decompose(data['2018-04-01':'2018-05-01']) \n",
    "\n",
    "plt.figure(figsize=(8, 10))\n",
    "plt.subplot(311)\n",
    "decomposed.seasonal.plot(ax=plt.gca())\n",
    "plt.xlabel('День месяца')\n",
    "plt.ylabel('Количество заказов')\n",
    "plt.title('Seasonality');"
   ]
  },
  {
   "cell_type": "code",
   "execution_count": 49,
   "metadata": {},
   "outputs": [
    {
     "data": {
      "image/png": "[encoded data removed]",
      "text/plain": [
       "<Figure size 576x720 with 1 Axes>"
      ]
     },
     "metadata": {
      "needs_background": "light"
     },
     "output_type": "display_data"
    }
   ],
   "source": [
    "decomposed = seasonal_decompose(data['2018-04-01':'2018-04-07']) \n",
    "\n",
    "plt.figure(figsize=(8, 10))\n",
    "plt.subplot(311)\n",
    "decomposed.seasonal.plot(ax=plt.gca())\n",
    "plt.xlabel('День недели')\n",
    "plt.ylabel('Количество заказов')\n",
    "plt.title('Seasonality');"
   ]
  },
  {
   "cell_type": "markdown",
   "metadata": {},
   "source": [
    "Пока никаких закономерностей не наблюдается, посмотрим сезонность за день."
   ]
  },
  {
   "cell_type": "code",
   "execution_count": 50,
   "metadata": {},
   "outputs": [
    {
     "data": {
      "image/png": "[encoded data removed]",
      "text/plain": [
       "<Figure size 576x720 with 1 Axes>"
      ]
     },
     "metadata": {
      "needs_background": "light"
     },
     "output_type": "display_data"
    }
   ],
   "source": [
    "decomposed = seasonal_decompose(data['2018-04-01':'2018-04-02']) \n",
    "\n",
    "plt.figure(figsize=(8, 10))\n",
    "plt.subplot(311)\n",
    "decomposed.seasonal.plot(ax=plt.gca())\n",
    "plt.xlabel('Время суток')\n",
    "plt.ylabel('Количество заказов')\n",
    "plt.title('Seasonality');"
   ]
  },
  {
   "cell_type": "markdown",
   "metadata": {},
   "source": [
    "Таким образом, сезонная составляющая за день показывает, что количество заказов резко уменьшается в период с 00.00 до 6 утра. Затем наблюдаются пики примерно в 10 часов утра и в 16. Самый большой пик - в 00 часов."
   ]
  },
  {
   "cell_type": "markdown",
   "metadata": {},
   "source": [
    "Проверим гипотезу о нестационарности ряда с помощью теста Дики-Фуллера. \n",
    "\n",
    "H0 : Временной ряд является нестационарным.\n",
    "    \n",
    "H1 : временной ряд является стационарным."
   ]
  },
  {
   "cell_type": "code",
   "execution_count": 51,
   "metadata": {},
   "outputs": [
    {
     "name": "stdout",
     "output_type": "stream",
     "text": [
      "ADF Statistic: -3.0689242890279558\n",
      "p-value: 0.028940051402612906\n",
      "Critical Values:\n",
      "\t1%: -3.431842162413052\n",
      "\t5%: -2.8621993540813637\n",
      "\t10%: -2.567120978470452\n",
      "Ряд данных стационарен на уровне значимости 5%\n"
     ]
    }
   ],
   "source": [
    "result = adfuller(data)\n",
    "\n",
    "print('ADF Statistic:', result[0])\n",
    "print('p-value:', result[1])\n",
    "print('Critical Values:')\n",
    "for key, value in result[4].items():\n",
    "    print(f'\\t{key}: {value}')\n",
    "\n",
    "\n",
    "if result[1] <= 0.05:\n",
    "    print(\"Ряд данных стационарен на уровне значимости 5%\")\n",
    "else:\n",
    "    print(\"Ряд данных нестационарен на уровне значимости 5%\")"
   ]
  },
  {
   "cell_type": "code",
   "execution_count": 52,
   "metadata": {},
   "outputs": [
    {
     "name": "stdout",
     "output_type": "stream",
     "text": [
      "ADF Statistic: -3.0689242890279558\n",
      "p-value: 0.028940051402612906\n",
      "Critical Values:\n",
      "\t1%: -3.431842162413052\n",
      "\t5%: -2.8621993540813637\n",
      "\t10%: -2.567120978470452\n",
      "Ряд данных нестационарен на уровне значимости 1%\n"
     ]
    }
   ],
   "source": [
    "result = adfuller(data)\n",
    "\n",
    "print('ADF Statistic:', result[0])\n",
    "print('p-value:', result[1])\n",
    "print('Critical Values:')\n",
    "for key, value in result[4].items():\n",
    "    print(f'\\t{key}: {value}')\n",
    "\n",
    "\n",
    "if result[1] <= 0.01:\n",
    "    print(\"Ряд данных стационарен на уровне значимости 1%\")\n",
    "else:\n",
    "    print(\"Ряд данных нестационарен на уровне значимости 1%\")"
   ]
  },
  {
   "cell_type": "markdown",
   "metadata": {},
   "source": [
    "**Итак, ряд нестационарен на уровне значимости 1%. Кроме того, рассмотрим ещё и график, на котором увидим нестационарность ряда.**"
   ]
  },
  {
   "cell_type": "code",
   "execution_count": 53,
   "metadata": {},
   "outputs": [
    {
     "data": {
      "image/png": "[encoded data removed]",
      "text/plain": [
       "<Figure size 432x360 with 1 Axes>"
      ]
     },
     "metadata": {
      "needs_background": "light"
     },
     "output_type": "display_data"
    }
   ],
   "source": [
    "data['mean'] = data['num_orders'].rolling(40).mean()\n",
    "data['std'] = data['num_orders'].rolling(40).std()\n",
    "data.plot()\n",
    "plt.xlabel('Месяц')\n",
    "plt.ylabel('Количество заказов')\n",
    "plt.title('Количество заказов за полгода с учетом скользящего среднего');"
   ]
  },
  {
   "cell_type": "markdown",
   "metadata": {},
   "source": [
    "Таким образом, временной ряд нестационарен, так как скользящее среднее увеличивается со временем (к концу лета). Так как ряд нестационарен, сделаем его стационарным.Для этого найдем разности временного ряда."
   ]
  },
  {
   "cell_type": "markdown",
   "metadata": {},
   "source": [
    "**Итак, на этом этапе исследования нами было установлено, что:**\n",
    "- количество заказов увеличивается к лету, так как это связано с тем, что август - месяц, в котором большинство людей едут на отдых. \n",
    "- количество заказов резко уменьшается в период с 00.00 до 6 утра. Затем наблюдаются пики примерно в 10 часов утра и в 16. Самый большой пик - в 00 часов. \n",
    "- Данные представлены за 6 месяцев: с 1 марта 2018 года до 31 августа 2018 года.\n",
    "- Природа сезонности обусловлена тем, что примерно в 10 и в 16 часов утра люди заказывают такси, так как часто назначаются на утреннее и обеднее время рейсы. Самый большой пик в 00 обусловлен тем, что людям сложнее добраться до аэропорта / из него, так как общественный транспорт в это время уже почти не работает. \n",
    "- количество заказов не зависит от месяца и дня недели.\n",
    "- тест Дики-Фуллера показал, что временной ряд был нестационарным."
   ]
  },
  {
   "cell_type": "markdown",
   "metadata": {},
   "source": [
    "## Обучение"
   ]
  },
  {
   "cell_type": "markdown",
   "metadata": {},
   "source": [
    "На этом этапе мы обучим модель. Целевой признак - num_orders. Сделаем тестовую выборку размером 10% от исходных данных."
   ]
  },
  {
   "cell_type": "markdown",
   "metadata": {},
   "source": [
    "Создадим признаки для горизонта прогнозирования.\n",
    "Напишем функцию для создания признаков."
   ]
  },
  {
   "cell_type": "code",
   "execution_count": 57,
   "metadata": {
    "scrolled": true
   },
   "outputs": [],
   "source": [
    "def make_features(data, max_lag, rolling_mean_size):\n",
    "    df_mf = data.copy()\n",
    "    df_mf['day'] = df_mf.index.day\n",
    "    df_mf['dayofweek'] = df_mf.index.dayofweek\n",
    "    df_mf['hour'] = df_mf.index.hour\n",
    "    \n",
    "    for lag in range(1, max_lag + 1):\n",
    "        df_mf['lag_{}'.format(lag)] = df_mf['num_orders'].shift(lag)\n",
    "    df_mf['rolling_mean'] = df_mf['num_orders'].shift().rolling(rolling_mean_size).mean()\n",
    "    return df_mf.dropna()"
   ]
  },
  {
   "cell_type": "code",
   "execution_count": 58,
   "metadata": {},
   "outputs": [],
   "source": [
    "data_new = make_features(data, 4, 4)"
   ]
  },
  {
   "cell_type": "code",
   "execution_count": 59,
   "metadata": {},
   "outputs": [],
   "source": [
    "data_new = data_new.dropna()"
   ]
  },
  {
   "cell_type": "code",
   "execution_count": 60,
   "metadata": {},
   "outputs": [
    {
     "data": {
      "text/plain": [
       "0"
      ]
     },
     "execution_count": 60,
     "metadata": {},
     "output_type": "execute_result"
    }
   ],
   "source": [
    "data_new.duplicated().sum()"
   ]
  },
  {
   "cell_type": "code",
   "execution_count": 61,
   "metadata": {},
   "outputs": [
    {
     "name": "stdout",
     "output_type": "stream",
     "text": [
      "2018-03-02 15:00:00 2018-08-13 17:00:00\n",
      "2018-08-13 18:00:00 2018-08-31 23:00:00\n"
     ]
    }
   ],
   "source": [
    "RANDOM_STATE = 42\n",
    "train, test = train_test_split(data_new, shuffle=False, test_size=0.1)\n",
    "print(train.index.min(), train.index.max())\n",
    "print(test.index.min(), test.index.max())"
   ]
  },
  {
   "cell_type": "code",
   "execution_count": 62,
   "metadata": {},
   "outputs": [],
   "source": [
    "X_train = train.drop('num_orders',axis=1)\n",
    "y_train = train['num_orders']\n",
    "X_test = test.drop('num_orders',axis=1)\n",
    "y_test = test['num_orders']"
   ]
  },
  {
   "cell_type": "code",
   "execution_count": 63,
   "metadata": {},
   "outputs": [],
   "source": [
    "num_columns = X_train.select_dtypes(include=['number']).columns"
   ]
  },
  {
   "cell_type": "markdown",
   "metadata": {},
   "source": [
    "Создаём общий пайплайн для подготовки данных"
   ]
  },
  {
   "cell_type": "code",
   "execution_count": 64,
   "metadata": {},
   "outputs": [],
   "source": [
    "data_preprocessor = ColumnTransformer(\n",
    "     [('num', StandardScaler(), num_columns)\n",
    "    ], \n",
    "    remainder='passthrough'\n",
    ")"
   ]
  },
  {
   "cell_type": "code",
   "execution_count": 65,
   "metadata": {},
   "outputs": [],
   "source": [
    "pipe_final = Pipeline([\n",
    "    ('preprocessor', data_preprocessor),\n",
    "    ('models', LinearRegression())\n",
    "])"
   ]
  },
  {
   "cell_type": "code",
   "execution_count": 66,
   "metadata": {},
   "outputs": [],
   "source": [
    "param_grid = [\n",
    "    {\n",
    "        'models': [DecisionTreeRegressor(random_state=RANDOM_STATE)],\n",
    "        'models__max_depth': [None] + list(range(2, 7)),\n",
    "        'models__max_features': [None] + list(range(2, 7)),\n",
    "        'preprocessor__num': [StandardScaler(), MinMaxScaler(), RobustScaler(), 'passthrough']  \n",
    "    },\n",
    "    \n",
    "    {\n",
    "        'models': [LinearRegression()],\n",
    "        'preprocessor__num': [StandardScaler(), MinMaxScaler(),RobustScaler(),'passthrough']   \n",
    "    },\n",
    "\n",
    "]"
   ]
  },
  {
   "cell_type": "code",
   "execution_count": 67,
   "metadata": {},
   "outputs": [],
   "source": [
    "tscv = TimeSeriesSplit(n_splits=5)"
   ]
  },
  {
   "cell_type": "code",
   "execution_count": 68,
   "metadata": {},
   "outputs": [],
   "source": [
    "random_search = RandomizedSearchCV(\n",
    "    pipe_final, \n",
    "    param_grid,\n",
    "    random_state=RANDOM_STATE,\n",
    "    cv=tscv,\n",
    "    scoring='neg_root_mean_squared_error',\n",
    "    n_jobs=-1\n",
    ")"
   ]
  },
  {
   "cell_type": "code",
   "execution_count": 69,
   "metadata": {},
   "outputs": [],
   "source": [
    "model = random_search.fit(X_train, y_train)"
   ]
  },
  {
   "cell_type": "code",
   "execution_count": 70,
   "metadata": {},
   "outputs": [
    {
     "name": "stdout",
     "output_type": "stream",
     "text": [
      "Лучшая модель и её параметры:\n",
      "\n",
      " Pipeline(steps=[('preprocessor',\n",
      "                 ColumnTransformer(remainder='passthrough',\n",
      "                                   transformers=[('num', 'passthrough',\n",
      "                                                  Index(['mean', 'std', 'day', 'dayofweek', 'hour', 'lag_1', 'lag_2', 'lag_3',\n",
      "       'lag_4', 'rolling_mean'],\n",
      "      dtype='object'))])),\n",
      "                ('models',\n",
      "                 DecisionTreeRegressor(max_depth=6, max_features=5,\n",
      "                                       random_state=42))])\n",
      "Метрика:\n",
      "\n",
      " 31.330325401684615\n"
     ]
    }
   ],
   "source": [
    "print('Лучшая модель и её параметры:\\n\\n', model.best_estimator_)\n",
    "print('Метрика:\\n\\n', -model.best_score_)"
   ]
  },
  {
   "cell_type": "markdown",
   "metadata": {},
   "source": [
    "Обучим модель CatBoost"
   ]
  },
  {
   "cell_type": "code",
   "execution_count": 43,
   "metadata": {},
   "outputs": [],
   "source": [
    "train_pool = Pool(X_train, y_train)\n",
    "test_pool = Pool(X_test, y_test)"
   ]
  },
  {
   "cell_type": "code",
   "execution_count": 44,
   "metadata": {},
   "outputs": [],
   "source": [
    "params = {'iterations': 200,\n",
    "          'learning_rate': 0.05,\n",
    "          'eval_metric': 'RMSE',\n",
    "          'loss_function': 'RMSE',\n",
    "          'random_seed': 0,\n",
    "          'verbose': 100,\n",
    "          }"
   ]
  },
  {
   "cell_type": "code",
   "execution_count": 45,
   "metadata": {},
   "outputs": [
    {
     "name": "stdout",
     "output_type": "stream",
     "text": [
      "Training on fold [0/3]\n",
      "\n",
      "bestTest = 26.39182776\n",
      "bestIteration = 199\n",
      "\n",
      "Training on fold [1/3]\n",
      "\n",
      "bestTest = 25.23175205\n",
      "bestIteration = 199\n",
      "\n",
      "Training on fold [2/3]\n",
      "\n",
      "bestTest = 32.93348872\n",
      "bestIteration = 196\n",
      "\n"
     ]
    }
   ],
   "source": [
    "cv_data = cv(\n",
    "    params = params,\n",
    "    pool = train_pool,\n",
    "    fold_count=3,\n",
    "    shuffle=False,\n",
    "    partition_random_seed=0,\n",
    "    verbose=False,\n",
    "    early_stopping_rounds=100,\n",
    "    type='TimeSeries'\n",
    ")"
   ]
  },
  {
   "cell_type": "code",
   "execution_count": 46,
   "metadata": {},
   "outputs": [
    {
     "data": {
      "text/html": [
       "<div>\n",
       "<style scoped>\n",
       "    .dataframe tbody tr th:only-of-type {\n",
       "        vertical-align: middle;\n",
       "    }\n",
       "\n",
       "    .dataframe tbody tr th {\n",
       "        vertical-align: top;\n",
       "    }\n",
       "\n",
       "    .dataframe thead th {\n",
       "        text-align: right;\n",
       "    }\n",
       "</style>\n",
       "<table border=\"1\" class=\"dataframe\">\n",
       "  <thead>\n",
       "    <tr style=\"text-align: right;\">\n",
       "      <th></th>\n",
       "      <th>iterations</th>\n",
       "      <th>test-RMSE-mean</th>\n",
       "      <th>test-RMSE-std</th>\n",
       "      <th>train-RMSE-mean</th>\n",
       "      <th>train-RMSE-std</th>\n",
       "    </tr>\n",
       "  </thead>\n",
       "  <tbody>\n",
       "    <tr>\n",
       "      <th>199</th>\n",
       "      <td>199</td>\n",
       "      <td>28.187236</td>\n",
       "      <td>4.155079</td>\n",
       "      <td>16.232538</td>\n",
       "      <td>2.105099</td>\n",
       "    </tr>\n",
       "  </tbody>\n",
       "</table>\n",
       "</div>"
      ],
      "text/plain": [
       "     iterations  test-RMSE-mean  test-RMSE-std  train-RMSE-mean  \\\n",
       "199         199       28.187236       4.155079        16.232538   \n",
       "\n",
       "     train-RMSE-std  \n",
       "199        2.105099  "
      ]
     },
     "execution_count": 46,
     "metadata": {},
     "output_type": "execute_result"
    }
   ],
   "source": [
    "cv_data[cv_data['test-RMSE-mean'] == cv_data['test-RMSE-mean'].min()]"
   ]
  },
  {
   "cell_type": "code",
   "execution_count": 47,
   "metadata": {},
   "outputs": [],
   "source": [
    "n_iters = cv_data[cv_data['test-RMSE-mean'] == cv_data['test-RMSE-mean'].min()]['iterations'].values[0]"
   ]
  },
  {
   "cell_type": "code",
   "execution_count": 48,
   "metadata": {},
   "outputs": [],
   "source": [
    "params = {'iterations': n_iters,\n",
    "          'learning_rate': 0.05,\n",
    "          'eval_metric': 'RMSE',\n",
    "          'loss_function': 'RMSE',\n",
    "          'random_seed': 0,\n",
    "          'verbose': 100,\n",
    "          }"
   ]
  },
  {
   "cell_type": "code",
   "execution_count": 49,
   "metadata": {},
   "outputs": [],
   "source": [
    "model2 = CatBoostRegressor(**params)"
   ]
  },
  {
   "cell_type": "code",
   "execution_count": 50,
   "metadata": {},
   "outputs": [
    {
     "name": "stdout",
     "output_type": "stream",
     "text": [
      "0:\tlearn: 37.7176488\ttotal: 3.06ms\tremaining: 605ms\n",
      "100:\tlearn: 22.5958779\ttotal: 230ms\tremaining: 224ms\n",
      "198:\tlearn: 20.4877361\ttotal: 449ms\tremaining: 0us\n"
     ]
    }
   ],
   "source": [
    "model2.fit(train_pool);"
   ]
  },
  {
   "cell_type": "markdown",
   "metadata": {},
   "source": [
    "**Таким образом, лучшей на тренировочных данных стала модель CatBoost с параметрами 'iterations': 199,\n",
    "          'learning_rate': 0.05,\n",
    "          'eval_metric': 'RMSE',\n",
    "          'loss_function': 'RMSE',\n",
    "          'random_seed': 0,\n",
    "          'verbose': 100 и метрикой RMSE - 20.**"
   ]
  },
  {
   "cell_type": "markdown",
   "metadata": {},
   "source": [
    "## Тестирование"
   ]
  },
  {
   "cell_type": "markdown",
   "metadata": {},
   "source": [
    "Выполним предсказания на лучшей модели.  "
   ]
  },
  {
   "cell_type": "code",
   "execution_count": 52,
   "metadata": {},
   "outputs": [
    {
     "data": {
      "text/plain": [
       "46.627785548409655"
      ]
     },
     "execution_count": 52,
     "metadata": {},
     "output_type": "execute_result"
    }
   ],
   "source": [
    "pred_cat = model2.predict(X_test)\n",
    "mean_squared_error(y_test, pred_cat, squared=False)"
   ]
  },
  {
   "cell_type": "markdown",
   "metadata": {},
   "source": [
    "**Таким образом, были выполнены предсказания и метрика RMSE получилась равной 46.6. Проверим модель на адекватность.**"
   ]
  },
  {
   "cell_type": "code",
   "execution_count": 53,
   "metadata": {},
   "outputs": [
    {
     "data": {
      "text/plain": [
       "84.64836056311967"
      ]
     },
     "execution_count": 53,
     "metadata": {},
     "output_type": "execute_result"
    }
   ],
   "source": [
    "dummy_regressor = DummyRegressor(strategy = 'mean')\n",
    "dummy_regressor.fit(X_train, y_train)\n",
    "y_pred_dummy = dummy_regressor.predict(X_test)\n",
    "mean_squared_error(y_test, y_pred_dummy, squared=False)"
   ]
  },
  {
   "cell_type": "markdown",
   "metadata": {},
   "source": [
    "Следовательно, модель с тюнингом на тестовой выборке показала себя лучше."
   ]
  },
  {
   "cell_type": "markdown",
   "metadata": {},
   "source": [
    "Визуализируем предсказания лучшей модели и сравнить их с правильными ответами в формате линейного графика."
   ]
  },
  {
   "cell_type": "code",
   "execution_count": 54,
   "metadata": {},
   "outputs": [
    {
     "data": {
      "image/png": "[encoded data removed]",
      "text/plain": [
       "<Figure size 1800x360 with 1 Axes>"
      ]
     },
     "metadata": {
      "needs_background": "light"
     },
     "output_type": "display_data"
    }
   ],
   "source": [
    "plt.figure(figsize=(25,5))\n",
    "plt.plot(y_test.index, y_test, label='Правильные ответы')\n",
    "plt.plot(y_test.index, pred_cat, label='Предсказания модели')\n",
    "plt.xlabel('Дата')\n",
    "plt.ylabel('Количество заказов')\n",
    "plt.title('Предсказания модели и правильные ответы')\n",
    "plt.legend();"
   ]
  },
  {
   "cell_type": "markdown",
   "metadata": {},
   "source": [
    "Модель делает хорошие предсказания в случае отсутствия выбросов. Когда в конце августа значения начали в среднем возрастать, модель не предсказала это, поэтому значения стали менее точными. "
   ]
  },
  {
   "cell_type": "markdown",
   "metadata": {},
   "source": [
    "**Итак, на данном этапе исследования было выявлено, что:**\n",
    "- Были выполнены предсказания и метрика RMSE получилась равной 46.6.\n",
    "- Модель делает хорошие предсказания в случае отсутствия выбросов. Когда в конце августа значения начали в среднем возрастать, модель не предсказала это, поэтому значения стали менее точными."
   ]
  },
  {
   "cell_type": "markdown",
   "metadata": {},
   "source": [
    "## Выводы"
   ]
  },
  {
   "cell_type": "markdown",
   "metadata": {},
   "source": [
    "Таким образом, наше исследование было проведено в несколько этапов:\n",
    "- ознакомление с данными\n",
    "- предобработка данных (на этом этапе были проверены данные на пропущенные значения, дубликаты, аномалии, изменен тип данных даты).\n",
    "- количество заказов увеличивается к лету. \n",
    "- количество заказов резко уменьшается в период с 00.00 до 6 утра. Затем наблюдаются пики примерно в 10 часов утра и в 16. Самый большой пик - в 00 часов.\n",
    "- Данные представлены за 6 месяцев: с 1 марта 2018 года до 31 августа 2018 года.\n",
    "- количество заказов не зависит от месяца и дня недели.\n",
    "- лучшей на тренировочных данных стала модель CatBoost с параметрами 'iterations': 199, 'learning_rate': 0.05, 'eval_metric': 'RMSE', 'loss_function': 'RMSE', 'random_seed': 0, 'verbose': 100 и метрикой RMSE - 20.\n",
    "- Были выполнены предсказания и метрика RMSE получилась равной 46.6.\n",
    "- Модель делает хорошие предсказания в случае отсутствия выбросов. Когда в конце августа значения начали в среднем возрастать, модель не предсказала это, поэтому значения стали менее точными.\n",
    "\n",
    "Таким образом, данная модель обучена и готова для внедрения в бизнес.\n"
   ]
  }
 ],
 "metadata": {
  "ExecuteTimeLog": [
   {
    "duration": 12911,
    "start_time": "2024-03-14T08:47:43.831Z"
   },
   {
    "duration": 1517,
    "start_time": "2024-03-14T08:48:04.012Z"
   },
   {
    "duration": 2,
    "start_time": "2024-03-14T08:48:05.531Z"
   },
   {
    "duration": 4,
    "start_time": "2024-03-14T08:48:34.132Z"
   },
   {
    "duration": 172,
    "start_time": "2024-03-14T08:48:47.292Z"
   },
   {
    "duration": 6,
    "start_time": "2024-03-14T08:49:17.479Z"
   },
   {
    "duration": 76,
    "start_time": "2024-03-14T08:49:19.290Z"
   },
   {
    "duration": 3,
    "start_time": "2024-03-14T08:53:52.539Z"
   },
   {
    "duration": 57,
    "start_time": "2024-03-14T08:53:52.655Z"
   },
   {
    "duration": 5,
    "start_time": "2024-03-14T08:56:36.263Z"
   },
   {
    "duration": 668,
    "start_time": "2024-03-14T08:57:16.133Z"
   },
   {
    "duration": 732,
    "start_time": "2024-03-14T08:57:34.505Z"
   },
   {
    "duration": 9,
    "start_time": "2024-03-14T08:58:10.688Z"
   },
   {
    "duration": 5,
    "start_time": "2024-03-14T08:58:37.015Z"
   },
   {
    "duration": 5,
    "start_time": "2024-03-14T08:58:39.003Z"
   },
   {
    "duration": 200,
    "start_time": "2024-03-14T08:58:40.314Z"
   },
   {
    "duration": 4,
    "start_time": "2024-03-14T08:59:15.711Z"
   },
   {
    "duration": 6,
    "start_time": "2024-03-14T08:59:17.353Z"
   },
   {
    "duration": 5,
    "start_time": "2024-03-14T08:59:30.701Z"
   },
   {
    "duration": 5,
    "start_time": "2024-03-14T08:59:31.405Z"
   },
   {
    "duration": 4,
    "start_time": "2024-03-14T09:00:24.104Z"
   },
   {
    "duration": 8682,
    "start_time": "2024-03-14T09:00:49.659Z"
   },
   {
    "duration": 1449,
    "start_time": "2024-03-14T09:00:58.343Z"
   },
   {
    "duration": 4,
    "start_time": "2024-03-14T09:00:59.794Z"
   },
   {
    "duration": 5,
    "start_time": "2024-03-14T09:00:59.801Z"
   },
   {
    "duration": 65,
    "start_time": "2024-03-14T09:00:59.808Z"
   },
   {
    "duration": 4,
    "start_time": "2024-03-14T09:00:59.875Z"
   },
   {
    "duration": 9,
    "start_time": "2024-03-14T09:00:59.880Z"
   },
   {
    "duration": 8325,
    "start_time": "2024-03-14T09:02:18.085Z"
   },
   {
    "duration": 1392,
    "start_time": "2024-03-14T09:02:26.413Z"
   },
   {
    "duration": 4,
    "start_time": "2024-03-14T09:02:27.807Z"
   },
   {
    "duration": 5,
    "start_time": "2024-03-14T09:02:27.813Z"
   },
   {
    "duration": 68,
    "start_time": "2024-03-14T09:02:27.820Z"
   },
   {
    "duration": 9,
    "start_time": "2024-03-14T09:02:27.890Z"
   },
   {
    "duration": 12,
    "start_time": "2024-03-14T09:02:27.903Z"
   },
   {
    "duration": 250,
    "start_time": "2024-03-14T09:02:27.918Z"
   },
   {
    "duration": 8,
    "start_time": "2024-03-14T09:02:55.738Z"
   },
   {
    "duration": 255,
    "start_time": "2024-03-14T09:02:57.500Z"
   },
   {
    "duration": 7,
    "start_time": "2024-03-14T09:03:39.259Z"
   },
   {
    "duration": 345,
    "start_time": "2024-03-14T09:03:45.114Z"
   },
   {
    "duration": 24,
    "start_time": "2024-03-14T09:05:25.516Z"
   },
   {
    "duration": 128,
    "start_time": "2024-03-14T09:05:47.463Z"
   },
   {
    "duration": 8533,
    "start_time": "2024-03-14T09:05:54.433Z"
   },
   {
    "duration": 1495,
    "start_time": "2024-03-14T09:06:02.969Z"
   },
   {
    "duration": 4,
    "start_time": "2024-03-14T09:06:04.466Z"
   },
   {
    "duration": 8,
    "start_time": "2024-03-14T09:06:04.472Z"
   },
   {
    "duration": 71,
    "start_time": "2024-03-14T09:06:04.482Z"
   },
   {
    "duration": 124,
    "start_time": "2024-03-14T09:06:04.555Z"
   },
   {
    "duration": 0,
    "start_time": "2024-03-14T09:06:04.680Z"
   },
   {
    "duration": 0,
    "start_time": "2024-03-14T09:06:04.681Z"
   },
   {
    "duration": 0,
    "start_time": "2024-03-14T09:06:04.682Z"
   },
   {
    "duration": 0,
    "start_time": "2024-03-14T09:06:04.688Z"
   },
   {
    "duration": 9,
    "start_time": "2024-03-14T09:06:20.401Z"
   },
   {
    "duration": 8620,
    "start_time": "2024-03-14T09:06:28.454Z"
   },
   {
    "duration": 1365,
    "start_time": "2024-03-14T09:06:37.077Z"
   },
   {
    "duration": 3,
    "start_time": "2024-03-14T09:06:38.444Z"
   },
   {
    "duration": 8,
    "start_time": "2024-03-14T09:06:38.449Z"
   },
   {
    "duration": 87,
    "start_time": "2024-03-14T09:06:38.458Z"
   },
   {
    "duration": 4,
    "start_time": "2024-03-14T09:06:38.548Z"
   },
   {
    "duration": 10,
    "start_time": "2024-03-14T09:06:38.554Z"
   },
   {
    "duration": 311,
    "start_time": "2024-03-14T09:06:38.565Z"
   },
   {
    "duration": 14,
    "start_time": "2024-03-14T09:06:38.878Z"
   },
   {
    "duration": 314,
    "start_time": "2024-03-14T09:06:38.895Z"
   },
   {
    "duration": 183,
    "start_time": "2024-03-14T09:06:39.211Z"
   },
   {
    "duration": 4,
    "start_time": "2024-03-14T09:07:17.512Z"
   },
   {
    "duration": 9,
    "start_time": "2024-03-14T09:07:25.935Z"
   },
   {
    "duration": 13198,
    "start_time": "2024-03-14T13:08:01.319Z"
   },
   {
    "duration": 1556,
    "start_time": "2024-03-14T13:08:14.520Z"
   },
   {
    "duration": 3,
    "start_time": "2024-03-14T13:08:16.080Z"
   },
   {
    "duration": 24,
    "start_time": "2024-03-14T13:08:16.086Z"
   },
   {
    "duration": 169,
    "start_time": "2024-03-14T13:08:16.113Z"
   },
   {
    "duration": 5,
    "start_time": "2024-03-14T13:08:16.284Z"
   },
   {
    "duration": 11,
    "start_time": "2024-03-14T13:08:16.291Z"
   },
   {
    "duration": 3,
    "start_time": "2024-03-14T13:08:16.304Z"
   },
   {
    "duration": 26,
    "start_time": "2024-03-14T13:08:16.309Z"
   },
   {
    "duration": 274,
    "start_time": "2024-03-14T13:08:16.337Z"
   },
   {
    "duration": 7,
    "start_time": "2024-03-14T13:08:16.612Z"
   },
   {
    "duration": 358,
    "start_time": "2024-03-14T13:08:16.620Z"
   },
   {
    "duration": 137,
    "start_time": "2024-03-14T13:08:16.980Z"
   },
   {
    "duration": 8328,
    "start_time": "2024-03-14T13:09:16.731Z"
   },
   {
    "duration": 1393,
    "start_time": "2024-03-14T13:09:25.061Z"
   },
   {
    "duration": 3,
    "start_time": "2024-03-14T13:09:26.456Z"
   },
   {
    "duration": 7,
    "start_time": "2024-03-14T13:09:26.461Z"
   },
   {
    "duration": 80,
    "start_time": "2024-03-14T13:09:26.469Z"
   },
   {
    "duration": 4,
    "start_time": "2024-03-14T13:09:26.550Z"
   },
   {
    "duration": 4,
    "start_time": "2024-03-14T13:09:26.556Z"
   },
   {
    "duration": 17,
    "start_time": "2024-03-14T13:09:26.562Z"
   },
   {
    "duration": 8,
    "start_time": "2024-03-14T13:09:26.581Z"
   },
   {
    "duration": 4,
    "start_time": "2024-03-14T13:09:26.591Z"
   },
   {
    "duration": 22,
    "start_time": "2024-03-14T13:09:26.597Z"
   },
   {
    "duration": 249,
    "start_time": "2024-03-14T13:09:26.621Z"
   },
   {
    "duration": 5,
    "start_time": "2024-03-14T13:09:26.872Z"
   },
   {
    "duration": 297,
    "start_time": "2024-03-14T13:09:26.879Z"
   },
   {
    "duration": 134,
    "start_time": "2024-03-14T13:09:27.178Z"
   },
   {
    "duration": 7,
    "start_time": "2024-03-14T13:12:36.167Z"
   },
   {
    "duration": 8462,
    "start_time": "2024-03-14T13:16:10.808Z"
   },
   {
    "duration": 1374,
    "start_time": "2024-03-14T13:16:19.273Z"
   },
   {
    "duration": 3,
    "start_time": "2024-03-14T13:16:20.649Z"
   },
   {
    "duration": 5,
    "start_time": "2024-03-14T13:16:20.654Z"
   },
   {
    "duration": 69,
    "start_time": "2024-03-14T13:16:20.661Z"
   },
   {
    "duration": 4,
    "start_time": "2024-03-14T13:16:20.731Z"
   },
   {
    "duration": 17,
    "start_time": "2024-03-14T13:16:20.737Z"
   },
   {
    "duration": 7,
    "start_time": "2024-03-14T13:16:20.755Z"
   },
   {
    "duration": 17,
    "start_time": "2024-03-14T13:16:20.763Z"
   },
   {
    "duration": 7,
    "start_time": "2024-03-14T13:16:20.783Z"
   },
   {
    "duration": 21,
    "start_time": "2024-03-14T13:16:20.791Z"
   },
   {
    "duration": 10,
    "start_time": "2024-03-14T13:16:20.814Z"
   },
   {
    "duration": 263,
    "start_time": "2024-03-14T13:16:20.826Z"
   },
   {
    "duration": 5,
    "start_time": "2024-03-14T13:16:21.091Z"
   },
   {
    "duration": 277,
    "start_time": "2024-03-14T13:16:21.098Z"
   },
   {
    "duration": 132,
    "start_time": "2024-03-14T13:16:21.377Z"
   },
   {
    "duration": 8409,
    "start_time": "2024-03-14T13:16:50.927Z"
   },
   {
    "duration": 1341,
    "start_time": "2024-03-14T13:16:59.339Z"
   },
   {
    "duration": 4,
    "start_time": "2024-03-14T13:17:00.681Z"
   },
   {
    "duration": 36,
    "start_time": "2024-03-14T13:17:00.686Z"
   },
   {
    "duration": 126,
    "start_time": "2024-03-14T13:17:00.723Z"
   },
   {
    "duration": 3,
    "start_time": "2024-03-14T13:17:00.851Z"
   },
   {
    "duration": 50,
    "start_time": "2024-03-14T13:17:00.856Z"
   },
   {
    "duration": 38,
    "start_time": "2024-03-14T13:17:00.908Z"
   },
   {
    "duration": 202,
    "start_time": "2024-03-14T13:17:00.947Z"
   },
   {
    "duration": 0,
    "start_time": "2024-03-14T13:17:01.151Z"
   },
   {
    "duration": 0,
    "start_time": "2024-03-14T13:17:01.152Z"
   },
   {
    "duration": 0,
    "start_time": "2024-03-14T13:17:01.154Z"
   },
   {
    "duration": 0,
    "start_time": "2024-03-14T13:17:01.155Z"
   },
   {
    "duration": 0,
    "start_time": "2024-03-14T13:17:01.156Z"
   },
   {
    "duration": 0,
    "start_time": "2024-03-14T13:17:01.158Z"
   },
   {
    "duration": 0,
    "start_time": "2024-03-14T13:17:01.159Z"
   },
   {
    "duration": 8451,
    "start_time": "2024-03-14T13:17:17.657Z"
   },
   {
    "duration": 1349,
    "start_time": "2024-03-14T13:17:26.110Z"
   },
   {
    "duration": 4,
    "start_time": "2024-03-14T13:17:27.461Z"
   },
   {
    "duration": 24,
    "start_time": "2024-03-14T13:17:27.468Z"
   },
   {
    "duration": 96,
    "start_time": "2024-03-14T13:17:27.494Z"
   },
   {
    "duration": 4,
    "start_time": "2024-03-14T13:17:27.592Z"
   },
   {
    "duration": 35,
    "start_time": "2024-03-14T13:17:27.599Z"
   },
   {
    "duration": 25,
    "start_time": "2024-03-14T13:17:27.635Z"
   },
   {
    "duration": 33,
    "start_time": "2024-03-14T13:17:27.661Z"
   },
   {
    "duration": 33,
    "start_time": "2024-03-14T13:17:27.697Z"
   },
   {
    "duration": 33,
    "start_time": "2024-03-14T13:17:27.731Z"
   },
   {
    "duration": 13,
    "start_time": "2024-03-14T13:17:27.766Z"
   },
   {
    "duration": 252,
    "start_time": "2024-03-14T13:17:27.781Z"
   },
   {
    "duration": 6,
    "start_time": "2024-03-14T13:17:28.034Z"
   },
   {
    "duration": 313,
    "start_time": "2024-03-14T13:17:28.041Z"
   },
   {
    "duration": 134,
    "start_time": "2024-03-14T13:17:28.356Z"
   },
   {
    "duration": 7,
    "start_time": "2024-03-14T13:19:08.742Z"
   },
   {
    "duration": 8,
    "start_time": "2024-03-14T13:20:21.407Z"
   },
   {
    "duration": 10,
    "start_time": "2024-03-14T13:20:26.804Z"
   },
   {
    "duration": 6,
    "start_time": "2024-03-14T13:21:35.490Z"
   },
   {
    "duration": 33,
    "start_time": "2024-03-14T13:21:42.526Z"
   },
   {
    "duration": 1598,
    "start_time": "2024-03-14T13:23:04.202Z"
   },
   {
    "duration": 20,
    "start_time": "2024-03-14T13:24:29.166Z"
   },
   {
    "duration": 93,
    "start_time": "2024-03-14T13:25:53.773Z"
   },
   {
    "duration": 8,
    "start_time": "2024-03-14T13:26:29.692Z"
   },
   {
    "duration": 22,
    "start_time": "2024-03-14T13:27:52.767Z"
   },
   {
    "duration": 22,
    "start_time": "2024-03-14T13:31:12.025Z"
   },
   {
    "duration": 8434,
    "start_time": "2024-03-14T13:31:20.449Z"
   },
   {
    "duration": 1369,
    "start_time": "2024-03-14T13:31:28.886Z"
   },
   {
    "duration": 3,
    "start_time": "2024-03-14T13:31:30.257Z"
   },
   {
    "duration": 56,
    "start_time": "2024-03-14T13:31:30.261Z"
   },
   {
    "duration": 201,
    "start_time": "2024-03-14T13:31:30.320Z"
   },
   {
    "duration": 5,
    "start_time": "2024-03-14T13:31:30.523Z"
   },
   {
    "duration": 93,
    "start_time": "2024-03-14T13:31:30.529Z"
   },
   {
    "duration": 192,
    "start_time": "2024-03-14T13:31:30.624Z"
   },
   {
    "duration": 62,
    "start_time": "2024-03-14T13:31:30.818Z"
   },
   {
    "duration": 69,
    "start_time": "2024-03-14T13:31:30.881Z"
   },
   {
    "duration": 60,
    "start_time": "2024-03-14T13:31:30.952Z"
   },
   {
    "duration": 329,
    "start_time": "2024-03-14T13:31:31.014Z"
   },
   {
    "duration": 10,
    "start_time": "2024-03-14T13:31:31.344Z"
   },
   {
    "duration": 78,
    "start_time": "2024-03-14T13:31:31.356Z"
   },
   {
    "duration": 165,
    "start_time": "2024-03-14T13:31:31.435Z"
   },
   {
    "duration": 217,
    "start_time": "2024-03-14T13:31:31.602Z"
   },
   {
    "duration": 12961,
    "start_time": "2024-03-14T18:20:48.907Z"
   },
   {
    "duration": 1615,
    "start_time": "2024-03-14T18:21:01.870Z"
   },
   {
    "duration": 3,
    "start_time": "2024-03-14T18:21:03.487Z"
   },
   {
    "duration": 123,
    "start_time": "2024-03-14T18:21:03.491Z"
   },
   {
    "duration": 230,
    "start_time": "2024-03-14T18:21:03.617Z"
   },
   {
    "duration": 3,
    "start_time": "2024-03-14T18:21:03.849Z"
   },
   {
    "duration": 27,
    "start_time": "2024-03-14T18:21:03.853Z"
   },
   {
    "duration": 19,
    "start_time": "2024-03-14T18:21:03.882Z"
   },
   {
    "duration": 9,
    "start_time": "2024-03-14T18:21:03.903Z"
   },
   {
    "duration": 6,
    "start_time": "2024-03-14T18:21:03.914Z"
   },
   {
    "duration": 6,
    "start_time": "2024-03-14T18:21:03.922Z"
   },
   {
    "duration": 283,
    "start_time": "2024-03-14T18:21:03.929Z"
   },
   {
    "duration": 9,
    "start_time": "2024-03-14T18:21:04.214Z"
   },
   {
    "duration": 6,
    "start_time": "2024-03-14T18:21:04.226Z"
   },
   {
    "duration": 7,
    "start_time": "2024-03-14T18:21:04.233Z"
   },
   {
    "duration": 153,
    "start_time": "2024-03-14T18:21:04.242Z"
   },
   {
    "duration": 6,
    "start_time": "2024-03-14T18:22:56.502Z"
   },
   {
    "duration": 19,
    "start_time": "2024-03-14T18:23:26.376Z"
   },
   {
    "duration": 18,
    "start_time": "2024-03-14T18:24:08.138Z"
   },
   {
    "duration": 19,
    "start_time": "2024-03-14T18:24:52.087Z"
   },
   {
    "duration": 21,
    "start_time": "2024-03-14T18:25:17.545Z"
   },
   {
    "duration": 22,
    "start_time": "2024-03-14T18:25:23.032Z"
   },
   {
    "duration": 4,
    "start_time": "2024-03-14T18:27:48.751Z"
   },
   {
    "duration": 7,
    "start_time": "2024-03-14T18:27:50.168Z"
   },
   {
    "duration": 9,
    "start_time": "2024-03-14T18:27:50.744Z"
   },
   {
    "duration": 8413,
    "start_time": "2024-03-14T18:27:56.555Z"
   },
   {
    "duration": 1426,
    "start_time": "2024-03-14T18:28:04.970Z"
   },
   {
    "duration": 3,
    "start_time": "2024-03-14T18:28:06.397Z"
   },
   {
    "duration": 8,
    "start_time": "2024-03-14T18:28:06.402Z"
   },
   {
    "duration": 66,
    "start_time": "2024-03-14T18:28:06.411Z"
   },
   {
    "duration": 3,
    "start_time": "2024-03-14T18:28:06.479Z"
   },
   {
    "duration": 11,
    "start_time": "2024-03-14T18:28:06.484Z"
   },
   {
    "duration": 4,
    "start_time": "2024-03-14T18:28:06.497Z"
   },
   {
    "duration": 12,
    "start_time": "2024-03-14T18:28:06.502Z"
   },
   {
    "duration": 7,
    "start_time": "2024-03-14T18:28:06.517Z"
   },
   {
    "duration": 6,
    "start_time": "2024-03-14T18:28:06.526Z"
   },
   {
    "duration": 303,
    "start_time": "2024-03-14T18:28:06.533Z"
   },
   {
    "duration": 16,
    "start_time": "2024-03-14T18:28:06.838Z"
   },
   {
    "duration": 11,
    "start_time": "2024-03-14T18:28:06.856Z"
   },
   {
    "duration": 24,
    "start_time": "2024-03-14T18:28:06.869Z"
   },
   {
    "duration": 141,
    "start_time": "2024-03-14T18:28:06.895Z"
   },
   {
    "duration": 0,
    "start_time": "2024-03-14T18:28:07.038Z"
   },
   {
    "duration": 23,
    "start_time": "2024-03-14T18:28:45.784Z"
   },
   {
    "duration": 33,
    "start_time": "2024-03-14T18:29:16.303Z"
   },
   {
    "duration": 6,
    "start_time": "2024-03-14T18:29:57.910Z"
   },
   {
    "duration": 7,
    "start_time": "2024-03-14T18:29:59.546Z"
   },
   {
    "duration": 9,
    "start_time": "2024-03-14T18:30:00.125Z"
   },
   {
    "duration": 8295,
    "start_time": "2024-03-14T18:30:06.294Z"
   },
   {
    "duration": 1429,
    "start_time": "2024-03-14T18:30:14.592Z"
   },
   {
    "duration": 3,
    "start_time": "2024-03-14T18:30:16.023Z"
   },
   {
    "duration": 22,
    "start_time": "2024-03-14T18:30:16.028Z"
   },
   {
    "duration": 82,
    "start_time": "2024-03-14T18:30:16.053Z"
   },
   {
    "duration": 4,
    "start_time": "2024-03-14T18:30:16.136Z"
   },
   {
    "duration": 37,
    "start_time": "2024-03-14T18:30:16.142Z"
   },
   {
    "duration": 16,
    "start_time": "2024-03-14T18:30:16.181Z"
   },
   {
    "duration": 18,
    "start_time": "2024-03-14T18:30:16.199Z"
   },
   {
    "duration": 14,
    "start_time": "2024-03-14T18:30:16.219Z"
   },
   {
    "duration": 9,
    "start_time": "2024-03-14T18:30:16.235Z"
   },
   {
    "duration": 291,
    "start_time": "2024-03-14T18:30:16.246Z"
   },
   {
    "duration": 9,
    "start_time": "2024-03-14T18:30:16.539Z"
   },
   {
    "duration": 11,
    "start_time": "2024-03-14T18:30:16.550Z"
   },
   {
    "duration": 17,
    "start_time": "2024-03-14T18:30:16.562Z"
   },
   {
    "duration": 142,
    "start_time": "2024-03-14T18:30:16.581Z"
   },
   {
    "duration": 0,
    "start_time": "2024-03-14T18:30:16.725Z"
   },
   {
    "duration": 13597,
    "start_time": "2024-03-18T12:18:58.346Z"
   },
   {
    "duration": 1639,
    "start_time": "2024-03-18T12:19:11.946Z"
   },
   {
    "duration": 4,
    "start_time": "2024-03-18T12:19:13.586Z"
   },
   {
    "duration": 14,
    "start_time": "2024-03-18T12:19:13.591Z"
   },
   {
    "duration": 157,
    "start_time": "2024-03-18T12:19:13.607Z"
   },
   {
    "duration": 3,
    "start_time": "2024-03-18T12:19:13.766Z"
   },
   {
    "duration": 12,
    "start_time": "2024-03-18T12:19:13.770Z"
   },
   {
    "duration": 4,
    "start_time": "2024-03-18T12:19:13.784Z"
   },
   {
    "duration": 11,
    "start_time": "2024-03-18T12:19:13.790Z"
   },
   {
    "duration": 7,
    "start_time": "2024-03-18T12:19:13.803Z"
   },
   {
    "duration": 8,
    "start_time": "2024-03-18T12:19:13.811Z"
   },
   {
    "duration": 276,
    "start_time": "2024-03-18T12:19:13.821Z"
   },
   {
    "duration": 10,
    "start_time": "2024-03-18T12:19:14.099Z"
   },
   {
    "duration": 9,
    "start_time": "2024-03-18T12:19:14.111Z"
   },
   {
    "duration": 14,
    "start_time": "2024-03-18T12:19:14.122Z"
   },
   {
    "duration": 12,
    "start_time": "2024-03-18T12:19:14.139Z"
   },
   {
    "duration": 871,
    "start_time": "2024-03-18T12:19:14.153Z"
   },
   {
    "duration": 8534,
    "start_time": "2024-03-18T12:19:59.811Z"
   },
   {
    "duration": 1385,
    "start_time": "2024-03-18T12:20:08.348Z"
   },
   {
    "duration": 3,
    "start_time": "2024-03-18T12:20:09.735Z"
   },
   {
    "duration": 28,
    "start_time": "2024-03-18T12:20:09.740Z"
   },
   {
    "duration": 77,
    "start_time": "2024-03-18T12:20:09.770Z"
   },
   {
    "duration": 3,
    "start_time": "2024-03-18T12:20:09.849Z"
   },
   {
    "duration": 36,
    "start_time": "2024-03-18T12:20:09.853Z"
   },
   {
    "duration": 25,
    "start_time": "2024-03-18T12:20:09.891Z"
   },
   {
    "duration": 19,
    "start_time": "2024-03-18T12:20:09.918Z"
   },
   {
    "duration": 24,
    "start_time": "2024-03-18T12:20:09.939Z"
   },
   {
    "duration": 262,
    "start_time": "2024-03-18T12:20:09.964Z"
   },
   {
    "duration": 4,
    "start_time": "2024-03-18T12:20:10.228Z"
   },
   {
    "duration": 274,
    "start_time": "2024-03-18T12:20:10.233Z"
   },
   {
    "duration": 6,
    "start_time": "2024-03-18T12:20:10.508Z"
   },
   {
    "duration": 32,
    "start_time": "2024-03-18T12:20:10.516Z"
   },
   {
    "duration": 826,
    "start_time": "2024-03-18T12:20:10.550Z"
   },
   {
    "duration": 8715,
    "start_time": "2024-03-18T12:25:28.856Z"
   },
   {
    "duration": 1366,
    "start_time": "2024-03-18T12:25:37.575Z"
   },
   {
    "duration": 4,
    "start_time": "2024-03-18T12:25:38.943Z"
   },
   {
    "duration": 18,
    "start_time": "2024-03-18T12:25:38.950Z"
   },
   {
    "duration": 80,
    "start_time": "2024-03-18T12:25:38.970Z"
   },
   {
    "duration": 4,
    "start_time": "2024-03-18T12:25:39.052Z"
   },
   {
    "duration": 23,
    "start_time": "2024-03-18T12:25:39.058Z"
   },
   {
    "duration": 20,
    "start_time": "2024-03-18T12:25:39.082Z"
   },
   {
    "duration": 8,
    "start_time": "2024-03-18T12:25:39.104Z"
   },
   {
    "duration": 16,
    "start_time": "2024-03-18T12:25:39.115Z"
   },
   {
    "duration": 9,
    "start_time": "2024-03-18T12:25:39.132Z"
   },
   {
    "duration": 249,
    "start_time": "2024-03-18T12:25:39.144Z"
   },
   {
    "duration": 5,
    "start_time": "2024-03-18T12:25:39.395Z"
   },
   {
    "duration": 259,
    "start_time": "2024-03-18T12:25:39.402Z"
   },
   {
    "duration": 14,
    "start_time": "2024-03-18T12:25:39.663Z"
   },
   {
    "duration": 11,
    "start_time": "2024-03-18T12:25:39.679Z"
   },
   {
    "duration": 789,
    "start_time": "2024-03-18T12:25:39.692Z"
   },
   {
    "duration": 1885,
    "start_time": "2024-03-18T12:35:41.030Z"
   },
   {
    "duration": 9,
    "start_time": "2024-03-18T12:35:55.712Z"
   },
   {
    "duration": 7,
    "start_time": "2024-03-18T12:35:59.370Z"
   },
   {
    "duration": 7,
    "start_time": "2024-03-18T12:36:16.278Z"
   },
   {
    "duration": 8,
    "start_time": "2024-03-18T12:36:25.505Z"
   },
   {
    "duration": 9,
    "start_time": "2024-03-18T12:36:53.920Z"
   },
   {
    "duration": 21,
    "start_time": "2024-03-18T12:40:53.032Z"
   },
   {
    "duration": 209,
    "start_time": "2024-03-18T12:41:42.704Z"
   },
   {
    "duration": 213,
    "start_time": "2024-03-18T12:41:51.358Z"
   },
   {
    "duration": 13,
    "start_time": "2024-03-18T12:43:11.286Z"
   },
   {
    "duration": 345,
    "start_time": "2024-03-18T12:43:16.579Z"
   },
   {
    "duration": 369,
    "start_time": "2024-03-18T12:43:24.332Z"
   },
   {
    "duration": 242,
    "start_time": "2024-03-18T12:43:30.317Z"
   },
   {
    "duration": 363,
    "start_time": "2024-03-18T12:43:35.016Z"
   },
   {
    "duration": 165,
    "start_time": "2024-03-18T12:44:09.960Z"
   },
   {
    "duration": 152,
    "start_time": "2024-03-18T12:49:14.457Z"
   },
   {
    "duration": 5,
    "start_time": "2024-03-18T12:53:45.625Z"
   },
   {
    "duration": 9,
    "start_time": "2024-03-18T12:54:11.380Z"
   },
   {
    "duration": 6224,
    "start_time": "2024-03-18T12:59:55.789Z"
   },
   {
    "duration": 1457,
    "start_time": "2024-03-18T13:00:02.016Z"
   },
   {
    "duration": 5,
    "start_time": "2024-03-18T13:00:03.476Z"
   },
   {
    "duration": 3,
    "start_time": "2024-03-18T13:00:03.484Z"
   },
   {
    "duration": 94,
    "start_time": "2024-03-18T13:00:03.490Z"
   },
   {
    "duration": 7,
    "start_time": "2024-03-18T13:00:03.586Z"
   },
   {
    "duration": 29,
    "start_time": "2024-03-18T13:00:03.595Z"
   },
   {
    "duration": 7,
    "start_time": "2024-03-18T13:00:03.625Z"
   },
   {
    "duration": 17,
    "start_time": "2024-03-18T13:00:03.633Z"
   },
   {
    "duration": 32,
    "start_time": "2024-03-18T13:00:03.652Z"
   },
   {
    "duration": 36,
    "start_time": "2024-03-18T13:00:03.687Z"
   },
   {
    "duration": 291,
    "start_time": "2024-03-18T13:00:03.725Z"
   },
   {
    "duration": 4,
    "start_time": "2024-03-18T13:00:04.019Z"
   },
   {
    "duration": 293,
    "start_time": "2024-03-18T13:00:04.025Z"
   },
   {
    "duration": 7,
    "start_time": "2024-03-18T13:00:04.320Z"
   },
   {
    "duration": 19,
    "start_time": "2024-03-18T13:00:04.328Z"
   },
   {
    "duration": 40,
    "start_time": "2024-03-18T13:00:04.349Z"
   },
   {
    "duration": 875,
    "start_time": "2024-03-18T13:00:04.392Z"
   },
   {
    "duration": 277,
    "start_time": "2024-03-18T13:00:05.273Z"
   },
   {
    "duration": 194,
    "start_time": "2024-03-18T13:00:05.553Z"
   },
   {
    "duration": 169,
    "start_time": "2024-03-18T13:00:05.748Z"
   },
   {
    "duration": 6,
    "start_time": "2024-03-18T13:00:05.919Z"
   },
   {
    "duration": 2025,
    "start_time": "2024-03-18T13:00:05.927Z"
   },
   {
    "duration": 13,
    "start_time": "2024-03-18T13:00:46.590Z"
   },
   {
    "duration": 12,
    "start_time": "2024-03-18T13:00:58.305Z"
   },
   {
    "duration": 22,
    "start_time": "2024-03-18T13:01:09.890Z"
   },
   {
    "duration": 19,
    "start_time": "2024-03-18T13:01:20.287Z"
   },
   {
    "duration": 9,
    "start_time": "2024-03-18T13:01:26.482Z"
   },
   {
    "duration": 12,
    "start_time": "2024-03-18T13:01:49.778Z"
   },
   {
    "duration": 12,
    "start_time": "2024-03-18T13:04:59.430Z"
   },
   {
    "duration": 8,
    "start_time": "2024-03-18T13:06:13.524Z"
   },
   {
    "duration": 129,
    "start_time": "2024-03-18T13:06:20.458Z"
   },
   {
    "duration": 112,
    "start_time": "2024-03-18T13:07:14.798Z"
   },
   {
    "duration": 155,
    "start_time": "2024-03-18T13:07:30.347Z"
   },
   {
    "duration": 5,
    "start_time": "2024-03-18T13:08:04.723Z"
   },
   {
    "duration": 119,
    "start_time": "2024-03-18T13:08:08.327Z"
   },
   {
    "duration": 3,
    "start_time": "2024-03-18T13:10:28.244Z"
   },
   {
    "duration": 130,
    "start_time": "2024-03-18T13:10:36.790Z"
   },
   {
    "duration": 28,
    "start_time": "2024-03-18T13:12:30.170Z"
   },
   {
    "duration": 6199,
    "start_time": "2024-03-18T13:12:39.887Z"
   },
   {
    "duration": 1469,
    "start_time": "2024-03-18T13:12:46.090Z"
   },
   {
    "duration": 3,
    "start_time": "2024-03-18T13:12:47.560Z"
   },
   {
    "duration": 9,
    "start_time": "2024-03-18T13:12:47.565Z"
   },
   {
    "duration": 67,
    "start_time": "2024-03-18T13:12:47.576Z"
   },
   {
    "duration": 4,
    "start_time": "2024-03-18T13:12:47.644Z"
   },
   {
    "duration": 37,
    "start_time": "2024-03-18T13:12:47.649Z"
   },
   {
    "duration": 6,
    "start_time": "2024-03-18T13:12:47.689Z"
   },
   {
    "duration": 10,
    "start_time": "2024-03-18T13:12:47.698Z"
   },
   {
    "duration": 10,
    "start_time": "2024-03-18T13:12:47.709Z"
   },
   {
    "duration": 6,
    "start_time": "2024-03-18T13:12:47.721Z"
   },
   {
    "duration": 310,
    "start_time": "2024-03-18T13:12:47.728Z"
   },
   {
    "duration": 4,
    "start_time": "2024-03-18T13:12:48.040Z"
   },
   {
    "duration": 291,
    "start_time": "2024-03-18T13:12:48.046Z"
   },
   {
    "duration": 7,
    "start_time": "2024-03-18T13:12:48.338Z"
   },
   {
    "duration": 20,
    "start_time": "2024-03-18T13:12:48.347Z"
   },
   {
    "duration": 18,
    "start_time": "2024-03-18T13:12:48.374Z"
   },
   {
    "duration": 827,
    "start_time": "2024-03-18T13:12:48.395Z"
   },
   {
    "duration": 274,
    "start_time": "2024-03-18T13:12:49.224Z"
   },
   {
    "duration": 167,
    "start_time": "2024-03-18T13:12:49.500Z"
   },
   {
    "duration": 165,
    "start_time": "2024-03-18T13:12:49.672Z"
   },
   {
    "duration": 7,
    "start_time": "2024-03-18T13:12:49.839Z"
   },
   {
    "duration": 50,
    "start_time": "2024-03-18T13:12:49.847Z"
   },
   {
    "duration": 13,
    "start_time": "2024-03-18T13:12:49.898Z"
   },
   {
    "duration": 17,
    "start_time": "2024-03-18T13:12:49.913Z"
   },
   {
    "duration": 7,
    "start_time": "2024-03-18T13:12:49.932Z"
   },
   {
    "duration": 20,
    "start_time": "2024-03-18T13:12:49.941Z"
   },
   {
    "duration": 22,
    "start_time": "2024-03-18T13:12:49.963Z"
   },
   {
    "duration": 257,
    "start_time": "2024-03-18T13:12:49.987Z"
   },
   {
    "duration": 19,
    "start_time": "2024-03-18T13:19:20.828Z"
   },
   {
    "duration": 6,
    "start_time": "2024-03-18T13:19:56.797Z"
   },
   {
    "duration": 27,
    "start_time": "2024-03-18T13:20:01.575Z"
   },
   {
    "duration": 17,
    "start_time": "2024-03-18T13:20:17.335Z"
   },
   {
    "duration": 22,
    "start_time": "2024-03-18T13:20:31.474Z"
   },
   {
    "duration": 12,
    "start_time": "2024-03-18T13:22:52.222Z"
   },
   {
    "duration": 6,
    "start_time": "2024-03-18T13:23:04.054Z"
   },
   {
    "duration": 4,
    "start_time": "2024-03-18T13:23:11.190Z"
   },
   {
    "duration": 11,
    "start_time": "2024-03-18T13:25:27.003Z"
   },
   {
    "duration": 6,
    "start_time": "2024-03-18T13:26:10.840Z"
   },
   {
    "duration": 13,
    "start_time": "2024-03-18T13:26:15.640Z"
   },
   {
    "duration": 10,
    "start_time": "2024-03-18T13:26:31.995Z"
   },
   {
    "duration": 4,
    "start_time": "2024-03-18T13:26:39.078Z"
   },
   {
    "duration": 6,
    "start_time": "2024-03-18T13:26:49.579Z"
   },
   {
    "duration": 4,
    "start_time": "2024-03-18T13:26:59.696Z"
   },
   {
    "duration": 15,
    "start_time": "2024-03-18T13:27:40.869Z"
   },
   {
    "duration": 14,
    "start_time": "2024-03-18T13:27:54.168Z"
   },
   {
    "duration": 4,
    "start_time": "2024-03-18T13:28:11.727Z"
   },
   {
    "duration": 38,
    "start_time": "2024-03-18T13:28:33.469Z"
   },
   {
    "duration": 3,
    "start_time": "2024-03-18T13:29:55.736Z"
   },
   {
    "duration": 25,
    "start_time": "2024-03-18T13:29:56.726Z"
   },
   {
    "duration": 5,
    "start_time": "2024-03-18T13:30:34.131Z"
   },
   {
    "duration": 3,
    "start_time": "2024-03-18T13:30:35.237Z"
   },
   {
    "duration": 5,
    "start_time": "2024-03-18T13:30:35.374Z"
   },
   {
    "duration": 4,
    "start_time": "2024-03-18T13:30:35.719Z"
   },
   {
    "duration": 26,
    "start_time": "2024-03-18T13:30:35.736Z"
   },
   {
    "duration": 30,
    "start_time": "2024-03-18T13:30:36.049Z"
   },
   {
    "duration": 4,
    "start_time": "2024-03-18T13:35:55.126Z"
   },
   {
    "duration": 3,
    "start_time": "2024-03-18T13:35:57.899Z"
   },
   {
    "duration": 4,
    "start_time": "2024-03-18T13:35:58.653Z"
   },
   {
    "duration": 4,
    "start_time": "2024-03-18T13:36:01.702Z"
   },
   {
    "duration": 10097,
    "start_time": "2024-03-18T13:36:05.603Z"
   },
   {
    "duration": 3,
    "start_time": "2024-03-18T13:37:17.382Z"
   },
   {
    "duration": 3,
    "start_time": "2024-03-18T13:37:18.034Z"
   },
   {
    "duration": 6,
    "start_time": "2024-03-18T13:37:18.191Z"
   },
   {
    "duration": 3,
    "start_time": "2024-03-18T13:37:18.314Z"
   },
   {
    "duration": 10199,
    "start_time": "2024-03-18T13:37:18.814Z"
   },
   {
    "duration": 11,
    "start_time": "2024-03-18T13:39:29.842Z"
   },
   {
    "duration": 7,
    "start_time": "2024-03-18T13:39:38.097Z"
   },
   {
    "duration": 7,
    "start_time": "2024-03-18T13:39:38.578Z"
   },
   {
    "duration": 5,
    "start_time": "2024-03-18T13:39:38.999Z"
   },
   {
    "duration": 7,
    "start_time": "2024-03-18T13:39:39.167Z"
   },
   {
    "duration": 3,
    "start_time": "2024-03-18T13:39:40.117Z"
   },
   {
    "duration": 2,
    "start_time": "2024-03-18T13:39:40.479Z"
   },
   {
    "duration": 4,
    "start_time": "2024-03-18T13:39:40.978Z"
   },
   {
    "duration": 4,
    "start_time": "2024-03-18T13:39:41.194Z"
   },
   {
    "duration": 1204,
    "start_time": "2024-03-18T13:39:42.028Z"
   },
   {
    "duration": 12,
    "start_time": "2024-03-18T13:40:31.701Z"
   },
   {
    "duration": 11,
    "start_time": "2024-03-18T13:41:11.823Z"
   },
   {
    "duration": 3,
    "start_time": "2024-03-18T13:41:23.329Z"
   },
   {
    "duration": 3,
    "start_time": "2024-03-18T13:41:26.790Z"
   },
   {
    "duration": 1265,
    "start_time": "2024-03-18T13:41:27.358Z"
   },
   {
    "duration": 10,
    "start_time": "2024-03-18T13:41:28.625Z"
   },
   {
    "duration": 16,
    "start_time": "2024-03-18T13:42:10.596Z"
   },
   {
    "duration": 16,
    "start_time": "2024-03-18T13:42:19.680Z"
   },
   {
    "duration": 8490,
    "start_time": "2024-03-18T13:44:20.094Z"
   },
   {
    "duration": 22,
    "start_time": "2024-03-18T13:45:55.708Z"
   },
   {
    "duration": 5,
    "start_time": "2024-03-18T13:46:14.622Z"
   },
   {
    "duration": 10,
    "start_time": "2024-03-18T13:46:41.491Z"
   },
   {
    "duration": 54,
    "start_time": "2024-03-18T13:47:10.977Z"
   },
   {
    "duration": 11,
    "start_time": "2024-03-18T13:47:34.816Z"
   },
   {
    "duration": 3,
    "start_time": "2024-03-18T13:47:49.633Z"
   },
   {
    "duration": 8001,
    "start_time": "2024-03-18T13:48:01.756Z"
   },
   {
    "duration": 15,
    "start_time": "2024-03-18T13:48:41.373Z"
   },
   {
    "duration": 4,
    "start_time": "2024-03-18T13:49:16.646Z"
   },
   {
    "duration": 4,
    "start_time": "2024-03-18T13:49:36.764Z"
   },
   {
    "duration": 3,
    "start_time": "2024-03-18T13:50:02.202Z"
   },
   {
    "duration": 1786,
    "start_time": "2024-03-18T13:50:12.530Z"
   },
   {
    "duration": 1261,
    "start_time": "2024-03-18T13:50:22.221Z"
   },
   {
    "duration": 3,
    "start_time": "2024-03-18T14:33:00.266Z"
   },
   {
    "duration": 3,
    "start_time": "2024-03-18T14:33:00.716Z"
   },
   {
    "duration": 1517,
    "start_time": "2024-03-18T14:33:00.949Z"
   },
   {
    "duration": 7,
    "start_time": "2024-03-18T14:37:21.579Z"
   },
   {
    "duration": 13,
    "start_time": "2024-03-18T14:37:38.563Z"
   },
   {
    "duration": 5,
    "start_time": "2024-03-18T14:37:42.314Z"
   },
   {
    "duration": 8567,
    "start_time": "2024-03-18T14:38:19.190Z"
   },
   {
    "duration": 1399,
    "start_time": "2024-03-18T14:38:27.760Z"
   },
   {
    "duration": 5,
    "start_time": "2024-03-18T14:38:29.160Z"
   },
   {
    "duration": 6,
    "start_time": "2024-03-18T14:38:29.167Z"
   },
   {
    "duration": 68,
    "start_time": "2024-03-18T14:38:29.175Z"
   },
   {
    "duration": 4,
    "start_time": "2024-03-18T14:38:29.244Z"
   },
   {
    "duration": 22,
    "start_time": "2024-03-18T14:38:29.249Z"
   },
   {
    "duration": 5,
    "start_time": "2024-03-18T14:38:29.273Z"
   },
   {
    "duration": 18,
    "start_time": "2024-03-18T14:38:29.279Z"
   },
   {
    "duration": 21,
    "start_time": "2024-03-18T14:38:29.299Z"
   },
   {
    "duration": 10,
    "start_time": "2024-03-18T14:38:29.322Z"
   },
   {
    "duration": 260,
    "start_time": "2024-03-18T14:38:29.334Z"
   },
   {
    "duration": 4,
    "start_time": "2024-03-18T14:38:29.596Z"
   },
   {
    "duration": 243,
    "start_time": "2024-03-18T14:38:29.601Z"
   },
   {
    "duration": 7,
    "start_time": "2024-03-18T14:38:29.845Z"
   },
   {
    "duration": 32,
    "start_time": "2024-03-18T14:38:29.854Z"
   },
   {
    "duration": 26,
    "start_time": "2024-03-18T14:38:29.887Z"
   },
   {
    "duration": 834,
    "start_time": "2024-03-18T14:38:29.914Z"
   },
   {
    "duration": 223,
    "start_time": "2024-03-18T14:38:30.749Z"
   },
   {
    "duration": 151,
    "start_time": "2024-03-18T14:38:30.974Z"
   },
   {
    "duration": 151,
    "start_time": "2024-03-18T14:38:31.126Z"
   },
   {
    "duration": 6,
    "start_time": "2024-03-18T14:38:31.278Z"
   },
   {
    "duration": 50,
    "start_time": "2024-03-18T14:38:31.286Z"
   },
   {
    "duration": 32,
    "start_time": "2024-03-18T14:38:31.338Z"
   },
   {
    "duration": 46,
    "start_time": "2024-03-18T14:38:31.372Z"
   },
   {
    "duration": 47,
    "start_time": "2024-03-18T14:38:31.420Z"
   },
   {
    "duration": 88,
    "start_time": "2024-03-18T14:38:31.469Z"
   },
   {
    "duration": 55,
    "start_time": "2024-03-18T14:38:31.562Z"
   },
   {
    "duration": 56,
    "start_time": "2024-03-18T14:38:31.619Z"
   },
   {
    "duration": 50,
    "start_time": "2024-03-18T14:38:31.677Z"
   },
   {
    "duration": 80,
    "start_time": "2024-03-18T14:38:31.729Z"
   },
   {
    "duration": 9882,
    "start_time": "2024-03-18T14:38:31.811Z"
   },
   {
    "duration": 0,
    "start_time": "2024-03-18T14:38:41.695Z"
   },
   {
    "duration": 0,
    "start_time": "2024-03-18T14:38:41.696Z"
   },
   {
    "duration": 0,
    "start_time": "2024-03-18T14:38:41.698Z"
   },
   {
    "duration": 0,
    "start_time": "2024-03-18T14:38:41.699Z"
   },
   {
    "duration": 0,
    "start_time": "2024-03-18T14:38:41.700Z"
   },
   {
    "duration": 0,
    "start_time": "2024-03-18T14:38:41.701Z"
   },
   {
    "duration": 0,
    "start_time": "2024-03-18T14:38:41.702Z"
   },
   {
    "duration": 0,
    "start_time": "2024-03-18T14:38:41.704Z"
   },
   {
    "duration": 0,
    "start_time": "2024-03-18T14:38:41.705Z"
   },
   {
    "duration": 0,
    "start_time": "2024-03-18T14:38:41.706Z"
   },
   {
    "duration": 0,
    "start_time": "2024-03-18T14:38:41.707Z"
   },
   {
    "duration": 0,
    "start_time": "2024-03-18T14:38:41.708Z"
   },
   {
    "duration": 9,
    "start_time": "2024-03-18T14:41:15.386Z"
   },
   {
    "duration": 7,
    "start_time": "2024-03-18T14:41:17.937Z"
   },
   {
    "duration": 8,
    "start_time": "2024-03-18T14:41:18.168Z"
   },
   {
    "duration": 5,
    "start_time": "2024-03-18T14:41:18.320Z"
   },
   {
    "duration": 5,
    "start_time": "2024-03-18T14:41:18.469Z"
   },
   {
    "duration": 3,
    "start_time": "2024-03-18T14:41:18.751Z"
   },
   {
    "duration": 3,
    "start_time": "2024-03-18T14:41:21.385Z"
   },
   {
    "duration": 5,
    "start_time": "2024-03-18T14:41:21.535Z"
   },
   {
    "duration": 3,
    "start_time": "2024-03-18T14:41:21.648Z"
   },
   {
    "duration": 10415,
    "start_time": "2024-03-18T14:41:21.786Z"
   },
   {
    "duration": 0,
    "start_time": "2024-03-18T14:41:32.203Z"
   },
   {
    "duration": 8450,
    "start_time": "2024-03-18T14:45:34.376Z"
   },
   {
    "duration": 1363,
    "start_time": "2024-03-18T14:45:42.829Z"
   },
   {
    "duration": 4,
    "start_time": "2024-03-18T14:45:44.193Z"
   },
   {
    "duration": 8,
    "start_time": "2024-03-18T14:45:44.200Z"
   },
   {
    "duration": 81,
    "start_time": "2024-03-18T14:45:44.210Z"
   },
   {
    "duration": 4,
    "start_time": "2024-03-18T14:45:44.293Z"
   },
   {
    "duration": 14,
    "start_time": "2024-03-18T14:45:44.298Z"
   },
   {
    "duration": 4,
    "start_time": "2024-03-18T14:45:44.314Z"
   },
   {
    "duration": 10,
    "start_time": "2024-03-18T14:45:44.320Z"
   },
   {
    "duration": 14,
    "start_time": "2024-03-18T14:45:44.332Z"
   },
   {
    "duration": 27,
    "start_time": "2024-03-18T14:45:44.348Z"
   },
   {
    "duration": 247,
    "start_time": "2024-03-18T14:45:44.377Z"
   },
   {
    "duration": 4,
    "start_time": "2024-03-18T14:45:44.626Z"
   },
   {
    "duration": 246,
    "start_time": "2024-03-18T14:45:44.631Z"
   },
   {
    "duration": 7,
    "start_time": "2024-03-18T14:45:44.879Z"
   },
   {
    "duration": 8,
    "start_time": "2024-03-18T14:45:44.888Z"
   },
   {
    "duration": 11,
    "start_time": "2024-03-18T14:45:44.897Z"
   },
   {
    "duration": 804,
    "start_time": "2024-03-18T14:45:44.909Z"
   },
   {
    "duration": 229,
    "start_time": "2024-03-18T14:45:45.716Z"
   },
   {
    "duration": 157,
    "start_time": "2024-03-18T14:45:45.947Z"
   },
   {
    "duration": 160,
    "start_time": "2024-03-18T14:45:46.106Z"
   },
   {
    "duration": 5,
    "start_time": "2024-03-18T14:45:46.268Z"
   },
   {
    "duration": 12,
    "start_time": "2024-03-18T14:45:46.274Z"
   },
   {
    "duration": 25,
    "start_time": "2024-03-18T14:45:46.287Z"
   },
   {
    "duration": 17,
    "start_time": "2024-03-18T14:45:46.313Z"
   },
   {
    "duration": 19,
    "start_time": "2024-03-18T14:45:46.331Z"
   },
   {
    "duration": 41,
    "start_time": "2024-03-18T14:45:46.352Z"
   },
   {
    "duration": 18,
    "start_time": "2024-03-18T14:45:46.397Z"
   },
   {
    "duration": 10,
    "start_time": "2024-03-18T14:45:46.417Z"
   },
   {
    "duration": 20,
    "start_time": "2024-03-18T14:45:46.428Z"
   },
   {
    "duration": 10,
    "start_time": "2024-03-18T14:45:46.450Z"
   },
   {
    "duration": 16,
    "start_time": "2024-03-18T14:45:46.461Z"
   },
   {
    "duration": 1306,
    "start_time": "2024-03-18T14:45:46.478Z"
   },
   {
    "duration": 10,
    "start_time": "2024-03-18T14:45:47.786Z"
   },
   {
    "duration": 16,
    "start_time": "2024-03-18T14:45:47.798Z"
   },
   {
    "duration": 236,
    "start_time": "2024-03-18T14:45:47.816Z"
   },
   {
    "duration": 0,
    "start_time": "2024-03-18T14:45:48.054Z"
   },
   {
    "duration": 0,
    "start_time": "2024-03-18T14:45:48.055Z"
   },
   {
    "duration": 0,
    "start_time": "2024-03-18T14:45:48.057Z"
   },
   {
    "duration": 0,
    "start_time": "2024-03-18T14:45:48.058Z"
   },
   {
    "duration": 0,
    "start_time": "2024-03-18T14:45:48.060Z"
   },
   {
    "duration": 0,
    "start_time": "2024-03-18T14:45:48.061Z"
   },
   {
    "duration": 0,
    "start_time": "2024-03-18T14:45:48.073Z"
   },
   {
    "duration": 0,
    "start_time": "2024-03-18T14:45:48.075Z"
   },
   {
    "duration": 0,
    "start_time": "2024-03-18T14:45:48.076Z"
   },
   {
    "duration": 6,
    "start_time": "2024-03-18T16:11:58.376Z"
   },
   {
    "duration": 3,
    "start_time": "2024-03-18T16:11:59.329Z"
   },
   {
    "duration": 4482,
    "start_time": "2024-03-18T16:11:59.856Z"
   },
   {
    "duration": 10,
    "start_time": "2024-03-18T16:12:04.340Z"
   },
   {
    "duration": 4,
    "start_time": "2024-03-18T16:12:04.868Z"
   },
   {
    "duration": 3,
    "start_time": "2024-03-18T16:12:05.404Z"
   },
   {
    "duration": 3,
    "start_time": "2024-03-18T16:12:07.539Z"
   },
   {
    "duration": 1108,
    "start_time": "2024-03-18T16:12:07.738Z"
   },
   {
    "duration": 7,
    "start_time": "2024-03-18T16:12:12.145Z"
   },
   {
    "duration": 7,
    "start_time": "2024-03-18T16:12:17.450Z"
   },
   {
    "duration": 8611,
    "start_time": "2024-03-18T16:12:57.086Z"
   },
   {
    "duration": 1383,
    "start_time": "2024-03-18T16:13:05.699Z"
   },
   {
    "duration": 4,
    "start_time": "2024-03-18T16:13:07.083Z"
   },
   {
    "duration": 7,
    "start_time": "2024-03-18T16:13:07.089Z"
   },
   {
    "duration": 74,
    "start_time": "2024-03-18T16:13:07.098Z"
   },
   {
    "duration": 4,
    "start_time": "2024-03-18T16:13:07.174Z"
   },
   {
    "duration": 15,
    "start_time": "2024-03-18T16:13:07.180Z"
   },
   {
    "duration": 4,
    "start_time": "2024-03-18T16:13:07.198Z"
   },
   {
    "duration": 10,
    "start_time": "2024-03-18T16:13:07.204Z"
   },
   {
    "duration": 16,
    "start_time": "2024-03-18T16:13:07.216Z"
   },
   {
    "duration": 8,
    "start_time": "2024-03-18T16:13:07.233Z"
   },
   {
    "duration": 268,
    "start_time": "2024-03-18T16:13:07.243Z"
   },
   {
    "duration": 6,
    "start_time": "2024-03-18T16:13:07.513Z"
   },
   {
    "duration": 269,
    "start_time": "2024-03-18T16:13:07.523Z"
   },
   {
    "duration": 7,
    "start_time": "2024-03-18T16:13:07.794Z"
   },
   {
    "duration": 15,
    "start_time": "2024-03-18T16:13:07.802Z"
   },
   {
    "duration": 13,
    "start_time": "2024-03-18T16:13:07.818Z"
   },
   {
    "duration": 843,
    "start_time": "2024-03-18T16:13:07.832Z"
   },
   {
    "duration": 239,
    "start_time": "2024-03-18T16:13:08.677Z"
   },
   {
    "duration": 172,
    "start_time": "2024-03-18T16:13:08.917Z"
   },
   {
    "duration": 158,
    "start_time": "2024-03-18T16:13:09.090Z"
   },
   {
    "duration": 4,
    "start_time": "2024-03-18T16:13:09.250Z"
   },
   {
    "duration": 17,
    "start_time": "2024-03-18T16:13:09.256Z"
   },
   {
    "duration": 13,
    "start_time": "2024-03-18T16:13:09.275Z"
   },
   {
    "duration": 7,
    "start_time": "2024-03-18T16:13:09.290Z"
   },
   {
    "duration": 8,
    "start_time": "2024-03-18T16:13:09.299Z"
   },
   {
    "duration": 16,
    "start_time": "2024-03-18T16:13:09.309Z"
   },
   {
    "duration": 8,
    "start_time": "2024-03-18T16:13:09.327Z"
   },
   {
    "duration": 5,
    "start_time": "2024-03-18T16:13:09.337Z"
   },
   {
    "duration": 21,
    "start_time": "2024-03-18T16:13:09.344Z"
   },
   {
    "duration": 19,
    "start_time": "2024-03-18T16:13:09.372Z"
   },
   {
    "duration": 31,
    "start_time": "2024-03-18T16:13:09.392Z"
   },
   {
    "duration": 1331,
    "start_time": "2024-03-18T16:13:09.424Z"
   },
   {
    "duration": 26,
    "start_time": "2024-03-18T16:13:10.757Z"
   },
   {
    "duration": 5,
    "start_time": "2024-03-18T16:13:10.785Z"
   },
   {
    "duration": 12,
    "start_time": "2024-03-18T16:13:10.791Z"
   },
   {
    "duration": 14,
    "start_time": "2024-03-18T16:13:10.805Z"
   },
   {
    "duration": 3798,
    "start_time": "2024-03-18T16:13:10.874Z"
   },
   {
    "duration": 10,
    "start_time": "2024-03-18T16:13:14.673Z"
   },
   {
    "duration": 28,
    "start_time": "2024-03-18T16:13:14.684Z"
   },
   {
    "duration": 3,
    "start_time": "2024-03-18T16:13:14.716Z"
   },
   {
    "duration": 5,
    "start_time": "2024-03-18T16:13:14.720Z"
   },
   {
    "duration": 1226,
    "start_time": "2024-03-18T16:13:14.727Z"
   },
   {
    "duration": 6,
    "start_time": "2024-03-18T16:13:15.955Z"
   },
   {
    "duration": 4,
    "start_time": "2024-03-18T16:16:11.189Z"
   },
   {
    "duration": 8430,
    "start_time": "2024-03-18T16:16:14.591Z"
   },
   {
    "duration": 1415,
    "start_time": "2024-03-18T16:16:23.024Z"
   },
   {
    "duration": 3,
    "start_time": "2024-03-18T16:16:24.440Z"
   },
   {
    "duration": 10,
    "start_time": "2024-03-18T16:16:24.445Z"
   },
   {
    "duration": 69,
    "start_time": "2024-03-18T16:16:24.457Z"
   },
   {
    "duration": 4,
    "start_time": "2024-03-18T16:16:24.528Z"
   },
   {
    "duration": 18,
    "start_time": "2024-03-18T16:16:24.533Z"
   },
   {
    "duration": 3,
    "start_time": "2024-03-18T16:16:24.553Z"
   },
   {
    "duration": 6,
    "start_time": "2024-03-18T16:16:24.557Z"
   },
   {
    "duration": 13,
    "start_time": "2024-03-18T16:16:24.566Z"
   },
   {
    "duration": 6,
    "start_time": "2024-03-18T16:16:24.580Z"
   },
   {
    "duration": 260,
    "start_time": "2024-03-18T16:16:24.588Z"
   },
   {
    "duration": 4,
    "start_time": "2024-03-18T16:16:24.849Z"
   },
   {
    "duration": 271,
    "start_time": "2024-03-18T16:16:24.855Z"
   },
   {
    "duration": 7,
    "start_time": "2024-03-18T16:16:25.128Z"
   },
   {
    "duration": 7,
    "start_time": "2024-03-18T16:16:25.136Z"
   },
   {
    "duration": 28,
    "start_time": "2024-03-18T16:16:25.145Z"
   },
   {
    "duration": 792,
    "start_time": "2024-03-18T16:16:25.175Z"
   },
   {
    "duration": 222,
    "start_time": "2024-03-18T16:16:25.972Z"
   },
   {
    "duration": 159,
    "start_time": "2024-03-18T16:16:26.196Z"
   },
   {
    "duration": 166,
    "start_time": "2024-03-18T16:16:26.357Z"
   },
   {
    "duration": 4,
    "start_time": "2024-03-18T16:16:26.525Z"
   },
   {
    "duration": 11,
    "start_time": "2024-03-18T16:16:26.530Z"
   },
   {
    "duration": 14,
    "start_time": "2024-03-18T16:16:26.542Z"
   },
   {
    "duration": 19,
    "start_time": "2024-03-18T16:16:26.557Z"
   },
   {
    "duration": 8,
    "start_time": "2024-03-18T16:16:26.577Z"
   },
   {
    "duration": 10,
    "start_time": "2024-03-18T16:16:26.587Z"
   },
   {
    "duration": 12,
    "start_time": "2024-03-18T16:16:26.600Z"
   },
   {
    "duration": 14,
    "start_time": "2024-03-18T16:16:26.613Z"
   },
   {
    "duration": 5,
    "start_time": "2024-03-18T16:16:26.628Z"
   },
   {
    "duration": 4,
    "start_time": "2024-03-18T16:16:26.635Z"
   },
   {
    "duration": 9,
    "start_time": "2024-03-18T16:16:26.640Z"
   },
   {
    "duration": 1307,
    "start_time": "2024-03-18T16:16:26.650Z"
   },
   {
    "duration": 16,
    "start_time": "2024-03-18T16:16:27.959Z"
   },
   {
    "duration": 4,
    "start_time": "2024-03-18T16:16:27.977Z"
   },
   {
    "duration": 12,
    "start_time": "2024-03-18T16:16:27.983Z"
   },
   {
    "duration": 11,
    "start_time": "2024-03-18T16:16:27.996Z"
   },
   {
    "duration": 4093,
    "start_time": "2024-03-18T16:16:28.009Z"
   },
   {
    "duration": 12,
    "start_time": "2024-03-18T16:16:32.103Z"
   },
   {
    "duration": 44,
    "start_time": "2024-03-18T16:16:32.117Z"
   },
   {
    "duration": 35,
    "start_time": "2024-03-18T16:16:32.163Z"
   },
   {
    "duration": 13,
    "start_time": "2024-03-18T16:16:32.200Z"
   },
   {
    "duration": 1183,
    "start_time": "2024-03-18T16:16:32.215Z"
   },
   {
    "duration": 8,
    "start_time": "2024-03-18T16:16:33.399Z"
   },
   {
    "duration": 11992,
    "start_time": "2024-03-18T16:34:30.030Z"
   },
   {
    "duration": 1407,
    "start_time": "2024-03-18T16:34:42.024Z"
   },
   {
    "duration": 3,
    "start_time": "2024-03-18T16:34:43.433Z"
   },
   {
    "duration": 18,
    "start_time": "2024-03-18T16:34:43.438Z"
   },
   {
    "duration": 129,
    "start_time": "2024-03-18T16:34:43.457Z"
   },
   {
    "duration": 4,
    "start_time": "2024-03-18T16:34:43.587Z"
   },
   {
    "duration": 16,
    "start_time": "2024-03-18T16:34:43.593Z"
   },
   {
    "duration": 4,
    "start_time": "2024-03-18T16:34:43.610Z"
   },
   {
    "duration": 10,
    "start_time": "2024-03-18T16:34:43.616Z"
   },
   {
    "duration": 10,
    "start_time": "2024-03-18T16:34:43.628Z"
   },
   {
    "duration": 7,
    "start_time": "2024-03-18T16:34:43.640Z"
   },
   {
    "duration": 281,
    "start_time": "2024-03-18T16:34:43.648Z"
   },
   {
    "duration": 4,
    "start_time": "2024-03-18T16:34:43.931Z"
   },
   {
    "duration": 252,
    "start_time": "2024-03-18T16:34:43.937Z"
   },
   {
    "duration": 8,
    "start_time": "2024-03-18T16:34:44.191Z"
   },
   {
    "duration": 15,
    "start_time": "2024-03-18T16:34:44.201Z"
   },
   {
    "duration": 22,
    "start_time": "2024-03-18T16:34:44.218Z"
   },
   {
    "duration": 809,
    "start_time": "2024-03-18T16:34:44.242Z"
   },
   {
    "duration": 241,
    "start_time": "2024-03-18T16:34:45.053Z"
   },
   {
    "duration": 160,
    "start_time": "2024-03-18T16:34:45.296Z"
   },
   {
    "duration": 158,
    "start_time": "2024-03-18T16:34:45.458Z"
   },
   {
    "duration": 4,
    "start_time": "2024-03-18T16:34:45.617Z"
   },
   {
    "duration": 19,
    "start_time": "2024-03-18T16:34:45.623Z"
   },
   {
    "duration": 28,
    "start_time": "2024-03-18T16:34:45.644Z"
   },
   {
    "duration": 7,
    "start_time": "2024-03-18T16:34:45.674Z"
   },
   {
    "duration": 7,
    "start_time": "2024-03-18T16:34:45.683Z"
   },
   {
    "duration": 15,
    "start_time": "2024-03-18T16:34:45.691Z"
   },
   {
    "duration": 17,
    "start_time": "2024-03-18T16:34:54.268Z"
   },
   {
    "duration": 17,
    "start_time": "2024-03-18T16:34:57.444Z"
   },
   {
    "duration": 132,
    "start_time": "2024-03-18T18:37:41.529Z"
   },
   {
    "duration": 6,
    "start_time": "2024-03-18T18:38:59.315Z"
   },
   {
    "duration": 50,
    "start_time": "2024-03-19T12:49:24.452Z"
   },
   {
    "duration": 12788,
    "start_time": "2024-03-19T12:49:38.927Z"
   },
   {
    "duration": 1609,
    "start_time": "2024-03-19T12:49:51.717Z"
   },
   {
    "duration": 3,
    "start_time": "2024-03-19T12:49:53.328Z"
   },
   {
    "duration": 21,
    "start_time": "2024-03-19T12:49:53.333Z"
   },
   {
    "duration": 180,
    "start_time": "2024-03-19T12:49:53.355Z"
   },
   {
    "duration": 4,
    "start_time": "2024-03-19T12:49:53.536Z"
   },
   {
    "duration": 22,
    "start_time": "2024-03-19T12:49:53.541Z"
   },
   {
    "duration": 22,
    "start_time": "2024-03-19T12:49:53.565Z"
   },
   {
    "duration": 33,
    "start_time": "2024-03-19T12:49:53.588Z"
   },
   {
    "duration": 38,
    "start_time": "2024-03-19T12:49:53.623Z"
   },
   {
    "duration": 28,
    "start_time": "2024-03-19T12:49:53.663Z"
   },
   {
    "duration": 285,
    "start_time": "2024-03-19T12:49:53.692Z"
   },
   {
    "duration": 4,
    "start_time": "2024-03-19T12:49:53.978Z"
   },
   {
    "duration": 238,
    "start_time": "2024-03-19T12:49:53.991Z"
   },
   {
    "duration": 8,
    "start_time": "2024-03-19T12:49:54.231Z"
   },
   {
    "duration": 13,
    "start_time": "2024-03-19T12:49:54.241Z"
   },
   {
    "duration": 23,
    "start_time": "2024-03-19T12:49:54.256Z"
   },
   {
    "duration": 917,
    "start_time": "2024-03-19T12:49:54.281Z"
   },
   {
    "duration": 226,
    "start_time": "2024-03-19T12:49:55.200Z"
   },
   {
    "duration": 152,
    "start_time": "2024-03-19T12:49:55.428Z"
   },
   {
    "duration": 158,
    "start_time": "2024-03-19T12:49:55.582Z"
   },
   {
    "duration": 4,
    "start_time": "2024-03-19T12:49:55.742Z"
   },
   {
    "duration": 20,
    "start_time": "2024-03-19T12:49:55.748Z"
   },
   {
    "duration": 22,
    "start_time": "2024-03-19T12:49:55.769Z"
   },
   {
    "duration": 7,
    "start_time": "2024-03-19T12:49:55.793Z"
   },
   {
    "duration": 13,
    "start_time": "2024-03-19T12:49:55.801Z"
   },
   {
    "duration": 26,
    "start_time": "2024-03-19T12:49:55.815Z"
   },
   {
    "duration": 30,
    "start_time": "2024-03-19T12:49:55.845Z"
   },
   {
    "duration": 30,
    "start_time": "2024-03-19T12:49:55.877Z"
   },
   {
    "duration": 50,
    "start_time": "2024-03-19T12:49:55.909Z"
   },
   {
    "duration": 10,
    "start_time": "2024-03-19T12:49:55.961Z"
   },
   {
    "duration": 12,
    "start_time": "2024-03-19T12:49:55.972Z"
   },
   {
    "duration": 1485,
    "start_time": "2024-03-19T12:49:55.986Z"
   },
   {
    "duration": 20,
    "start_time": "2024-03-19T12:49:57.472Z"
   },
   {
    "duration": 12,
    "start_time": "2024-03-19T12:49:57.493Z"
   },
   {
    "duration": 16,
    "start_time": "2024-03-19T12:49:57.507Z"
   },
   {
    "duration": 13,
    "start_time": "2024-03-19T12:49:57.525Z"
   },
   {
    "duration": 5040,
    "start_time": "2024-03-19T12:49:57.540Z"
   },
   {
    "duration": 11,
    "start_time": "2024-03-19T12:50:02.581Z"
   },
   {
    "duration": 225,
    "start_time": "2024-03-19T12:50:02.593Z"
   },
   {
    "duration": 265,
    "start_time": "2024-03-19T12:50:02.820Z"
   },
   {
    "duration": 308,
    "start_time": "2024-03-19T12:50:03.088Z"
   },
   {
    "duration": 1689,
    "start_time": "2024-03-19T12:50:03.398Z"
   },
   {
    "duration": 7,
    "start_time": "2024-03-19T12:50:05.088Z"
   },
   {
    "duration": 685,
    "start_time": "2024-03-19T12:50:43.421Z"
   },
   {
    "duration": 618,
    "start_time": "2024-03-19T12:51:03.590Z"
   },
   {
    "duration": 8429,
    "start_time": "2024-03-19T12:51:09.448Z"
   },
   {
    "duration": 1457,
    "start_time": "2024-03-19T12:51:17.879Z"
   },
   {
    "duration": 3,
    "start_time": "2024-03-19T12:51:19.337Z"
   },
   {
    "duration": 6,
    "start_time": "2024-03-19T12:51:19.343Z"
   },
   {
    "duration": 70,
    "start_time": "2024-03-19T12:51:19.351Z"
   },
   {
    "duration": 4,
    "start_time": "2024-03-19T12:51:19.422Z"
   },
   {
    "duration": 19,
    "start_time": "2024-03-19T12:51:19.428Z"
   },
   {
    "duration": 4,
    "start_time": "2024-03-19T12:51:19.449Z"
   },
   {
    "duration": 12,
    "start_time": "2024-03-19T12:51:19.455Z"
   },
   {
    "duration": 23,
    "start_time": "2024-03-19T12:51:19.470Z"
   },
   {
    "duration": 7,
    "start_time": "2024-03-19T12:51:19.495Z"
   },
   {
    "duration": 292,
    "start_time": "2024-03-19T12:51:19.504Z"
   },
   {
    "duration": 5,
    "start_time": "2024-03-19T12:51:19.798Z"
   },
   {
    "duration": 285,
    "start_time": "2024-03-19T12:51:19.804Z"
   },
   {
    "duration": 9,
    "start_time": "2024-03-19T12:51:20.092Z"
   },
   {
    "duration": 13,
    "start_time": "2024-03-19T12:51:20.111Z"
   },
   {
    "duration": 21,
    "start_time": "2024-03-19T12:51:20.126Z"
   },
   {
    "duration": 848,
    "start_time": "2024-03-19T12:51:20.149Z"
   },
   {
    "duration": 247,
    "start_time": "2024-03-19T12:51:20.999Z"
   },
   {
    "duration": 173,
    "start_time": "2024-03-19T12:51:21.248Z"
   },
   {
    "duration": 184,
    "start_time": "2024-03-19T12:51:21.424Z"
   },
   {
    "duration": 4,
    "start_time": "2024-03-19T12:51:21.610Z"
   },
   {
    "duration": 65,
    "start_time": "2024-03-19T12:51:21.616Z"
   },
   {
    "duration": 40,
    "start_time": "2024-03-19T12:51:21.682Z"
   },
   {
    "duration": 8,
    "start_time": "2024-03-19T12:51:21.724Z"
   },
   {
    "duration": 30,
    "start_time": "2024-03-19T12:51:21.734Z"
   },
   {
    "duration": 28,
    "start_time": "2024-03-19T12:51:21.765Z"
   },
   {
    "duration": 11,
    "start_time": "2024-03-19T12:51:21.798Z"
   },
   {
    "duration": 13,
    "start_time": "2024-03-19T12:51:21.810Z"
   },
   {
    "duration": 19,
    "start_time": "2024-03-19T12:51:21.825Z"
   },
   {
    "duration": 8,
    "start_time": "2024-03-19T12:51:21.846Z"
   },
   {
    "duration": 22,
    "start_time": "2024-03-19T12:51:21.856Z"
   },
   {
    "duration": 1516,
    "start_time": "2024-03-19T12:51:21.880Z"
   },
   {
    "duration": 11,
    "start_time": "2024-03-19T12:51:23.398Z"
   },
   {
    "duration": 23,
    "start_time": "2024-03-19T12:51:23.411Z"
   },
   {
    "duration": 28,
    "start_time": "2024-03-19T12:51:23.436Z"
   },
   {
    "duration": 6,
    "start_time": "2024-03-19T12:51:23.466Z"
   },
   {
    "duration": 3852,
    "start_time": "2024-03-19T12:51:23.474Z"
   },
   {
    "duration": 11,
    "start_time": "2024-03-19T12:51:27.327Z"
   },
   {
    "duration": 33,
    "start_time": "2024-03-19T12:51:27.340Z"
   },
   {
    "duration": 9,
    "start_time": "2024-03-19T12:51:27.375Z"
   },
   {
    "duration": 8,
    "start_time": "2024-03-19T12:51:27.386Z"
   },
   {
    "duration": 1125,
    "start_time": "2024-03-19T12:51:27.396Z"
   },
   {
    "duration": 6,
    "start_time": "2024-03-19T12:51:28.523Z"
   },
   {
    "duration": 156,
    "start_time": "2024-03-19T12:55:16.278Z"
   },
   {
    "duration": 8553,
    "start_time": "2024-03-19T12:55:40.760Z"
   },
   {
    "duration": 1387,
    "start_time": "2024-03-19T12:55:49.316Z"
   },
   {
    "duration": 3,
    "start_time": "2024-03-19T12:55:50.705Z"
   },
   {
    "duration": 23,
    "start_time": "2024-03-19T12:55:50.710Z"
   },
   {
    "duration": 90,
    "start_time": "2024-03-19T12:55:50.734Z"
   },
   {
    "duration": 3,
    "start_time": "2024-03-19T12:55:50.826Z"
   },
   {
    "duration": 21,
    "start_time": "2024-03-19T12:55:50.831Z"
   },
   {
    "duration": 18,
    "start_time": "2024-03-19T12:55:50.854Z"
   },
   {
    "duration": 24,
    "start_time": "2024-03-19T12:55:50.873Z"
   },
   {
    "duration": 14,
    "start_time": "2024-03-19T12:55:50.901Z"
   },
   {
    "duration": 21,
    "start_time": "2024-03-19T12:55:50.917Z"
   },
   {
    "duration": 297,
    "start_time": "2024-03-19T12:55:50.939Z"
   },
   {
    "duration": 5,
    "start_time": "2024-03-19T12:55:51.238Z"
   },
   {
    "duration": 267,
    "start_time": "2024-03-19T12:55:51.245Z"
   },
   {
    "duration": 8,
    "start_time": "2024-03-19T12:55:51.515Z"
   },
   {
    "duration": 23,
    "start_time": "2024-03-19T12:55:51.525Z"
   },
   {
    "duration": 15,
    "start_time": "2024-03-19T12:55:51.550Z"
   },
   {
    "duration": 823,
    "start_time": "2024-03-19T12:55:51.567Z"
   },
   {
    "duration": 230,
    "start_time": "2024-03-19T12:55:52.392Z"
   },
   {
    "duration": 158,
    "start_time": "2024-03-19T12:55:52.624Z"
   },
   {
    "duration": 158,
    "start_time": "2024-03-19T12:55:52.792Z"
   },
   {
    "duration": 5,
    "start_time": "2024-03-19T12:55:52.952Z"
   },
   {
    "duration": 7,
    "start_time": "2024-03-19T12:55:52.959Z"
   },
   {
    "duration": 30,
    "start_time": "2024-03-19T12:55:52.968Z"
   },
   {
    "duration": 9,
    "start_time": "2024-03-19T12:55:53.000Z"
   },
   {
    "duration": 38,
    "start_time": "2024-03-19T12:55:53.011Z"
   },
   {
    "duration": 18,
    "start_time": "2024-03-19T12:55:53.050Z"
   },
   {
    "duration": 8,
    "start_time": "2024-03-19T12:55:53.073Z"
   },
   {
    "duration": 6,
    "start_time": "2024-03-19T12:55:53.083Z"
   },
   {
    "duration": 9,
    "start_time": "2024-03-19T12:55:53.091Z"
   },
   {
    "duration": 9,
    "start_time": "2024-03-19T12:55:53.102Z"
   },
   {
    "duration": 19,
    "start_time": "2024-03-19T12:55:53.113Z"
   },
   {
    "duration": 1380,
    "start_time": "2024-03-19T12:55:53.134Z"
   },
   {
    "duration": 12,
    "start_time": "2024-03-19T12:55:54.516Z"
   },
   {
    "duration": 6,
    "start_time": "2024-03-19T12:55:54.530Z"
   },
   {
    "duration": 10,
    "start_time": "2024-03-19T12:55:54.537Z"
   },
   {
    "duration": 4,
    "start_time": "2024-03-19T12:55:54.549Z"
   },
   {
    "duration": 3704,
    "start_time": "2024-03-19T12:55:54.554Z"
   },
   {
    "duration": 13,
    "start_time": "2024-03-19T12:55:58.260Z"
   },
   {
    "duration": 7,
    "start_time": "2024-03-19T12:55:58.275Z"
   },
   {
    "duration": 7,
    "start_time": "2024-03-19T12:55:58.285Z"
   },
   {
    "duration": 5,
    "start_time": "2024-03-19T12:55:58.294Z"
   },
   {
    "duration": 1060,
    "start_time": "2024-03-19T12:55:58.302Z"
   },
   {
    "duration": 7,
    "start_time": "2024-03-19T12:55:59.364Z"
   },
   {
    "duration": 145,
    "start_time": "2024-03-19T12:56:16.244Z"
   },
   {
    "duration": 8612,
    "start_time": "2024-03-19T12:56:27.693Z"
   },
   {
    "duration": 1418,
    "start_time": "2024-03-19T12:56:36.307Z"
   },
   {
    "duration": 3,
    "start_time": "2024-03-19T12:56:37.727Z"
   },
   {
    "duration": 5,
    "start_time": "2024-03-19T12:56:37.732Z"
   },
   {
    "duration": 69,
    "start_time": "2024-03-19T12:56:37.739Z"
   },
   {
    "duration": 4,
    "start_time": "2024-03-19T12:56:37.809Z"
   },
   {
    "duration": 23,
    "start_time": "2024-03-19T12:56:37.815Z"
   },
   {
    "duration": 4,
    "start_time": "2024-03-19T12:56:37.840Z"
   },
   {
    "duration": 15,
    "start_time": "2024-03-19T12:56:37.845Z"
   },
   {
    "duration": 28,
    "start_time": "2024-03-19T12:56:37.864Z"
   },
   {
    "duration": 7,
    "start_time": "2024-03-19T12:56:37.894Z"
   },
   {
    "duration": 279,
    "start_time": "2024-03-19T12:56:37.902Z"
   },
   {
    "duration": 10,
    "start_time": "2024-03-19T12:56:38.182Z"
   },
   {
    "duration": 275,
    "start_time": "2024-03-19T12:56:38.194Z"
   },
   {
    "duration": 7,
    "start_time": "2024-03-19T12:56:38.471Z"
   },
   {
    "duration": 7,
    "start_time": "2024-03-19T12:56:38.492Z"
   },
   {
    "duration": 9,
    "start_time": "2024-03-19T12:56:38.501Z"
   },
   {
    "duration": 842,
    "start_time": "2024-03-19T12:56:38.511Z"
   },
   {
    "duration": 241,
    "start_time": "2024-03-19T12:56:39.355Z"
   },
   {
    "duration": 164,
    "start_time": "2024-03-19T12:56:39.597Z"
   },
   {
    "duration": 161,
    "start_time": "2024-03-19T12:56:39.764Z"
   },
   {
    "duration": 4,
    "start_time": "2024-03-19T12:56:39.927Z"
   },
   {
    "duration": 8,
    "start_time": "2024-03-19T12:56:39.932Z"
   },
   {
    "duration": 12,
    "start_time": "2024-03-19T12:56:39.941Z"
   },
   {
    "duration": 7,
    "start_time": "2024-03-19T12:56:39.955Z"
   },
   {
    "duration": 38,
    "start_time": "2024-03-19T12:56:39.963Z"
   },
   {
    "duration": 5,
    "start_time": "2024-03-19T12:56:40.003Z"
   },
   {
    "duration": 8,
    "start_time": "2024-03-19T12:56:40.013Z"
   },
   {
    "duration": 19,
    "start_time": "2024-03-19T12:56:40.023Z"
   },
   {
    "duration": 32,
    "start_time": "2024-03-19T12:56:40.044Z"
   },
   {
    "duration": 34,
    "start_time": "2024-03-19T12:56:40.078Z"
   },
   {
    "duration": 25,
    "start_time": "2024-03-19T12:56:40.113Z"
   },
   {
    "duration": 1489,
    "start_time": "2024-03-19T12:56:40.140Z"
   },
   {
    "duration": 9,
    "start_time": "2024-03-19T12:56:41.631Z"
   },
   {
    "duration": 15,
    "start_time": "2024-03-19T12:56:41.642Z"
   },
   {
    "duration": 32,
    "start_time": "2024-03-19T12:56:41.658Z"
   },
   {
    "duration": 24,
    "start_time": "2024-03-19T12:56:41.691Z"
   },
   {
    "duration": 3876,
    "start_time": "2024-03-19T12:56:41.717Z"
   },
   {
    "duration": 11,
    "start_time": "2024-03-19T12:56:45.595Z"
   },
   {
    "duration": 44,
    "start_time": "2024-03-19T12:56:45.608Z"
   },
   {
    "duration": 59,
    "start_time": "2024-03-19T12:56:45.653Z"
   },
   {
    "duration": 36,
    "start_time": "2024-03-19T12:56:45.714Z"
   },
   {
    "duration": 1178,
    "start_time": "2024-03-19T12:56:45.752Z"
   },
   {
    "duration": 9,
    "start_time": "2024-03-19T12:56:46.932Z"
   },
   {
    "duration": 8610,
    "start_time": "2024-03-19T13:04:37.766Z"
   },
   {
    "duration": 1440,
    "start_time": "2024-03-19T13:04:46.378Z"
   },
   {
    "duration": 3,
    "start_time": "2024-03-19T13:04:47.820Z"
   },
   {
    "duration": 37,
    "start_time": "2024-03-19T13:04:47.825Z"
   },
   {
    "duration": 92,
    "start_time": "2024-03-19T13:04:47.863Z"
   },
   {
    "duration": 4,
    "start_time": "2024-03-19T13:04:47.957Z"
   },
   {
    "duration": 60,
    "start_time": "2024-03-19T13:04:47.963Z"
   },
   {
    "duration": 4,
    "start_time": "2024-03-19T13:04:48.025Z"
   },
   {
    "duration": 21,
    "start_time": "2024-03-19T13:04:48.031Z"
   },
   {
    "duration": 23,
    "start_time": "2024-03-19T13:04:48.055Z"
   },
   {
    "duration": 15,
    "start_time": "2024-03-19T13:04:48.080Z"
   },
   {
    "duration": 283,
    "start_time": "2024-03-19T13:04:48.097Z"
   },
   {
    "duration": 11,
    "start_time": "2024-03-19T13:04:48.382Z"
   },
   {
    "duration": 276,
    "start_time": "2024-03-19T13:04:48.395Z"
   },
   {
    "duration": 8,
    "start_time": "2024-03-19T13:04:48.673Z"
   },
   {
    "duration": 11,
    "start_time": "2024-03-19T13:04:48.691Z"
   },
   {
    "duration": 19,
    "start_time": "2024-03-19T13:04:48.704Z"
   },
   {
    "duration": 1614,
    "start_time": "2024-03-19T13:04:48.725Z"
   },
   {
    "duration": 303,
    "start_time": "2024-03-19T13:04:50.392Z"
   },
   {
    "duration": 161,
    "start_time": "2024-03-19T13:04:50.697Z"
   },
   {
    "duration": 182,
    "start_time": "2024-03-19T13:04:50.859Z"
   },
   {
    "duration": 257,
    "start_time": "2024-03-19T13:04:51.043Z"
   },
   {
    "duration": 0,
    "start_time": "2024-03-19T13:04:51.302Z"
   },
   {
    "duration": 0,
    "start_time": "2024-03-19T13:04:51.304Z"
   },
   {
    "duration": 0,
    "start_time": "2024-03-19T13:04:51.305Z"
   },
   {
    "duration": 0,
    "start_time": "2024-03-19T13:04:51.307Z"
   },
   {
    "duration": 0,
    "start_time": "2024-03-19T13:04:51.309Z"
   },
   {
    "duration": 0,
    "start_time": "2024-03-19T13:04:51.310Z"
   },
   {
    "duration": 0,
    "start_time": "2024-03-19T13:04:51.311Z"
   },
   {
    "duration": 0,
    "start_time": "2024-03-19T13:04:51.312Z"
   },
   {
    "duration": 0,
    "start_time": "2024-03-19T13:04:51.313Z"
   },
   {
    "duration": 0,
    "start_time": "2024-03-19T13:04:51.315Z"
   },
   {
    "duration": 0,
    "start_time": "2024-03-19T13:04:51.316Z"
   },
   {
    "duration": 0,
    "start_time": "2024-03-19T13:04:51.318Z"
   },
   {
    "duration": 0,
    "start_time": "2024-03-19T13:04:51.319Z"
   },
   {
    "duration": 0,
    "start_time": "2024-03-19T13:04:51.320Z"
   },
   {
    "duration": 0,
    "start_time": "2024-03-19T13:04:51.321Z"
   },
   {
    "duration": 0,
    "start_time": "2024-03-19T13:04:51.322Z"
   },
   {
    "duration": 0,
    "start_time": "2024-03-19T13:04:51.323Z"
   },
   {
    "duration": 0,
    "start_time": "2024-03-19T13:04:51.325Z"
   },
   {
    "duration": 0,
    "start_time": "2024-03-19T13:04:51.326Z"
   },
   {
    "duration": 0,
    "start_time": "2024-03-19T13:04:51.327Z"
   },
   {
    "duration": 0,
    "start_time": "2024-03-19T13:04:51.328Z"
   },
   {
    "duration": 0,
    "start_time": "2024-03-19T13:04:51.329Z"
   },
   {
    "duration": 0,
    "start_time": "2024-03-19T13:04:51.331Z"
   },
   {
    "duration": 491,
    "start_time": "2024-03-19T13:12:17.669Z"
   },
   {
    "duration": 430,
    "start_time": "2024-03-19T13:12:29.663Z"
   },
   {
    "duration": 312,
    "start_time": "2024-03-19T13:12:38.012Z"
   },
   {
    "duration": 1642,
    "start_time": "2024-03-19T13:22:51.514Z"
   },
   {
    "duration": 361,
    "start_time": "2024-03-19T13:23:02.966Z"
   },
   {
    "duration": 391,
    "start_time": "2024-03-19T13:24:26.059Z"
   },
   {
    "duration": 9014,
    "start_time": "2024-03-19T13:30:57.389Z"
   },
   {
    "duration": 22,
    "start_time": "2024-03-19T13:31:07.375Z"
   },
   {
    "duration": 146,
    "start_time": "2024-03-19T13:31:32.707Z"
   },
   {
    "duration": 23,
    "start_time": "2024-03-19T13:33:50.789Z"
   },
   {
    "duration": 8887,
    "start_time": "2024-03-19T13:35:00.042Z"
   },
   {
    "duration": 1427,
    "start_time": "2024-03-19T13:35:08.931Z"
   },
   {
    "duration": 4,
    "start_time": "2024-03-19T13:35:10.359Z"
   },
   {
    "duration": 6,
    "start_time": "2024-03-19T13:35:10.365Z"
   },
   {
    "duration": 70,
    "start_time": "2024-03-19T13:35:10.374Z"
   },
   {
    "duration": 5,
    "start_time": "2024-03-19T13:35:10.446Z"
   },
   {
    "duration": 21,
    "start_time": "2024-03-19T13:35:10.453Z"
   },
   {
    "duration": 4,
    "start_time": "2024-03-19T13:35:10.476Z"
   },
   {
    "duration": 11,
    "start_time": "2024-03-19T13:35:10.481Z"
   },
   {
    "duration": 11,
    "start_time": "2024-03-19T13:35:10.494Z"
   },
   {
    "duration": 17,
    "start_time": "2024-03-19T13:35:10.506Z"
   },
   {
    "duration": 298,
    "start_time": "2024-03-19T13:35:10.525Z"
   },
   {
    "duration": 4,
    "start_time": "2024-03-19T13:35:10.825Z"
   },
   {
    "duration": 354,
    "start_time": "2024-03-19T13:35:10.832Z"
   },
   {
    "duration": 8,
    "start_time": "2024-03-19T13:35:11.188Z"
   },
   {
    "duration": 10,
    "start_time": "2024-03-19T13:35:11.198Z"
   },
   {
    "duration": 13,
    "start_time": "2024-03-19T13:35:11.210Z"
   },
   {
    "duration": 785,
    "start_time": "2024-03-19T13:35:11.225Z"
   },
   {
    "duration": 240,
    "start_time": "2024-03-19T13:35:12.012Z"
   },
   {
    "duration": 167,
    "start_time": "2024-03-19T13:35:12.254Z"
   },
   {
    "duration": 165,
    "start_time": "2024-03-19T13:35:12.423Z"
   },
   {
    "duration": 318,
    "start_time": "2024-03-19T13:35:12.589Z"
   },
   {
    "duration": 140,
    "start_time": "2024-03-19T13:35:12.909Z"
   },
   {
    "duration": 0,
    "start_time": "2024-03-19T13:35:13.052Z"
   },
   {
    "duration": 0,
    "start_time": "2024-03-19T13:35:13.053Z"
   },
   {
    "duration": 0,
    "start_time": "2024-03-19T13:35:13.054Z"
   },
   {
    "duration": 0,
    "start_time": "2024-03-19T13:35:13.055Z"
   },
   {
    "duration": 0,
    "start_time": "2024-03-19T13:35:13.056Z"
   },
   {
    "duration": 0,
    "start_time": "2024-03-19T13:35:13.057Z"
   },
   {
    "duration": 0,
    "start_time": "2024-03-19T13:35:13.059Z"
   },
   {
    "duration": 0,
    "start_time": "2024-03-19T13:35:13.060Z"
   },
   {
    "duration": 0,
    "start_time": "2024-03-19T13:35:13.061Z"
   },
   {
    "duration": 0,
    "start_time": "2024-03-19T13:35:13.062Z"
   },
   {
    "duration": 0,
    "start_time": "2024-03-19T13:35:13.063Z"
   },
   {
    "duration": 0,
    "start_time": "2024-03-19T13:35:13.064Z"
   },
   {
    "duration": 0,
    "start_time": "2024-03-19T13:35:13.065Z"
   },
   {
    "duration": 0,
    "start_time": "2024-03-19T13:35:13.209Z"
   },
   {
    "duration": 0,
    "start_time": "2024-03-19T13:35:13.211Z"
   },
   {
    "duration": 0,
    "start_time": "2024-03-19T13:35:13.212Z"
   },
   {
    "duration": 0,
    "start_time": "2024-03-19T13:35:13.214Z"
   },
   {
    "duration": 0,
    "start_time": "2024-03-19T13:35:13.215Z"
   },
   {
    "duration": 0,
    "start_time": "2024-03-19T13:35:13.217Z"
   },
   {
    "duration": 0,
    "start_time": "2024-03-19T13:35:13.219Z"
   },
   {
    "duration": 0,
    "start_time": "2024-03-19T13:35:13.222Z"
   },
   {
    "duration": 0,
    "start_time": "2024-03-19T13:35:13.223Z"
   },
   {
    "duration": 0,
    "start_time": "2024-03-19T13:35:13.225Z"
   },
   {
    "duration": 0,
    "start_time": "2024-03-19T13:35:13.227Z"
   },
   {
    "duration": 8595,
    "start_time": "2024-03-19T13:36:06.676Z"
   },
   {
    "duration": 1476,
    "start_time": "2024-03-19T13:36:15.274Z"
   },
   {
    "duration": 3,
    "start_time": "2024-03-19T13:36:16.752Z"
   },
   {
    "duration": 34,
    "start_time": "2024-03-19T13:36:16.757Z"
   },
   {
    "duration": 87,
    "start_time": "2024-03-19T13:36:16.793Z"
   },
   {
    "duration": 4,
    "start_time": "2024-03-19T13:36:16.881Z"
   },
   {
    "duration": 28,
    "start_time": "2024-03-19T13:36:16.887Z"
   },
   {
    "duration": 13,
    "start_time": "2024-03-19T13:36:16.918Z"
   },
   {
    "duration": 23,
    "start_time": "2024-03-19T13:36:16.933Z"
   },
   {
    "duration": 20,
    "start_time": "2024-03-19T13:36:16.960Z"
   },
   {
    "duration": 18,
    "start_time": "2024-03-19T13:36:16.982Z"
   },
   {
    "duration": 283,
    "start_time": "2024-03-19T13:36:17.002Z"
   },
   {
    "duration": 4,
    "start_time": "2024-03-19T13:36:17.291Z"
   },
   {
    "duration": 365,
    "start_time": "2024-03-19T13:36:17.296Z"
   },
   {
    "duration": 7,
    "start_time": "2024-03-19T13:36:17.663Z"
   },
   {
    "duration": 14,
    "start_time": "2024-03-19T13:36:17.672Z"
   },
   {
    "duration": 10,
    "start_time": "2024-03-19T13:36:17.691Z"
   },
   {
    "duration": 763,
    "start_time": "2024-03-19T13:36:17.702Z"
   },
   {
    "duration": 237,
    "start_time": "2024-03-19T13:36:18.467Z"
   },
   {
    "duration": 170,
    "start_time": "2024-03-19T13:36:18.706Z"
   },
   {
    "duration": 194,
    "start_time": "2024-03-19T13:36:18.879Z"
   },
   {
    "duration": 2225,
    "start_time": "2024-03-19T13:36:19.074Z"
   },
   {
    "duration": 402,
    "start_time": "2024-03-19T13:36:21.303Z"
   },
   {
    "duration": 147,
    "start_time": "2024-03-19T13:36:21.707Z"
   },
   {
    "duration": 0,
    "start_time": "2024-03-19T13:36:21.857Z"
   },
   {
    "duration": 0,
    "start_time": "2024-03-19T13:36:21.857Z"
   },
   {
    "duration": 0,
    "start_time": "2024-03-19T13:36:21.859Z"
   },
   {
    "duration": 0,
    "start_time": "2024-03-19T13:36:21.860Z"
   },
   {
    "duration": 0,
    "start_time": "2024-03-19T13:36:21.861Z"
   },
   {
    "duration": 0,
    "start_time": "2024-03-19T13:36:21.862Z"
   },
   {
    "duration": 0,
    "start_time": "2024-03-19T13:36:21.863Z"
   },
   {
    "duration": 0,
    "start_time": "2024-03-19T13:36:21.975Z"
   },
   {
    "duration": 0,
    "start_time": "2024-03-19T13:36:21.976Z"
   },
   {
    "duration": 0,
    "start_time": "2024-03-19T13:36:21.977Z"
   },
   {
    "duration": 0,
    "start_time": "2024-03-19T13:36:21.991Z"
   },
   {
    "duration": 0,
    "start_time": "2024-03-19T13:36:21.993Z"
   },
   {
    "duration": 0,
    "start_time": "2024-03-19T13:36:21.994Z"
   },
   {
    "duration": 0,
    "start_time": "2024-03-19T13:36:21.995Z"
   },
   {
    "duration": 0,
    "start_time": "2024-03-19T13:36:21.996Z"
   },
   {
    "duration": 0,
    "start_time": "2024-03-19T13:36:21.998Z"
   },
   {
    "duration": 0,
    "start_time": "2024-03-19T13:36:21.999Z"
   },
   {
    "duration": 0,
    "start_time": "2024-03-19T13:36:22.001Z"
   },
   {
    "duration": 0,
    "start_time": "2024-03-19T13:36:22.002Z"
   },
   {
    "duration": 0,
    "start_time": "2024-03-19T13:36:22.003Z"
   },
   {
    "duration": 0,
    "start_time": "2024-03-19T13:36:22.005Z"
   },
   {
    "duration": 0,
    "start_time": "2024-03-19T13:36:22.017Z"
   },
   {
    "duration": 0,
    "start_time": "2024-03-19T13:36:22.019Z"
   },
   {
    "duration": 0,
    "start_time": "2024-03-19T13:36:22.021Z"
   },
   {
    "duration": 99,
    "start_time": "2024-03-19T13:37:06.406Z"
   },
   {
    "duration": 13,
    "start_time": "2024-03-19T13:37:40.723Z"
   },
   {
    "duration": 8680,
    "start_time": "2024-03-19T13:38:03.126Z"
   },
   {
    "duration": 1410,
    "start_time": "2024-03-19T13:38:11.809Z"
   },
   {
    "duration": 3,
    "start_time": "2024-03-19T13:38:13.221Z"
   },
   {
    "duration": 10,
    "start_time": "2024-03-19T13:38:13.226Z"
   },
   {
    "duration": 73,
    "start_time": "2024-03-19T13:38:13.238Z"
   },
   {
    "duration": 4,
    "start_time": "2024-03-19T13:38:13.313Z"
   },
   {
    "duration": 39,
    "start_time": "2024-03-19T13:38:13.319Z"
   },
   {
    "duration": 5,
    "start_time": "2024-03-19T13:38:13.360Z"
   },
   {
    "duration": 22,
    "start_time": "2024-03-19T13:38:13.367Z"
   },
   {
    "duration": 28,
    "start_time": "2024-03-19T13:38:13.392Z"
   },
   {
    "duration": 14,
    "start_time": "2024-03-19T13:38:13.422Z"
   },
   {
    "duration": 272,
    "start_time": "2024-03-19T13:38:13.437Z"
   },
   {
    "duration": 3,
    "start_time": "2024-03-19T13:38:13.711Z"
   },
   {
    "duration": 332,
    "start_time": "2024-03-19T13:38:13.716Z"
   },
   {
    "duration": 7,
    "start_time": "2024-03-19T13:38:14.050Z"
   },
   {
    "duration": 17,
    "start_time": "2024-03-19T13:38:14.058Z"
   },
   {
    "duration": 18,
    "start_time": "2024-03-19T13:38:14.076Z"
   },
   {
    "duration": 762,
    "start_time": "2024-03-19T13:38:14.095Z"
   },
   {
    "duration": 236,
    "start_time": "2024-03-19T13:38:14.860Z"
   },
   {
    "duration": 166,
    "start_time": "2024-03-19T13:38:15.098Z"
   },
   {
    "duration": 219,
    "start_time": "2024-03-19T13:38:15.265Z"
   },
   {
    "duration": 1812,
    "start_time": "2024-03-19T13:38:15.486Z"
   },
   {
    "duration": 2092,
    "start_time": "2024-03-19T13:38:17.300Z"
   },
   {
    "duration": 419,
    "start_time": "2024-03-19T13:38:19.394Z"
   },
   {
    "duration": 454,
    "start_time": "2024-03-19T13:38:19.815Z"
   },
   {
    "duration": 5,
    "start_time": "2024-03-19T13:38:20.270Z"
   },
   {
    "duration": 17,
    "start_time": "2024-03-19T13:38:20.277Z"
   },
   {
    "duration": 17,
    "start_time": "2024-03-19T13:38:20.298Z"
   },
   {
    "duration": 45,
    "start_time": "2024-03-19T13:38:20.317Z"
   },
   {
    "duration": 9,
    "start_time": "2024-03-19T13:38:20.364Z"
   },
   {
    "duration": 6,
    "start_time": "2024-03-19T13:38:20.375Z"
   },
   {
    "duration": 17,
    "start_time": "2024-03-19T13:38:20.383Z"
   },
   {
    "duration": 17,
    "start_time": "2024-03-19T13:38:20.403Z"
   },
   {
    "duration": 7,
    "start_time": "2024-03-19T13:38:20.422Z"
   },
   {
    "duration": 22,
    "start_time": "2024-03-19T13:38:20.431Z"
   },
   {
    "duration": 21,
    "start_time": "2024-03-19T13:38:20.455Z"
   },
   {
    "duration": 1831,
    "start_time": "2024-03-19T13:38:20.478Z"
   },
   {
    "duration": 84,
    "start_time": "2024-03-19T13:38:22.312Z"
   },
   {
    "duration": 6,
    "start_time": "2024-03-19T13:38:22.398Z"
   },
   {
    "duration": 86,
    "start_time": "2024-03-19T13:38:22.407Z"
   },
   {
    "duration": 18,
    "start_time": "2024-03-19T13:38:22.495Z"
   },
   {
    "duration": 4362,
    "start_time": "2024-03-19T13:38:22.515Z"
   },
   {
    "duration": 11,
    "start_time": "2024-03-19T13:38:26.878Z"
   },
   {
    "duration": 23,
    "start_time": "2024-03-19T13:38:26.890Z"
   },
   {
    "duration": 22,
    "start_time": "2024-03-19T13:38:26.915Z"
   },
   {
    "duration": 16,
    "start_time": "2024-03-19T13:38:26.939Z"
   },
   {
    "duration": 1347,
    "start_time": "2024-03-19T13:38:26.958Z"
   },
   {
    "duration": 8,
    "start_time": "2024-03-19T13:38:28.307Z"
   },
   {
    "duration": 8586,
    "start_time": "2024-03-19T13:44:10.223Z"
   },
   {
    "duration": 1452,
    "start_time": "2024-03-19T13:44:18.811Z"
   },
   {
    "duration": 3,
    "start_time": "2024-03-19T13:44:20.265Z"
   },
   {
    "duration": 10,
    "start_time": "2024-03-19T13:44:20.270Z"
   },
   {
    "duration": 78,
    "start_time": "2024-03-19T13:44:20.282Z"
   },
   {
    "duration": 4,
    "start_time": "2024-03-19T13:44:20.361Z"
   },
   {
    "duration": 33,
    "start_time": "2024-03-19T13:44:20.367Z"
   },
   {
    "duration": 4,
    "start_time": "2024-03-19T13:44:20.401Z"
   },
   {
    "duration": 6,
    "start_time": "2024-03-19T13:44:20.407Z"
   },
   {
    "duration": 10,
    "start_time": "2024-03-19T13:44:20.416Z"
   },
   {
    "duration": 30,
    "start_time": "2024-03-19T13:44:20.428Z"
   },
   {
    "duration": 277,
    "start_time": "2024-03-19T13:44:20.460Z"
   },
   {
    "duration": 5,
    "start_time": "2024-03-19T13:44:20.740Z"
   },
   {
    "duration": 357,
    "start_time": "2024-03-19T13:44:20.747Z"
   },
   {
    "duration": 8,
    "start_time": "2024-03-19T13:44:21.106Z"
   },
   {
    "duration": 12,
    "start_time": "2024-03-19T13:44:21.116Z"
   },
   {
    "duration": 22,
    "start_time": "2024-03-19T13:44:21.129Z"
   },
   {
    "duration": 779,
    "start_time": "2024-03-19T13:44:21.153Z"
   },
   {
    "duration": 272,
    "start_time": "2024-03-19T13:44:21.934Z"
   },
   {
    "duration": 178,
    "start_time": "2024-03-19T13:44:22.208Z"
   },
   {
    "duration": 166,
    "start_time": "2024-03-19T13:44:22.392Z"
   },
   {
    "duration": 2038,
    "start_time": "2024-03-19T13:44:22.560Z"
   },
   {
    "duration": 2298,
    "start_time": "2024-03-19T13:44:24.600Z"
   },
   {
    "duration": 489,
    "start_time": "2024-03-19T13:44:26.900Z"
   },
   {
    "duration": 444,
    "start_time": "2024-03-19T13:44:27.391Z"
   },
   {
    "duration": 5,
    "start_time": "2024-03-19T13:44:27.836Z"
   },
   {
    "duration": 155,
    "start_time": "2024-03-19T13:44:27.842Z"
   },
   {
    "duration": 0,
    "start_time": "2024-03-19T13:44:27.999Z"
   },
   {
    "duration": 0,
    "start_time": "2024-03-19T13:44:28.000Z"
   },
   {
    "duration": 0,
    "start_time": "2024-03-19T13:44:28.002Z"
   },
   {
    "duration": 0,
    "start_time": "2024-03-19T13:44:28.003Z"
   },
   {
    "duration": 0,
    "start_time": "2024-03-19T13:44:28.004Z"
   },
   {
    "duration": 0,
    "start_time": "2024-03-19T13:44:28.005Z"
   },
   {
    "duration": 0,
    "start_time": "2024-03-19T13:44:28.006Z"
   },
   {
    "duration": 0,
    "start_time": "2024-03-19T13:44:28.007Z"
   },
   {
    "duration": 0,
    "start_time": "2024-03-19T13:44:28.009Z"
   },
   {
    "duration": 0,
    "start_time": "2024-03-19T13:44:28.010Z"
   },
   {
    "duration": 0,
    "start_time": "2024-03-19T13:44:28.011Z"
   },
   {
    "duration": 0,
    "start_time": "2024-03-19T13:44:28.012Z"
   },
   {
    "duration": 0,
    "start_time": "2024-03-19T13:44:28.013Z"
   },
   {
    "duration": 0,
    "start_time": "2024-03-19T13:44:28.015Z"
   },
   {
    "duration": 0,
    "start_time": "2024-03-19T13:44:28.016Z"
   },
   {
    "duration": 0,
    "start_time": "2024-03-19T13:44:28.017Z"
   },
   {
    "duration": 0,
    "start_time": "2024-03-19T13:44:28.019Z"
   },
   {
    "duration": 0,
    "start_time": "2024-03-19T13:44:28.020Z"
   },
   {
    "duration": 0,
    "start_time": "2024-03-19T13:44:28.022Z"
   },
   {
    "duration": 0,
    "start_time": "2024-03-19T13:44:28.023Z"
   },
   {
    "duration": 0,
    "start_time": "2024-03-19T13:44:28.024Z"
   },
   {
    "duration": 0,
    "start_time": "2024-03-19T13:44:28.025Z"
   },
   {
    "duration": 0,
    "start_time": "2024-03-19T13:44:28.026Z"
   },
   {
    "duration": 12,
    "start_time": "2024-03-19T13:44:46.349Z"
   },
   {
    "duration": 20,
    "start_time": "2024-03-19T13:45:03.663Z"
   },
   {
    "duration": 9174,
    "start_time": "2024-03-19T13:45:10.118Z"
   },
   {
    "duration": 1452,
    "start_time": "2024-03-19T13:45:19.295Z"
   },
   {
    "duration": 3,
    "start_time": "2024-03-19T13:45:20.748Z"
   },
   {
    "duration": 36,
    "start_time": "2024-03-19T13:45:20.754Z"
   },
   {
    "duration": 119,
    "start_time": "2024-03-19T13:45:20.791Z"
   },
   {
    "duration": 4,
    "start_time": "2024-03-19T13:45:20.912Z"
   },
   {
    "duration": 27,
    "start_time": "2024-03-19T13:45:20.918Z"
   },
   {
    "duration": 9,
    "start_time": "2024-03-19T13:45:20.947Z"
   },
   {
    "duration": 30,
    "start_time": "2024-03-19T13:45:20.958Z"
   },
   {
    "duration": 18,
    "start_time": "2024-03-19T13:45:20.992Z"
   },
   {
    "duration": 16,
    "start_time": "2024-03-19T13:45:21.012Z"
   },
   {
    "duration": 328,
    "start_time": "2024-03-19T13:45:21.030Z"
   },
   {
    "duration": 6,
    "start_time": "2024-03-19T13:45:21.360Z"
   },
   {
    "duration": 412,
    "start_time": "2024-03-19T13:45:21.368Z"
   },
   {
    "duration": 14,
    "start_time": "2024-03-19T13:45:21.781Z"
   },
   {
    "duration": 157,
    "start_time": "2024-03-19T13:45:21.797Z"
   },
   {
    "duration": 37,
    "start_time": "2024-03-19T13:45:21.956Z"
   },
   {
    "duration": 799,
    "start_time": "2024-03-19T13:45:21.994Z"
   },
   {
    "duration": 262,
    "start_time": "2024-03-19T13:45:22.795Z"
   },
   {
    "duration": 178,
    "start_time": "2024-03-19T13:45:23.059Z"
   },
   {
    "duration": 172,
    "start_time": "2024-03-19T13:45:23.239Z"
   },
   {
    "duration": 2197,
    "start_time": "2024-03-19T13:45:23.413Z"
   },
   {
    "duration": 2303,
    "start_time": "2024-03-19T13:45:25.692Z"
   },
   {
    "duration": 418,
    "start_time": "2024-03-19T13:45:28.001Z"
   },
   {
    "duration": 428,
    "start_time": "2024-03-19T13:45:28.421Z"
   },
   {
    "duration": 5,
    "start_time": "2024-03-19T13:45:28.851Z"
   },
   {
    "duration": 161,
    "start_time": "2024-03-19T13:45:28.857Z"
   },
   {
    "duration": 0,
    "start_time": "2024-03-19T13:45:29.020Z"
   },
   {
    "duration": 0,
    "start_time": "2024-03-19T13:45:29.022Z"
   },
   {
    "duration": 0,
    "start_time": "2024-03-19T13:45:29.023Z"
   },
   {
    "duration": 0,
    "start_time": "2024-03-19T13:45:29.024Z"
   },
   {
    "duration": 0,
    "start_time": "2024-03-19T13:45:29.025Z"
   },
   {
    "duration": 0,
    "start_time": "2024-03-19T13:45:29.027Z"
   },
   {
    "duration": 0,
    "start_time": "2024-03-19T13:45:29.029Z"
   },
   {
    "duration": 0,
    "start_time": "2024-03-19T13:45:29.030Z"
   },
   {
    "duration": 0,
    "start_time": "2024-03-19T13:45:29.031Z"
   },
   {
    "duration": 0,
    "start_time": "2024-03-19T13:45:29.033Z"
   },
   {
    "duration": 0,
    "start_time": "2024-03-19T13:45:29.034Z"
   },
   {
    "duration": 0,
    "start_time": "2024-03-19T13:45:29.036Z"
   },
   {
    "duration": 0,
    "start_time": "2024-03-19T13:45:29.037Z"
   },
   {
    "duration": 0,
    "start_time": "2024-03-19T13:45:29.038Z"
   },
   {
    "duration": 0,
    "start_time": "2024-03-19T13:45:29.039Z"
   },
   {
    "duration": 0,
    "start_time": "2024-03-19T13:45:29.040Z"
   },
   {
    "duration": 0,
    "start_time": "2024-03-19T13:45:29.041Z"
   },
   {
    "duration": 0,
    "start_time": "2024-03-19T13:45:29.043Z"
   },
   {
    "duration": 0,
    "start_time": "2024-03-19T13:45:29.044Z"
   },
   {
    "duration": 0,
    "start_time": "2024-03-19T13:45:29.045Z"
   },
   {
    "duration": 0,
    "start_time": "2024-03-19T13:45:29.046Z"
   },
   {
    "duration": 0,
    "start_time": "2024-03-19T13:45:29.046Z"
   },
   {
    "duration": 0,
    "start_time": "2024-03-19T13:45:29.092Z"
   },
   {
    "duration": 0,
    "start_time": "2024-03-19T13:45:29.094Z"
   },
   {
    "duration": 4,
    "start_time": "2024-03-19T13:48:47.489Z"
   },
   {
    "duration": 8618,
    "start_time": "2024-03-19T13:51:07.099Z"
   },
   {
    "duration": 1385,
    "start_time": "2024-03-19T13:51:15.720Z"
   },
   {
    "duration": 3,
    "start_time": "2024-03-19T13:51:17.107Z"
   },
   {
    "duration": 17,
    "start_time": "2024-03-19T13:51:17.112Z"
   },
   {
    "duration": 86,
    "start_time": "2024-03-19T13:51:17.131Z"
   },
   {
    "duration": 5,
    "start_time": "2024-03-19T13:51:17.218Z"
   },
   {
    "duration": 39,
    "start_time": "2024-03-19T13:51:17.224Z"
   },
   {
    "duration": 22,
    "start_time": "2024-03-19T13:51:17.265Z"
   },
   {
    "duration": 44,
    "start_time": "2024-03-19T13:51:17.288Z"
   },
   {
    "duration": 29,
    "start_time": "2024-03-19T13:51:17.335Z"
   },
   {
    "duration": 8,
    "start_time": "2024-03-19T13:51:17.365Z"
   },
   {
    "duration": 296,
    "start_time": "2024-03-19T13:51:17.375Z"
   },
   {
    "duration": 4,
    "start_time": "2024-03-19T13:51:17.673Z"
   },
   {
    "duration": 350,
    "start_time": "2024-03-19T13:51:17.678Z"
   },
   {
    "duration": 9,
    "start_time": "2024-03-19T13:51:18.029Z"
   },
   {
    "duration": 27,
    "start_time": "2024-03-19T13:51:18.040Z"
   },
   {
    "duration": 11,
    "start_time": "2024-03-19T13:51:18.069Z"
   },
   {
    "duration": 759,
    "start_time": "2024-03-19T13:51:18.082Z"
   },
   {
    "duration": 242,
    "start_time": "2024-03-19T13:51:18.844Z"
   },
   {
    "duration": 170,
    "start_time": "2024-03-19T13:51:19.088Z"
   },
   {
    "duration": 159,
    "start_time": "2024-03-19T13:51:19.267Z"
   },
   {
    "duration": 2466,
    "start_time": "2024-03-19T13:51:19.427Z"
   },
   {
    "duration": 2195,
    "start_time": "2024-03-19T13:51:21.898Z"
   },
   {
    "duration": 406,
    "start_time": "2024-03-19T13:51:24.095Z"
   },
   {
    "duration": 408,
    "start_time": "2024-03-19T13:51:24.503Z"
   },
   {
    "duration": 6,
    "start_time": "2024-03-19T13:51:24.913Z"
   },
   {
    "duration": 148,
    "start_time": "2024-03-19T13:51:24.920Z"
   },
   {
    "duration": 0,
    "start_time": "2024-03-19T13:51:25.071Z"
   },
   {
    "duration": 0,
    "start_time": "2024-03-19T13:51:25.072Z"
   },
   {
    "duration": 0,
    "start_time": "2024-03-19T13:51:25.074Z"
   },
   {
    "duration": 0,
    "start_time": "2024-03-19T13:51:25.076Z"
   },
   {
    "duration": 0,
    "start_time": "2024-03-19T13:51:25.077Z"
   },
   {
    "duration": 0,
    "start_time": "2024-03-19T13:51:25.092Z"
   },
   {
    "duration": 0,
    "start_time": "2024-03-19T13:51:25.094Z"
   },
   {
    "duration": 0,
    "start_time": "2024-03-19T13:51:25.096Z"
   },
   {
    "duration": 1,
    "start_time": "2024-03-19T13:51:25.097Z"
   },
   {
    "duration": 0,
    "start_time": "2024-03-19T13:51:25.099Z"
   },
   {
    "duration": 0,
    "start_time": "2024-03-19T13:51:25.101Z"
   },
   {
    "duration": 0,
    "start_time": "2024-03-19T13:51:25.102Z"
   },
   {
    "duration": 0,
    "start_time": "2024-03-19T13:51:25.104Z"
   },
   {
    "duration": 0,
    "start_time": "2024-03-19T13:51:25.105Z"
   },
   {
    "duration": 0,
    "start_time": "2024-03-19T13:51:25.107Z"
   },
   {
    "duration": 0,
    "start_time": "2024-03-19T13:51:25.109Z"
   },
   {
    "duration": 0,
    "start_time": "2024-03-19T13:51:25.111Z"
   },
   {
    "duration": 0,
    "start_time": "2024-03-19T13:51:25.112Z"
   },
   {
    "duration": 0,
    "start_time": "2024-03-19T13:51:25.114Z"
   },
   {
    "duration": 0,
    "start_time": "2024-03-19T13:51:25.115Z"
   },
   {
    "duration": 0,
    "start_time": "2024-03-19T13:51:25.117Z"
   },
   {
    "duration": 0,
    "start_time": "2024-03-19T13:51:25.118Z"
   },
   {
    "duration": 0,
    "start_time": "2024-03-19T13:51:25.119Z"
   },
   {
    "duration": 4,
    "start_time": "2024-03-19T13:51:37.362Z"
   },
   {
    "duration": 6,
    "start_time": "2024-03-19T13:52:12.601Z"
   },
   {
    "duration": 14,
    "start_time": "2024-03-19T13:52:14.356Z"
   },
   {
    "duration": 8584,
    "start_time": "2024-03-19T13:56:13.388Z"
   },
   {
    "duration": 1445,
    "start_time": "2024-03-19T13:56:21.975Z"
   },
   {
    "duration": 3,
    "start_time": "2024-03-19T13:56:23.422Z"
   },
   {
    "duration": 9,
    "start_time": "2024-03-19T13:56:23.428Z"
   },
   {
    "duration": 73,
    "start_time": "2024-03-19T13:56:23.439Z"
   },
   {
    "duration": 3,
    "start_time": "2024-03-19T13:56:23.515Z"
   },
   {
    "duration": 30,
    "start_time": "2024-03-19T13:56:23.520Z"
   },
   {
    "duration": 6,
    "start_time": "2024-03-19T13:56:23.552Z"
   },
   {
    "duration": 6,
    "start_time": "2024-03-19T13:56:23.560Z"
   },
   {
    "duration": 26,
    "start_time": "2024-03-19T13:56:23.569Z"
   },
   {
    "duration": 8,
    "start_time": "2024-03-19T13:56:23.597Z"
   },
   {
    "duration": 286,
    "start_time": "2024-03-19T13:56:23.607Z"
   },
   {
    "duration": 4,
    "start_time": "2024-03-19T13:56:23.895Z"
   },
   {
    "duration": 375,
    "start_time": "2024-03-19T13:56:23.901Z"
   },
   {
    "duration": 8,
    "start_time": "2024-03-19T13:56:24.277Z"
   },
   {
    "duration": 8,
    "start_time": "2024-03-19T13:56:24.292Z"
   },
   {
    "duration": 11,
    "start_time": "2024-03-19T13:56:24.302Z"
   },
   {
    "duration": 782,
    "start_time": "2024-03-19T13:56:24.315Z"
   },
   {
    "duration": 235,
    "start_time": "2024-03-19T13:56:25.099Z"
   },
   {
    "duration": 165,
    "start_time": "2024-03-19T13:56:25.336Z"
   },
   {
    "duration": 164,
    "start_time": "2024-03-19T13:56:25.504Z"
   },
   {
    "duration": 2223,
    "start_time": "2024-03-19T13:56:25.670Z"
   },
   {
    "duration": 2208,
    "start_time": "2024-03-19T13:56:27.896Z"
   },
   {
    "duration": 448,
    "start_time": "2024-03-19T13:56:30.193Z"
   },
   {
    "duration": 440,
    "start_time": "2024-03-19T13:56:30.643Z"
   },
   {
    "duration": 9,
    "start_time": "2024-03-19T13:56:31.085Z"
   },
   {
    "duration": 188,
    "start_time": "2024-03-19T13:56:31.096Z"
   },
   {
    "duration": 151,
    "start_time": "2024-03-19T13:56:31.288Z"
   },
   {
    "duration": 0,
    "start_time": "2024-03-19T13:56:31.441Z"
   },
   {
    "duration": 0,
    "start_time": "2024-03-19T13:56:31.442Z"
   },
   {
    "duration": 0,
    "start_time": "2024-03-19T13:56:31.443Z"
   },
   {
    "duration": 0,
    "start_time": "2024-03-19T13:56:31.444Z"
   },
   {
    "duration": 0,
    "start_time": "2024-03-19T13:56:31.446Z"
   },
   {
    "duration": 0,
    "start_time": "2024-03-19T13:56:31.447Z"
   },
   {
    "duration": 0,
    "start_time": "2024-03-19T13:56:31.449Z"
   },
   {
    "duration": 0,
    "start_time": "2024-03-19T13:56:31.450Z"
   },
   {
    "duration": 0,
    "start_time": "2024-03-19T13:56:31.451Z"
   },
   {
    "duration": 0,
    "start_time": "2024-03-19T13:56:31.452Z"
   },
   {
    "duration": 0,
    "start_time": "2024-03-19T13:56:31.453Z"
   },
   {
    "duration": 0,
    "start_time": "2024-03-19T13:56:31.455Z"
   },
   {
    "duration": 0,
    "start_time": "2024-03-19T13:56:31.456Z"
   },
   {
    "duration": 0,
    "start_time": "2024-03-19T13:56:31.457Z"
   },
   {
    "duration": 0,
    "start_time": "2024-03-19T13:56:31.458Z"
   },
   {
    "duration": 0,
    "start_time": "2024-03-19T13:56:31.460Z"
   },
   {
    "duration": 0,
    "start_time": "2024-03-19T13:56:31.461Z"
   },
   {
    "duration": 0,
    "start_time": "2024-03-19T13:56:31.491Z"
   },
   {
    "duration": 0,
    "start_time": "2024-03-19T13:56:31.494Z"
   },
   {
    "duration": 0,
    "start_time": "2024-03-19T13:56:31.496Z"
   },
   {
    "duration": 0,
    "start_time": "2024-03-19T13:56:31.497Z"
   },
   {
    "duration": 0,
    "start_time": "2024-03-19T13:56:31.499Z"
   },
   {
    "duration": 13,
    "start_time": "2024-03-19T13:56:43.521Z"
   },
   {
    "duration": 6,
    "start_time": "2024-03-19T13:57:02.580Z"
   },
   {
    "duration": 8730,
    "start_time": "2024-03-19T14:07:10.054Z"
   },
   {
    "duration": 1463,
    "start_time": "2024-03-19T14:07:18.787Z"
   },
   {
    "duration": 4,
    "start_time": "2024-03-19T14:07:20.251Z"
   },
   {
    "duration": 4,
    "start_time": "2024-03-19T14:07:20.258Z"
   },
   {
    "duration": 69,
    "start_time": "2024-03-19T14:07:20.263Z"
   },
   {
    "duration": 4,
    "start_time": "2024-03-19T14:07:20.333Z"
   },
   {
    "duration": 16,
    "start_time": "2024-03-19T14:07:20.338Z"
   },
   {
    "duration": 4,
    "start_time": "2024-03-19T14:07:20.355Z"
   },
   {
    "duration": 16,
    "start_time": "2024-03-19T14:07:20.361Z"
   },
   {
    "duration": 10,
    "start_time": "2024-03-19T14:07:20.391Z"
   },
   {
    "duration": 7,
    "start_time": "2024-03-19T14:07:20.402Z"
   },
   {
    "duration": 280,
    "start_time": "2024-03-19T14:07:20.411Z"
   },
   {
    "duration": 5,
    "start_time": "2024-03-19T14:07:20.693Z"
   },
   {
    "duration": 355,
    "start_time": "2024-03-19T14:07:20.699Z"
   },
   {
    "duration": 7,
    "start_time": "2024-03-19T14:07:21.056Z"
   },
   {
    "duration": 14,
    "start_time": "2024-03-19T14:07:21.065Z"
   },
   {
    "duration": 17,
    "start_time": "2024-03-19T14:07:21.080Z"
   },
   {
    "duration": 778,
    "start_time": "2024-03-19T14:07:21.099Z"
   },
   {
    "duration": 243,
    "start_time": "2024-03-19T14:07:21.879Z"
   },
   {
    "duration": 172,
    "start_time": "2024-03-19T14:07:22.124Z"
   },
   {
    "duration": 170,
    "start_time": "2024-03-19T14:07:22.297Z"
   },
   {
    "duration": 1926,
    "start_time": "2024-03-19T14:07:22.468Z"
   },
   {
    "duration": 1502,
    "start_time": "2024-03-19T14:07:24.396Z"
   },
   {
    "duration": 491,
    "start_time": "2024-03-19T14:07:25.901Z"
   },
   {
    "duration": 410,
    "start_time": "2024-03-19T14:07:26.393Z"
   },
   {
    "duration": 5,
    "start_time": "2024-03-19T14:07:26.805Z"
   },
   {
    "duration": 25,
    "start_time": "2024-03-19T14:07:26.812Z"
   },
   {
    "duration": 37,
    "start_time": "2024-03-19T14:07:26.841Z"
   },
   {
    "duration": 6,
    "start_time": "2024-03-19T14:07:26.880Z"
   },
   {
    "duration": 10,
    "start_time": "2024-03-19T14:07:26.888Z"
   },
   {
    "duration": 24,
    "start_time": "2024-03-19T14:07:26.899Z"
   },
   {
    "duration": 15,
    "start_time": "2024-03-19T14:07:26.925Z"
   },
   {
    "duration": 13,
    "start_time": "2024-03-19T14:07:26.942Z"
   },
   {
    "duration": 6,
    "start_time": "2024-03-19T14:07:26.957Z"
   },
   {
    "duration": 6,
    "start_time": "2024-03-19T14:07:26.964Z"
   },
   {
    "duration": 37,
    "start_time": "2024-03-19T14:07:26.972Z"
   },
   {
    "duration": 10,
    "start_time": "2024-03-19T14:07:27.010Z"
   },
   {
    "duration": 282,
    "start_time": "2024-03-19T14:07:27.021Z"
   },
   {
    "duration": 0,
    "start_time": "2024-03-19T14:07:27.304Z"
   },
   {
    "duration": 0,
    "start_time": "2024-03-19T14:07:27.306Z"
   },
   {
    "duration": 0,
    "start_time": "2024-03-19T14:07:27.307Z"
   },
   {
    "duration": 0,
    "start_time": "2024-03-19T14:07:27.308Z"
   },
   {
    "duration": 0,
    "start_time": "2024-03-19T14:07:27.309Z"
   },
   {
    "duration": 0,
    "start_time": "2024-03-19T14:07:27.310Z"
   },
   {
    "duration": 0,
    "start_time": "2024-03-19T14:07:27.312Z"
   },
   {
    "duration": 0,
    "start_time": "2024-03-19T14:07:27.312Z"
   },
   {
    "duration": 1,
    "start_time": "2024-03-19T14:07:27.313Z"
   },
   {
    "duration": 0,
    "start_time": "2024-03-19T14:07:27.315Z"
   },
   {
    "duration": 0,
    "start_time": "2024-03-19T14:07:27.316Z"
   },
   {
    "duration": 6,
    "start_time": "2024-03-19T14:09:29.730Z"
   },
   {
    "duration": 6,
    "start_time": "2024-03-19T14:09:32.224Z"
   },
   {
    "duration": 9,
    "start_time": "2024-03-19T14:10:41.310Z"
   },
   {
    "duration": 8555,
    "start_time": "2024-03-19T14:11:19.062Z"
   },
   {
    "duration": 1401,
    "start_time": "2024-03-19T14:11:27.620Z"
   },
   {
    "duration": 3,
    "start_time": "2024-03-19T14:11:29.023Z"
   },
   {
    "duration": 36,
    "start_time": "2024-03-19T14:11:29.028Z"
   },
   {
    "duration": 93,
    "start_time": "2024-03-19T14:11:29.065Z"
   },
   {
    "duration": 5,
    "start_time": "2024-03-19T14:11:29.160Z"
   },
   {
    "duration": 14,
    "start_time": "2024-03-19T14:11:29.167Z"
   },
   {
    "duration": 9,
    "start_time": "2024-03-19T14:11:29.183Z"
   },
   {
    "duration": 6,
    "start_time": "2024-03-19T14:11:29.194Z"
   },
   {
    "duration": 22,
    "start_time": "2024-03-19T14:11:29.204Z"
   },
   {
    "duration": 8,
    "start_time": "2024-03-19T14:11:29.228Z"
   },
   {
    "duration": 281,
    "start_time": "2024-03-19T14:11:29.238Z"
   },
   {
    "duration": 4,
    "start_time": "2024-03-19T14:11:29.521Z"
   },
   {
    "duration": 389,
    "start_time": "2024-03-19T14:11:29.527Z"
   },
   {
    "duration": 9,
    "start_time": "2024-03-19T14:11:29.917Z"
   },
   {
    "duration": 30,
    "start_time": "2024-03-19T14:11:29.928Z"
   },
   {
    "duration": 8,
    "start_time": "2024-03-19T14:11:29.960Z"
   },
   {
    "duration": 773,
    "start_time": "2024-03-19T14:11:29.970Z"
   },
   {
    "duration": 249,
    "start_time": "2024-03-19T14:11:30.745Z"
   },
   {
    "duration": 627,
    "start_time": "2024-03-19T14:11:30.996Z"
   },
   {
    "duration": 183,
    "start_time": "2024-03-19T14:11:31.625Z"
   },
   {
    "duration": 2283,
    "start_time": "2024-03-19T14:11:31.811Z"
   },
   {
    "duration": 2295,
    "start_time": "2024-03-19T14:11:34.097Z"
   },
   {
    "duration": 408,
    "start_time": "2024-03-19T14:11:36.399Z"
   },
   {
    "duration": 426,
    "start_time": "2024-03-19T14:11:36.809Z"
   },
   {
    "duration": 4,
    "start_time": "2024-03-19T14:11:37.237Z"
   },
   {
    "duration": 23,
    "start_time": "2024-03-19T14:11:37.243Z"
   },
   {
    "duration": 43,
    "start_time": "2024-03-19T14:11:37.271Z"
   },
   {
    "duration": 147,
    "start_time": "2024-03-19T14:11:37.316Z"
   },
   {
    "duration": 0,
    "start_time": "2024-03-19T14:11:37.465Z"
   },
   {
    "duration": 0,
    "start_time": "2024-03-19T14:11:37.466Z"
   },
   {
    "duration": 0,
    "start_time": "2024-03-19T14:11:37.468Z"
   },
   {
    "duration": 0,
    "start_time": "2024-03-19T14:11:37.469Z"
   },
   {
    "duration": 0,
    "start_time": "2024-03-19T14:11:37.471Z"
   },
   {
    "duration": 0,
    "start_time": "2024-03-19T14:11:37.472Z"
   },
   {
    "duration": 0,
    "start_time": "2024-03-19T14:11:37.474Z"
   },
   {
    "duration": 0,
    "start_time": "2024-03-19T14:11:37.491Z"
   },
   {
    "duration": 0,
    "start_time": "2024-03-19T14:11:37.492Z"
   },
   {
    "duration": 0,
    "start_time": "2024-03-19T14:11:37.494Z"
   },
   {
    "duration": 0,
    "start_time": "2024-03-19T14:11:37.495Z"
   },
   {
    "duration": 0,
    "start_time": "2024-03-19T14:11:37.496Z"
   },
   {
    "duration": 0,
    "start_time": "2024-03-19T14:11:37.497Z"
   },
   {
    "duration": 0,
    "start_time": "2024-03-19T14:11:37.498Z"
   },
   {
    "duration": 0,
    "start_time": "2024-03-19T14:11:37.500Z"
   },
   {
    "duration": 0,
    "start_time": "2024-03-19T14:11:37.502Z"
   },
   {
    "duration": 0,
    "start_time": "2024-03-19T14:11:37.503Z"
   },
   {
    "duration": 0,
    "start_time": "2024-03-19T14:11:37.504Z"
   },
   {
    "duration": 0,
    "start_time": "2024-03-19T14:11:37.506Z"
   },
   {
    "duration": 0,
    "start_time": "2024-03-19T14:11:37.508Z"
   },
   {
    "duration": 0,
    "start_time": "2024-03-19T14:11:37.509Z"
   },
   {
    "duration": 0,
    "start_time": "2024-03-19T14:11:37.511Z"
   },
   {
    "duration": 15,
    "start_time": "2024-03-19T14:11:49.491Z"
   },
   {
    "duration": 8,
    "start_time": "2024-03-19T14:12:00.943Z"
   },
   {
    "duration": 5,
    "start_time": "2024-03-19T14:12:08.715Z"
   },
   {
    "duration": 11,
    "start_time": "2024-03-19T14:12:15.461Z"
   },
   {
    "duration": 8774,
    "start_time": "2024-03-19T14:12:52.709Z"
   },
   {
    "duration": 1517,
    "start_time": "2024-03-19T14:13:01.486Z"
   },
   {
    "duration": 3,
    "start_time": "2024-03-19T14:13:03.005Z"
   },
   {
    "duration": 15,
    "start_time": "2024-03-19T14:13:03.011Z"
   },
   {
    "duration": 105,
    "start_time": "2024-03-19T14:13:03.027Z"
   },
   {
    "duration": 6,
    "start_time": "2024-03-19T14:13:03.134Z"
   },
   {
    "duration": 53,
    "start_time": "2024-03-19T14:13:03.141Z"
   },
   {
    "duration": 40,
    "start_time": "2024-03-19T14:13:03.196Z"
   },
   {
    "duration": 103,
    "start_time": "2024-03-19T14:13:03.239Z"
   },
   {
    "duration": 49,
    "start_time": "2024-03-19T14:13:03.346Z"
   },
   {
    "duration": 20,
    "start_time": "2024-03-19T14:13:03.396Z"
   },
   {
    "duration": 289,
    "start_time": "2024-03-19T14:13:03.418Z"
   },
   {
    "duration": 4,
    "start_time": "2024-03-19T14:13:03.709Z"
   },
   {
    "duration": 364,
    "start_time": "2024-03-19T14:13:03.715Z"
   },
   {
    "duration": 11,
    "start_time": "2024-03-19T14:13:04.081Z"
   },
   {
    "duration": 18,
    "start_time": "2024-03-19T14:13:04.094Z"
   },
   {
    "duration": 8,
    "start_time": "2024-03-19T14:13:04.113Z"
   },
   {
    "duration": 760,
    "start_time": "2024-03-19T14:13:04.123Z"
   },
   {
    "duration": 244,
    "start_time": "2024-03-19T14:13:04.885Z"
   },
   {
    "duration": 172,
    "start_time": "2024-03-19T14:13:05.131Z"
   },
   {
    "duration": 170,
    "start_time": "2024-03-19T14:13:05.305Z"
   },
   {
    "duration": 2315,
    "start_time": "2024-03-19T14:13:05.478Z"
   },
   {
    "duration": 2602,
    "start_time": "2024-03-19T14:13:07.796Z"
   },
   {
    "duration": 413,
    "start_time": "2024-03-19T14:13:10.401Z"
   },
   {
    "duration": 412,
    "start_time": "2024-03-19T14:13:10.816Z"
   },
   {
    "duration": 6,
    "start_time": "2024-03-19T14:13:11.230Z"
   },
   {
    "duration": 17,
    "start_time": "2024-03-19T14:13:11.238Z"
   },
   {
    "duration": 14,
    "start_time": "2024-03-19T14:13:11.260Z"
   },
   {
    "duration": 18,
    "start_time": "2024-03-19T14:13:11.276Z"
   },
   {
    "duration": 17,
    "start_time": "2024-03-19T14:13:11.296Z"
   },
   {
    "duration": 11,
    "start_time": "2024-03-19T14:13:11.315Z"
   },
   {
    "duration": 123,
    "start_time": "2024-03-19T14:13:11.328Z"
   },
   {
    "duration": 0,
    "start_time": "2024-03-19T14:13:11.453Z"
   },
   {
    "duration": 0,
    "start_time": "2024-03-19T14:13:11.454Z"
   },
   {
    "duration": 0,
    "start_time": "2024-03-19T14:13:11.456Z"
   },
   {
    "duration": 0,
    "start_time": "2024-03-19T14:13:11.457Z"
   },
   {
    "duration": 0,
    "start_time": "2024-03-19T14:13:11.459Z"
   },
   {
    "duration": 0,
    "start_time": "2024-03-19T14:13:11.460Z"
   },
   {
    "duration": 0,
    "start_time": "2024-03-19T14:13:11.462Z"
   },
   {
    "duration": 0,
    "start_time": "2024-03-19T14:13:11.464Z"
   },
   {
    "duration": 0,
    "start_time": "2024-03-19T14:13:11.465Z"
   },
   {
    "duration": 0,
    "start_time": "2024-03-19T14:13:11.467Z"
   },
   {
    "duration": 0,
    "start_time": "2024-03-19T14:13:11.492Z"
   },
   {
    "duration": 0,
    "start_time": "2024-03-19T14:13:11.493Z"
   },
   {
    "duration": 0,
    "start_time": "2024-03-19T14:13:11.495Z"
   },
   {
    "duration": 0,
    "start_time": "2024-03-19T14:13:11.496Z"
   },
   {
    "duration": 1,
    "start_time": "2024-03-19T14:13:11.497Z"
   },
   {
    "duration": 0,
    "start_time": "2024-03-19T14:13:11.515Z"
   },
   {
    "duration": 0,
    "start_time": "2024-03-19T14:13:11.517Z"
   },
   {
    "duration": 0,
    "start_time": "2024-03-19T14:13:11.518Z"
   },
   {
    "duration": 5,
    "start_time": "2024-03-19T14:13:31.424Z"
   },
   {
    "duration": 6,
    "start_time": "2024-03-19T14:13:33.152Z"
   },
   {
    "duration": 3,
    "start_time": "2024-03-19T14:13:38.737Z"
   },
   {
    "duration": 3,
    "start_time": "2024-03-19T14:13:39.873Z"
   },
   {
    "duration": 14,
    "start_time": "2024-03-19T14:14:35.766Z"
   },
   {
    "duration": 4,
    "start_time": "2024-03-19T14:15:58.050Z"
   },
   {
    "duration": 6,
    "start_time": "2024-03-19T14:19:04.504Z"
   },
   {
    "duration": 2,
    "start_time": "2024-03-19T14:19:16.143Z"
   },
   {
    "duration": 3,
    "start_time": "2024-03-19T14:19:18.106Z"
   },
   {
    "duration": 3,
    "start_time": "2024-03-19T14:19:47.195Z"
   },
   {
    "duration": 646,
    "start_time": "2024-03-19T14:20:02.582Z"
   },
   {
    "duration": 10,
    "start_time": "2024-03-19T14:20:05.463Z"
   },
   {
    "duration": 7,
    "start_time": "2024-03-19T14:24:44.426Z"
   },
   {
    "duration": 9,
    "start_time": "2024-03-19T14:24:46.659Z"
   },
   {
    "duration": 8684,
    "start_time": "2024-03-19T14:26:33.175Z"
   },
   {
    "duration": 1456,
    "start_time": "2024-03-19T14:26:41.862Z"
   },
   {
    "duration": 3,
    "start_time": "2024-03-19T14:26:43.320Z"
   },
   {
    "duration": 12,
    "start_time": "2024-03-19T14:26:43.326Z"
   },
   {
    "duration": 68,
    "start_time": "2024-03-19T14:26:43.340Z"
   },
   {
    "duration": 4,
    "start_time": "2024-03-19T14:26:43.409Z"
   },
   {
    "duration": 31,
    "start_time": "2024-03-19T14:26:43.415Z"
   },
   {
    "duration": 5,
    "start_time": "2024-03-19T14:26:43.448Z"
   },
   {
    "duration": 5,
    "start_time": "2024-03-19T14:26:43.455Z"
   },
   {
    "duration": 10,
    "start_time": "2024-03-19T14:26:43.464Z"
   },
   {
    "duration": 37,
    "start_time": "2024-03-19T14:26:43.476Z"
   },
   {
    "duration": 280,
    "start_time": "2024-03-19T14:26:43.515Z"
   },
   {
    "duration": 5,
    "start_time": "2024-03-19T14:26:43.797Z"
   },
   {
    "duration": 387,
    "start_time": "2024-03-19T14:26:43.804Z"
   },
   {
    "duration": 8,
    "start_time": "2024-03-19T14:26:44.193Z"
   },
   {
    "duration": 15,
    "start_time": "2024-03-19T14:26:44.203Z"
   },
   {
    "duration": 8,
    "start_time": "2024-03-19T14:26:44.220Z"
   },
   {
    "duration": 816,
    "start_time": "2024-03-19T14:26:44.230Z"
   },
   {
    "duration": 246,
    "start_time": "2024-03-19T14:26:45.048Z"
   },
   {
    "duration": 165,
    "start_time": "2024-03-19T14:26:45.296Z"
   },
   {
    "duration": 167,
    "start_time": "2024-03-19T14:26:45.463Z"
   },
   {
    "duration": 2360,
    "start_time": "2024-03-19T14:26:45.632Z"
   },
   {
    "duration": 2598,
    "start_time": "2024-03-19T14:26:47.995Z"
   },
   {
    "duration": 407,
    "start_time": "2024-03-19T14:26:50.595Z"
   },
   {
    "duration": 460,
    "start_time": "2024-03-19T14:26:51.004Z"
   },
   {
    "duration": 5,
    "start_time": "2024-03-19T14:26:51.465Z"
   },
   {
    "duration": 4,
    "start_time": "2024-03-19T14:26:51.472Z"
   },
   {
    "duration": 13,
    "start_time": "2024-03-19T14:26:51.495Z"
   },
   {
    "duration": 12,
    "start_time": "2024-03-19T14:26:51.510Z"
   },
   {
    "duration": 8,
    "start_time": "2024-03-19T14:26:51.524Z"
   },
   {
    "duration": 11,
    "start_time": "2024-03-19T14:26:51.534Z"
   },
   {
    "duration": 5,
    "start_time": "2024-03-19T14:26:51.546Z"
   },
   {
    "duration": 39,
    "start_time": "2024-03-19T14:26:51.553Z"
   },
   {
    "duration": 4,
    "start_time": "2024-03-19T14:26:51.594Z"
   },
   {
    "duration": 4,
    "start_time": "2024-03-19T14:26:51.600Z"
   },
   {
    "duration": 28,
    "start_time": "2024-03-19T14:26:51.605Z"
   },
   {
    "duration": 6,
    "start_time": "2024-03-19T14:26:51.634Z"
   },
   {
    "duration": 9,
    "start_time": "2024-03-19T14:26:51.642Z"
   },
   {
    "duration": 690,
    "start_time": "2024-03-19T14:26:51.653Z"
   },
   {
    "duration": 6,
    "start_time": "2024-03-19T14:26:52.345Z"
   },
   {
    "duration": 134,
    "start_time": "2024-03-19T14:26:52.353Z"
   },
   {
    "duration": 0,
    "start_time": "2024-03-19T14:26:52.488Z"
   },
   {
    "duration": 0,
    "start_time": "2024-03-19T14:26:52.492Z"
   },
   {
    "duration": 0,
    "start_time": "2024-03-19T14:26:52.494Z"
   },
   {
    "duration": 0,
    "start_time": "2024-03-19T14:26:52.495Z"
   },
   {
    "duration": 0,
    "start_time": "2024-03-19T14:26:52.496Z"
   },
   {
    "duration": 0,
    "start_time": "2024-03-19T14:26:52.497Z"
   },
   {
    "duration": 0,
    "start_time": "2024-03-19T14:26:52.498Z"
   },
   {
    "duration": 0,
    "start_time": "2024-03-19T14:26:52.500Z"
   },
   {
    "duration": 0,
    "start_time": "2024-03-19T14:26:52.501Z"
   },
   {
    "duration": 0,
    "start_time": "2024-03-19T14:26:52.502Z"
   },
   {
    "duration": 0,
    "start_time": "2024-03-19T14:26:52.504Z"
   },
   {
    "duration": 11,
    "start_time": "2024-03-19T14:27:04.271Z"
   },
   {
    "duration": 7,
    "start_time": "2024-03-19T14:27:13.067Z"
   },
   {
    "duration": 9,
    "start_time": "2024-03-19T14:27:29.388Z"
   },
   {
    "duration": 4,
    "start_time": "2024-03-19T14:28:03.504Z"
   },
   {
    "duration": 9,
    "start_time": "2024-03-19T14:28:06.596Z"
   },
   {
    "duration": 3,
    "start_time": "2024-03-19T14:28:10.432Z"
   },
   {
    "duration": 4065,
    "start_time": "2024-03-19T14:28:20.917Z"
   },
   {
    "duration": 11,
    "start_time": "2024-03-19T14:31:17.673Z"
   },
   {
    "duration": 4,
    "start_time": "2024-03-19T14:31:19.155Z"
   },
   {
    "duration": 3,
    "start_time": "2024-03-19T14:31:19.996Z"
   },
   {
    "duration": 2,
    "start_time": "2024-03-19T14:31:55.791Z"
   },
   {
    "duration": 1234,
    "start_time": "2024-03-19T14:31:56.493Z"
   },
   {
    "duration": 7,
    "start_time": "2024-03-19T14:33:12.953Z"
   },
   {
    "duration": 12,
    "start_time": "2024-03-19T14:34:16.407Z"
   },
   {
    "duration": 3450,
    "start_time": "2024-03-19T14:34:21.074Z"
   },
   {
    "duration": 8644,
    "start_time": "2024-03-19T14:34:31.560Z"
   },
   {
    "duration": 1424,
    "start_time": "2024-03-19T14:34:40.207Z"
   },
   {
    "duration": 3,
    "start_time": "2024-03-19T14:34:41.633Z"
   },
   {
    "duration": 6,
    "start_time": "2024-03-19T14:34:41.638Z"
   },
   {
    "duration": 69,
    "start_time": "2024-03-19T14:34:41.645Z"
   },
   {
    "duration": 4,
    "start_time": "2024-03-19T14:34:41.716Z"
   },
   {
    "duration": 14,
    "start_time": "2024-03-19T14:34:41.721Z"
   },
   {
    "duration": 4,
    "start_time": "2024-03-19T14:34:41.737Z"
   },
   {
    "duration": 8,
    "start_time": "2024-03-19T14:34:41.742Z"
   },
   {
    "duration": 8,
    "start_time": "2024-03-19T14:34:41.753Z"
   },
   {
    "duration": 30,
    "start_time": "2024-03-19T14:34:41.763Z"
   },
   {
    "duration": 276,
    "start_time": "2024-03-19T14:34:41.794Z"
   },
   {
    "duration": 5,
    "start_time": "2024-03-19T14:34:42.072Z"
   },
   {
    "duration": 372,
    "start_time": "2024-03-19T14:34:42.091Z"
   },
   {
    "duration": 7,
    "start_time": "2024-03-19T14:34:42.465Z"
   },
   {
    "duration": 74,
    "start_time": "2024-03-19T14:34:42.474Z"
   },
   {
    "duration": 27,
    "start_time": "2024-03-19T14:34:42.550Z"
   },
   {
    "duration": 789,
    "start_time": "2024-03-19T14:34:42.579Z"
   },
   {
    "duration": 255,
    "start_time": "2024-03-19T14:34:43.370Z"
   },
   {
    "duration": 173,
    "start_time": "2024-03-19T14:34:43.627Z"
   },
   {
    "duration": 171,
    "start_time": "2024-03-19T14:34:43.802Z"
   },
   {
    "duration": 1918,
    "start_time": "2024-03-19T14:34:43.974Z"
   },
   {
    "duration": 2093,
    "start_time": "2024-03-19T14:34:45.898Z"
   },
   {
    "duration": 413,
    "start_time": "2024-03-19T14:34:47.999Z"
   },
   {
    "duration": 411,
    "start_time": "2024-03-19T14:34:48.414Z"
   },
   {
    "duration": 5,
    "start_time": "2024-03-19T14:34:48.826Z"
   },
   {
    "duration": 108,
    "start_time": "2024-03-19T14:34:48.832Z"
   },
   {
    "duration": 42,
    "start_time": "2024-03-19T14:34:48.944Z"
   },
   {
    "duration": 22,
    "start_time": "2024-03-19T14:34:48.988Z"
   },
   {
    "duration": 48,
    "start_time": "2024-03-19T14:34:49.011Z"
   },
   {
    "duration": 39,
    "start_time": "2024-03-19T14:34:49.061Z"
   },
   {
    "duration": 34,
    "start_time": "2024-03-19T14:34:49.102Z"
   },
   {
    "duration": 20,
    "start_time": "2024-03-19T14:34:49.138Z"
   },
   {
    "duration": 6,
    "start_time": "2024-03-19T14:34:49.159Z"
   },
   {
    "duration": 9,
    "start_time": "2024-03-19T14:34:49.167Z"
   },
   {
    "duration": 40,
    "start_time": "2024-03-19T14:34:49.178Z"
   },
   {
    "duration": 34,
    "start_time": "2024-03-19T14:34:49.220Z"
   },
   {
    "duration": 44,
    "start_time": "2024-03-19T14:34:49.256Z"
   },
   {
    "duration": 654,
    "start_time": "2024-03-19T14:34:49.302Z"
   },
   {
    "duration": 7,
    "start_time": "2024-03-19T14:34:49.958Z"
   },
   {
    "duration": 13,
    "start_time": "2024-03-19T14:34:49.967Z"
   },
   {
    "duration": 7,
    "start_time": "2024-03-19T14:34:49.994Z"
   },
   {
    "duration": 19,
    "start_time": "2024-03-19T14:34:50.003Z"
   },
   {
    "duration": 30,
    "start_time": "2024-03-19T14:34:50.025Z"
   },
   {
    "duration": 3699,
    "start_time": "2024-03-19T14:34:50.057Z"
   },
   {
    "duration": 11,
    "start_time": "2024-03-19T14:34:53.758Z"
   },
   {
    "duration": 20,
    "start_time": "2024-03-19T14:34:53.770Z"
   },
   {
    "duration": 33,
    "start_time": "2024-03-19T14:34:53.792Z"
   },
   {
    "duration": 38,
    "start_time": "2024-03-19T14:34:53.827Z"
   },
   {
    "duration": 1196,
    "start_time": "2024-03-19T14:34:53.867Z"
   },
   {
    "duration": 7,
    "start_time": "2024-03-19T14:34:55.065Z"
   },
   {
    "duration": 7,
    "start_time": "2024-03-19T14:36:08.493Z"
   },
   {
    "duration": 8746,
    "start_time": "2024-03-19T14:36:22.154Z"
   },
   {
    "duration": 1467,
    "start_time": "2024-03-19T14:36:30.903Z"
   },
   {
    "duration": 3,
    "start_time": "2024-03-19T14:36:32.372Z"
   },
   {
    "duration": 83,
    "start_time": "2024-03-19T14:36:32.377Z"
   },
   {
    "duration": 219,
    "start_time": "2024-03-19T14:36:32.461Z"
   },
   {
    "duration": 201,
    "start_time": "2024-03-19T14:36:32.682Z"
   },
   {
    "duration": 42,
    "start_time": "2024-03-19T14:36:32.885Z"
   },
   {
    "duration": 16,
    "start_time": "2024-03-19T14:36:32.929Z"
   },
   {
    "duration": 69,
    "start_time": "2024-03-19T14:36:32.946Z"
   },
   {
    "duration": 19,
    "start_time": "2024-03-19T14:36:33.018Z"
   },
   {
    "duration": 13,
    "start_time": "2024-03-19T14:36:33.039Z"
   },
   {
    "duration": 273,
    "start_time": "2024-03-19T14:36:33.054Z"
   },
   {
    "duration": 5,
    "start_time": "2024-03-19T14:36:33.330Z"
   },
   {
    "duration": 363,
    "start_time": "2024-03-19T14:36:33.337Z"
   },
   {
    "duration": 7,
    "start_time": "2024-03-19T14:36:33.702Z"
   },
   {
    "duration": 51,
    "start_time": "2024-03-19T14:36:33.711Z"
   },
   {
    "duration": 46,
    "start_time": "2024-03-19T14:36:33.764Z"
   },
   {
    "duration": 721,
    "start_time": "2024-03-19T14:36:33.812Z"
   },
   {
    "duration": 247,
    "start_time": "2024-03-19T14:36:34.535Z"
   },
   {
    "duration": 187,
    "start_time": "2024-03-19T14:36:34.784Z"
   },
   {
    "duration": 169,
    "start_time": "2024-03-19T14:36:34.973Z"
   },
   {
    "duration": 2150,
    "start_time": "2024-03-19T14:36:35.143Z"
   },
   {
    "duration": 2104,
    "start_time": "2024-03-19T14:36:37.295Z"
   },
   {
    "duration": 511,
    "start_time": "2024-03-19T14:36:39.402Z"
   },
   {
    "duration": 438,
    "start_time": "2024-03-19T14:36:39.915Z"
   },
   {
    "duration": 4,
    "start_time": "2024-03-19T14:36:40.355Z"
   },
   {
    "duration": 12,
    "start_time": "2024-03-19T14:36:40.361Z"
   },
   {
    "duration": 24,
    "start_time": "2024-03-19T14:36:40.377Z"
   },
   {
    "duration": 16,
    "start_time": "2024-03-19T14:36:40.403Z"
   },
   {
    "duration": 26,
    "start_time": "2024-03-19T14:36:40.421Z"
   },
   {
    "duration": 15,
    "start_time": "2024-03-19T14:36:40.449Z"
   },
   {
    "duration": 13,
    "start_time": "2024-03-19T14:36:40.466Z"
   },
   {
    "duration": 7,
    "start_time": "2024-03-19T14:36:40.481Z"
   },
   {
    "duration": 5,
    "start_time": "2024-03-19T14:36:40.489Z"
   },
   {
    "duration": 5,
    "start_time": "2024-03-19T14:36:40.496Z"
   },
   {
    "duration": 10,
    "start_time": "2024-03-19T14:36:40.503Z"
   },
   {
    "duration": 17,
    "start_time": "2024-03-19T14:36:40.515Z"
   },
   {
    "duration": 12,
    "start_time": "2024-03-19T14:36:40.534Z"
   },
   {
    "duration": 661,
    "start_time": "2024-03-19T14:36:40.547Z"
   },
   {
    "duration": 8,
    "start_time": "2024-03-19T14:36:41.210Z"
   },
   {
    "duration": 40,
    "start_time": "2024-03-19T14:36:41.220Z"
   },
   {
    "duration": 26,
    "start_time": "2024-03-19T14:36:41.261Z"
   },
   {
    "duration": 37,
    "start_time": "2024-03-19T14:36:41.289Z"
   },
   {
    "duration": 40,
    "start_time": "2024-03-19T14:36:41.328Z"
   },
   {
    "duration": 4226,
    "start_time": "2024-03-19T14:36:41.370Z"
   },
   {
    "duration": 11,
    "start_time": "2024-03-19T14:36:45.598Z"
   },
   {
    "duration": 21,
    "start_time": "2024-03-19T14:36:45.611Z"
   },
   {
    "duration": 6,
    "start_time": "2024-03-19T14:36:45.633Z"
   },
   {
    "duration": 13,
    "start_time": "2024-03-19T14:36:45.641Z"
   },
   {
    "duration": 1262,
    "start_time": "2024-03-19T14:36:45.656Z"
   },
   {
    "duration": 7,
    "start_time": "2024-03-19T14:36:46.919Z"
   },
   {
    "duration": 121,
    "start_time": "2024-03-19T14:36:46.928Z"
   },
   {
    "duration": 7,
    "start_time": "2024-03-19T14:38:25.620Z"
   },
   {
    "duration": 7,
    "start_time": "2024-03-19T14:40:55.939Z"
   },
   {
    "duration": 7,
    "start_time": "2024-03-19T14:40:57.519Z"
   },
   {
    "duration": 11,
    "start_time": "2024-03-19T14:42:00.072Z"
   },
   {
    "duration": 11,
    "start_time": "2024-03-19T14:42:07.331Z"
   },
   {
    "duration": 8624,
    "start_time": "2024-03-19T14:43:02.835Z"
   },
   {
    "duration": 1463,
    "start_time": "2024-03-19T14:43:11.463Z"
   },
   {
    "duration": 4,
    "start_time": "2024-03-19T14:43:12.927Z"
   },
   {
    "duration": 21,
    "start_time": "2024-03-19T14:43:12.933Z"
   },
   {
    "duration": 75,
    "start_time": "2024-03-19T14:43:12.956Z"
   },
   {
    "duration": 4,
    "start_time": "2024-03-19T14:43:13.033Z"
   },
   {
    "duration": 20,
    "start_time": "2024-03-19T14:43:13.039Z"
   },
   {
    "duration": 7,
    "start_time": "2024-03-19T14:43:13.060Z"
   },
   {
    "duration": 15,
    "start_time": "2024-03-19T14:43:13.068Z"
   },
   {
    "duration": 17,
    "start_time": "2024-03-19T14:43:13.091Z"
   },
   {
    "duration": 26,
    "start_time": "2024-03-19T14:43:13.110Z"
   },
   {
    "duration": 293,
    "start_time": "2024-03-19T14:43:13.138Z"
   },
   {
    "duration": 4,
    "start_time": "2024-03-19T14:43:13.433Z"
   },
   {
    "duration": 346,
    "start_time": "2024-03-19T14:43:13.438Z"
   },
   {
    "duration": 7,
    "start_time": "2024-03-19T14:43:13.786Z"
   },
   {
    "duration": 15,
    "start_time": "2024-03-19T14:43:13.794Z"
   },
   {
    "duration": 25,
    "start_time": "2024-03-19T14:43:13.810Z"
   },
   {
    "duration": 760,
    "start_time": "2024-03-19T14:43:13.837Z"
   },
   {
    "duration": 231,
    "start_time": "2024-03-19T14:43:14.598Z"
   },
   {
    "duration": 155,
    "start_time": "2024-03-19T14:43:14.831Z"
   },
   {
    "duration": 167,
    "start_time": "2024-03-19T14:43:14.988Z"
   },
   {
    "duration": 2539,
    "start_time": "2024-03-19T14:43:15.156Z"
   },
   {
    "duration": 2396,
    "start_time": "2024-03-19T14:43:17.697Z"
   },
   {
    "duration": 404,
    "start_time": "2024-03-19T14:43:20.101Z"
   },
   {
    "duration": 415,
    "start_time": "2024-03-19T14:43:20.507Z"
   },
   {
    "duration": 5,
    "start_time": "2024-03-19T14:43:20.924Z"
   },
   {
    "duration": 6,
    "start_time": "2024-03-19T14:43:20.931Z"
   },
   {
    "duration": 21,
    "start_time": "2024-03-19T14:43:20.942Z"
   },
   {
    "duration": 8,
    "start_time": "2024-03-19T14:43:20.965Z"
   },
   {
    "duration": 21,
    "start_time": "2024-03-19T14:43:20.975Z"
   },
   {
    "duration": 5,
    "start_time": "2024-03-19T14:43:20.998Z"
   },
   {
    "duration": 6,
    "start_time": "2024-03-19T14:43:21.005Z"
   },
   {
    "duration": 14,
    "start_time": "2024-03-19T14:43:21.013Z"
   },
   {
    "duration": 75,
    "start_time": "2024-03-19T14:43:21.028Z"
   },
   {
    "duration": 5,
    "start_time": "2024-03-19T14:43:21.105Z"
   },
   {
    "duration": 6,
    "start_time": "2024-03-19T14:43:21.112Z"
   },
   {
    "duration": 5,
    "start_time": "2024-03-19T14:43:21.120Z"
   },
   {
    "duration": 5,
    "start_time": "2024-03-19T14:43:21.127Z"
   },
   {
    "duration": 679,
    "start_time": "2024-03-19T14:43:21.134Z"
   },
   {
    "duration": 7,
    "start_time": "2024-03-19T14:43:21.815Z"
   },
   {
    "duration": 9,
    "start_time": "2024-03-19T14:43:21.824Z"
   },
   {
    "duration": 8,
    "start_time": "2024-03-19T14:43:21.835Z"
   },
   {
    "duration": 6,
    "start_time": "2024-03-19T14:43:21.845Z"
   },
   {
    "duration": 3854,
    "start_time": "2024-03-19T14:43:21.852Z"
   },
   {
    "duration": 11,
    "start_time": "2024-03-19T14:43:25.708Z"
   },
   {
    "duration": 6,
    "start_time": "2024-03-19T14:43:25.721Z"
   },
   {
    "duration": 9,
    "start_time": "2024-03-19T14:43:25.729Z"
   },
   {
    "duration": 5,
    "start_time": "2024-03-19T14:43:25.740Z"
   },
   {
    "duration": 1101,
    "start_time": "2024-03-19T14:43:25.747Z"
   },
   {
    "duration": 7,
    "start_time": "2024-03-19T14:43:26.850Z"
   },
   {
    "duration": 18,
    "start_time": "2024-03-19T14:43:26.859Z"
   },
   {
    "duration": 8565,
    "start_time": "2024-03-19T14:43:46.883Z"
   },
   {
    "duration": 1360,
    "start_time": "2024-03-19T14:43:55.451Z"
   },
   {
    "duration": 3,
    "start_time": "2024-03-19T14:43:56.813Z"
   },
   {
    "duration": 16,
    "start_time": "2024-03-19T14:43:56.818Z"
   },
   {
    "duration": 72,
    "start_time": "2024-03-19T14:43:56.836Z"
   },
   {
    "duration": 4,
    "start_time": "2024-03-19T14:43:56.910Z"
   },
   {
    "duration": 15,
    "start_time": "2024-03-19T14:43:56.916Z"
   },
   {
    "duration": 5,
    "start_time": "2024-03-19T14:43:56.933Z"
   },
   {
    "duration": 22,
    "start_time": "2024-03-19T14:43:56.940Z"
   },
   {
    "duration": 24,
    "start_time": "2024-03-19T14:43:56.965Z"
   },
   {
    "duration": 7,
    "start_time": "2024-03-19T14:43:56.991Z"
   },
   {
    "duration": 281,
    "start_time": "2024-03-19T14:43:56.999Z"
   },
   {
    "duration": 14,
    "start_time": "2024-03-19T14:43:57.281Z"
   },
   {
    "duration": 359,
    "start_time": "2024-03-19T14:43:57.296Z"
   },
   {
    "duration": 8,
    "start_time": "2024-03-19T14:43:57.657Z"
   },
   {
    "duration": 24,
    "start_time": "2024-03-19T14:43:57.667Z"
   },
   {
    "duration": 15,
    "start_time": "2024-03-19T14:43:57.693Z"
   },
   {
    "duration": 740,
    "start_time": "2024-03-19T14:43:57.710Z"
   },
   {
    "duration": 246,
    "start_time": "2024-03-19T14:43:58.452Z"
   },
   {
    "duration": 165,
    "start_time": "2024-03-19T14:43:58.700Z"
   },
   {
    "duration": 165,
    "start_time": "2024-03-19T14:43:58.867Z"
   },
   {
    "duration": 2168,
    "start_time": "2024-03-19T14:43:59.034Z"
   },
   {
    "duration": 2299,
    "start_time": "2024-03-19T14:44:01.293Z"
   },
   {
    "duration": 471,
    "start_time": "2024-03-19T14:44:03.595Z"
   },
   {
    "duration": 553,
    "start_time": "2024-03-19T14:44:04.067Z"
   },
   {
    "duration": 4,
    "start_time": "2024-03-19T14:44:04.622Z"
   },
   {
    "duration": 11,
    "start_time": "2024-03-19T14:44:04.628Z"
   },
   {
    "duration": 22,
    "start_time": "2024-03-19T14:44:04.643Z"
   },
   {
    "duration": 6,
    "start_time": "2024-03-19T14:44:04.667Z"
   },
   {
    "duration": 11,
    "start_time": "2024-03-19T14:44:04.675Z"
   },
   {
    "duration": 14,
    "start_time": "2024-03-19T14:44:04.688Z"
   },
   {
    "duration": 37,
    "start_time": "2024-03-19T14:44:04.704Z"
   },
   {
    "duration": 7,
    "start_time": "2024-03-19T14:44:04.743Z"
   },
   {
    "duration": 10,
    "start_time": "2024-03-19T14:44:04.752Z"
   },
   {
    "duration": 34,
    "start_time": "2024-03-19T14:44:04.764Z"
   },
   {
    "duration": 15,
    "start_time": "2024-03-19T14:44:04.800Z"
   },
   {
    "duration": 14,
    "start_time": "2024-03-19T14:44:04.817Z"
   },
   {
    "duration": 5,
    "start_time": "2024-03-19T14:44:04.833Z"
   },
   {
    "duration": 686,
    "start_time": "2024-03-19T14:44:04.840Z"
   },
   {
    "duration": 7,
    "start_time": "2024-03-19T14:44:05.528Z"
   },
   {
    "duration": 39,
    "start_time": "2024-03-19T14:44:05.537Z"
   },
   {
    "duration": 12,
    "start_time": "2024-03-19T14:44:05.578Z"
   },
   {
    "duration": 15,
    "start_time": "2024-03-19T14:44:05.592Z"
   },
   {
    "duration": 13,
    "start_time": "2024-03-19T14:44:05.609Z"
   },
   {
    "duration": 11,
    "start_time": "2024-03-19T14:44:05.624Z"
   },
   {
    "duration": 3455,
    "start_time": "2024-03-19T14:44:05.636Z"
   },
   {
    "duration": 10,
    "start_time": "2024-03-19T14:44:09.093Z"
   },
   {
    "duration": 18,
    "start_time": "2024-03-19T14:44:09.105Z"
   },
   {
    "duration": 13,
    "start_time": "2024-03-19T14:44:09.125Z"
   },
   {
    "duration": 7,
    "start_time": "2024-03-19T14:44:09.140Z"
   },
   {
    "duration": 1121,
    "start_time": "2024-03-19T14:44:09.149Z"
   },
   {
    "duration": 7,
    "start_time": "2024-03-19T14:44:10.271Z"
   },
   {
    "duration": 44,
    "start_time": "2024-03-19T14:44:10.280Z"
   },
   {
    "duration": 8727,
    "start_time": "2024-03-19T14:44:52.775Z"
   },
   {
    "duration": 1423,
    "start_time": "2024-03-19T14:45:01.504Z"
   },
   {
    "duration": 3,
    "start_time": "2024-03-19T14:45:02.929Z"
   },
   {
    "duration": 225,
    "start_time": "2024-03-19T14:45:02.934Z"
   },
   {
    "duration": 105,
    "start_time": "2024-03-19T14:45:03.161Z"
   },
   {
    "duration": 40,
    "start_time": "2024-03-19T14:45:03.268Z"
   },
   {
    "duration": 115,
    "start_time": "2024-03-19T14:45:03.310Z"
   },
   {
    "duration": 75,
    "start_time": "2024-03-19T14:45:03.427Z"
   },
   {
    "duration": 43,
    "start_time": "2024-03-19T14:45:03.504Z"
   },
   {
    "duration": 37,
    "start_time": "2024-03-19T14:45:03.550Z"
   },
   {
    "duration": 23,
    "start_time": "2024-03-19T14:45:03.589Z"
   },
   {
    "duration": 297,
    "start_time": "2024-03-19T14:45:03.614Z"
   },
   {
    "duration": 4,
    "start_time": "2024-03-19T14:45:03.913Z"
   },
   {
    "duration": 487,
    "start_time": "2024-03-19T14:45:03.919Z"
   },
   {
    "duration": 7,
    "start_time": "2024-03-19T14:45:04.408Z"
   },
   {
    "duration": 35,
    "start_time": "2024-03-19T14:45:04.417Z"
   },
   {
    "duration": 50,
    "start_time": "2024-03-19T14:45:04.454Z"
   },
   {
    "duration": 760,
    "start_time": "2024-03-19T14:45:04.506Z"
   },
   {
    "duration": 256,
    "start_time": "2024-03-19T14:45:05.267Z"
   },
   {
    "duration": 179,
    "start_time": "2024-03-19T14:45:05.525Z"
   },
   {
    "duration": 177,
    "start_time": "2024-03-19T14:45:05.706Z"
   },
   {
    "duration": 2514,
    "start_time": "2024-03-19T14:45:05.885Z"
   },
   {
    "duration": 2303,
    "start_time": "2024-03-19T14:45:08.491Z"
   },
   {
    "duration": 404,
    "start_time": "2024-03-19T14:45:10.797Z"
   },
   {
    "duration": 409,
    "start_time": "2024-03-19T14:45:11.203Z"
   },
   {
    "duration": 5,
    "start_time": "2024-03-19T14:45:11.614Z"
   },
   {
    "duration": 10,
    "start_time": "2024-03-19T14:45:11.621Z"
   },
   {
    "duration": 24,
    "start_time": "2024-03-19T14:45:11.635Z"
   },
   {
    "duration": 8,
    "start_time": "2024-03-19T14:45:11.661Z"
   },
   {
    "duration": 16,
    "start_time": "2024-03-19T14:45:11.671Z"
   },
   {
    "duration": 9,
    "start_time": "2024-03-19T14:45:11.688Z"
   },
   {
    "duration": 6,
    "start_time": "2024-03-19T14:45:11.699Z"
   },
   {
    "duration": 11,
    "start_time": "2024-03-19T14:45:11.707Z"
   },
   {
    "duration": 16,
    "start_time": "2024-03-19T14:45:11.719Z"
   },
   {
    "duration": 7,
    "start_time": "2024-03-19T14:45:11.737Z"
   },
   {
    "duration": 14,
    "start_time": "2024-03-19T14:45:11.746Z"
   },
   {
    "duration": 25,
    "start_time": "2024-03-19T14:45:11.761Z"
   },
   {
    "duration": 12,
    "start_time": "2024-03-19T14:45:11.788Z"
   },
   {
    "duration": 641,
    "start_time": "2024-03-19T14:45:11.801Z"
   },
   {
    "duration": 7,
    "start_time": "2024-03-19T14:45:12.444Z"
   },
   {
    "duration": 55,
    "start_time": "2024-03-19T14:45:12.452Z"
   },
   {
    "duration": 15,
    "start_time": "2024-03-19T14:45:12.509Z"
   },
   {
    "duration": 32,
    "start_time": "2024-03-19T14:45:12.525Z"
   },
   {
    "duration": 4126,
    "start_time": "2024-03-19T14:45:12.559Z"
   },
   {
    "duration": 11,
    "start_time": "2024-03-19T14:45:16.687Z"
   },
   {
    "duration": 24,
    "start_time": "2024-03-19T14:45:16.700Z"
   },
   {
    "duration": 42,
    "start_time": "2024-03-19T14:45:16.726Z"
   },
   {
    "duration": 36,
    "start_time": "2024-03-19T14:45:16.770Z"
   },
   {
    "duration": 1228,
    "start_time": "2024-03-19T14:45:16.807Z"
   },
   {
    "duration": 7,
    "start_time": "2024-03-19T14:45:18.036Z"
   },
   {
    "duration": 64,
    "start_time": "2024-03-19T14:45:18.044Z"
   },
   {
    "duration": 91,
    "start_time": "2024-03-19T14:46:52.900Z"
   },
   {
    "duration": 7,
    "start_time": "2024-03-19T14:47:43.705Z"
   },
   {
    "duration": 5,
    "start_time": "2024-03-19T14:49:40.576Z"
   },
   {
    "duration": 7,
    "start_time": "2024-03-19T14:49:46.959Z"
   },
   {
    "duration": 6,
    "start_time": "2024-03-19T14:49:54.183Z"
   },
   {
    "duration": 8791,
    "start_time": "2024-03-19T14:51:31.546Z"
   },
   {
    "duration": 1488,
    "start_time": "2024-03-19T14:51:40.340Z"
   },
   {
    "duration": 3,
    "start_time": "2024-03-19T14:51:41.830Z"
   },
   {
    "duration": 8,
    "start_time": "2024-03-19T14:51:41.836Z"
   },
   {
    "duration": 70,
    "start_time": "2024-03-19T14:51:41.846Z"
   },
   {
    "duration": 3,
    "start_time": "2024-03-19T14:51:41.918Z"
   },
   {
    "duration": 18,
    "start_time": "2024-03-19T14:51:41.923Z"
   },
   {
    "duration": 4,
    "start_time": "2024-03-19T14:51:41.943Z"
   },
   {
    "duration": 9,
    "start_time": "2024-03-19T14:51:41.949Z"
   },
   {
    "duration": 36,
    "start_time": "2024-03-19T14:51:41.961Z"
   },
   {
    "duration": 9,
    "start_time": "2024-03-19T14:51:41.999Z"
   },
   {
    "duration": 267,
    "start_time": "2024-03-19T14:51:42.009Z"
   },
   {
    "duration": 4,
    "start_time": "2024-03-19T14:51:42.278Z"
   },
   {
    "duration": 338,
    "start_time": "2024-03-19T14:51:42.291Z"
   },
   {
    "duration": 8,
    "start_time": "2024-03-19T14:51:42.630Z"
   },
   {
    "duration": 43,
    "start_time": "2024-03-19T14:51:42.639Z"
   },
   {
    "duration": 13,
    "start_time": "2024-03-19T14:51:42.686Z"
   },
   {
    "duration": 751,
    "start_time": "2024-03-19T14:51:42.701Z"
   },
   {
    "duration": 240,
    "start_time": "2024-03-19T14:51:43.454Z"
   },
   {
    "duration": 159,
    "start_time": "2024-03-19T14:51:43.695Z"
   },
   {
    "duration": 169,
    "start_time": "2024-03-19T14:51:43.856Z"
   },
   {
    "duration": 2267,
    "start_time": "2024-03-19T14:51:44.026Z"
   },
   {
    "duration": 2391,
    "start_time": "2024-03-19T14:51:46.302Z"
   },
   {
    "duration": 403,
    "start_time": "2024-03-19T14:51:48.697Z"
   },
   {
    "duration": 429,
    "start_time": "2024-03-19T14:51:49.103Z"
   },
   {
    "duration": 5,
    "start_time": "2024-03-19T14:51:49.534Z"
   },
   {
    "duration": 35,
    "start_time": "2024-03-19T14:51:49.541Z"
   },
   {
    "duration": 16,
    "start_time": "2024-03-19T14:51:49.580Z"
   },
   {
    "duration": 5,
    "start_time": "2024-03-19T14:51:49.598Z"
   },
   {
    "duration": 13,
    "start_time": "2024-03-19T14:51:49.605Z"
   },
   {
    "duration": 10,
    "start_time": "2024-03-19T14:51:49.620Z"
   },
   {
    "duration": 10,
    "start_time": "2024-03-19T14:51:49.632Z"
   },
   {
    "duration": 13,
    "start_time": "2024-03-19T14:51:49.644Z"
   },
   {
    "duration": 21,
    "start_time": "2024-03-19T14:51:49.659Z"
   },
   {
    "duration": 10,
    "start_time": "2024-03-19T14:51:49.681Z"
   },
   {
    "duration": 9,
    "start_time": "2024-03-19T14:51:49.692Z"
   },
   {
    "duration": 7,
    "start_time": "2024-03-19T14:51:49.703Z"
   },
   {
    "duration": 13,
    "start_time": "2024-03-19T14:51:49.711Z"
   },
   {
    "duration": 638,
    "start_time": "2024-03-19T14:51:49.726Z"
   },
   {
    "duration": 7,
    "start_time": "2024-03-19T14:51:50.366Z"
   },
   {
    "duration": 22,
    "start_time": "2024-03-19T14:51:50.375Z"
   },
   {
    "duration": 25,
    "start_time": "2024-03-19T14:51:50.398Z"
   },
   {
    "duration": 10,
    "start_time": "2024-03-19T14:51:50.425Z"
   },
   {
    "duration": 3530,
    "start_time": "2024-03-19T14:51:50.437Z"
   },
   {
    "duration": 11,
    "start_time": "2024-03-19T14:51:53.969Z"
   },
   {
    "duration": 27,
    "start_time": "2024-03-19T14:51:53.981Z"
   },
   {
    "duration": 25,
    "start_time": "2024-03-19T14:51:54.010Z"
   },
   {
    "duration": 14,
    "start_time": "2024-03-19T14:51:54.036Z"
   },
   {
    "duration": 1161,
    "start_time": "2024-03-19T14:51:54.052Z"
   },
   {
    "duration": 6,
    "start_time": "2024-03-19T14:51:55.215Z"
   },
   {
    "duration": 7,
    "start_time": "2024-03-19T14:51:55.223Z"
   },
   {
    "duration": 18,
    "start_time": "2024-03-19T14:51:55.231Z"
   },
   {
    "duration": 326,
    "start_time": "2024-03-19T14:55:23.309Z"
   },
   {
    "duration": 280,
    "start_time": "2024-03-19T14:55:59.234Z"
   },
   {
    "duration": 270,
    "start_time": "2024-03-19T14:56:10.882Z"
   },
   {
    "duration": 274,
    "start_time": "2024-03-19T14:56:19.283Z"
   },
   {
    "duration": 256,
    "start_time": "2024-03-19T14:56:27.434Z"
   },
   {
    "duration": 274,
    "start_time": "2024-03-19T14:56:43.195Z"
   },
   {
    "duration": 287,
    "start_time": "2024-03-19T14:56:53.272Z"
   },
   {
    "duration": 14,
    "start_time": "2024-03-19T14:58:49.424Z"
   },
   {
    "duration": 15,
    "start_time": "2024-03-19T14:59:02.734Z"
   },
   {
    "duration": 8650,
    "start_time": "2024-03-19T14:59:36.299Z"
   },
   {
    "duration": 1477,
    "start_time": "2024-03-19T14:59:44.951Z"
   },
   {
    "duration": 3,
    "start_time": "2024-03-19T14:59:46.430Z"
   },
   {
    "duration": 27,
    "start_time": "2024-03-19T14:59:46.435Z"
   },
   {
    "duration": 90,
    "start_time": "2024-03-19T14:59:46.464Z"
   },
   {
    "duration": 5,
    "start_time": "2024-03-19T14:59:46.556Z"
   },
   {
    "duration": 49,
    "start_time": "2024-03-19T14:59:46.562Z"
   },
   {
    "duration": 11,
    "start_time": "2024-03-19T14:59:46.612Z"
   },
   {
    "duration": 36,
    "start_time": "2024-03-19T14:59:46.624Z"
   },
   {
    "duration": 19,
    "start_time": "2024-03-19T14:59:46.663Z"
   },
   {
    "duration": 25,
    "start_time": "2024-03-19T14:59:46.684Z"
   },
   {
    "duration": 270,
    "start_time": "2024-03-19T14:59:46.711Z"
   },
   {
    "duration": 8,
    "start_time": "2024-03-19T14:59:46.983Z"
   },
   {
    "duration": 363,
    "start_time": "2024-03-19T14:59:46.993Z"
   },
   {
    "duration": 8,
    "start_time": "2024-03-19T14:59:47.358Z"
   },
   {
    "duration": 62,
    "start_time": "2024-03-19T14:59:47.367Z"
   },
   {
    "duration": 35,
    "start_time": "2024-03-19T14:59:47.431Z"
   },
   {
    "duration": 815,
    "start_time": "2024-03-19T14:59:47.468Z"
   },
   {
    "duration": 237,
    "start_time": "2024-03-19T14:59:48.285Z"
   },
   {
    "duration": 156,
    "start_time": "2024-03-19T14:59:48.524Z"
   },
   {
    "duration": 163,
    "start_time": "2024-03-19T14:59:48.682Z"
   },
   {
    "duration": 2346,
    "start_time": "2024-03-19T14:59:48.847Z"
   },
   {
    "duration": 2596,
    "start_time": "2024-03-19T14:59:51.197Z"
   },
   {
    "duration": 407,
    "start_time": "2024-03-19T14:59:53.796Z"
   },
   {
    "duration": 412,
    "start_time": "2024-03-19T14:59:54.205Z"
   },
   {
    "duration": 5,
    "start_time": "2024-03-19T14:59:54.618Z"
   },
   {
    "duration": 25,
    "start_time": "2024-03-19T14:59:54.625Z"
   },
   {
    "duration": 39,
    "start_time": "2024-03-19T14:59:54.654Z"
   },
   {
    "duration": 10,
    "start_time": "2024-03-19T14:59:54.696Z"
   },
   {
    "duration": 53,
    "start_time": "2024-03-19T14:59:54.708Z"
   },
   {
    "duration": 33,
    "start_time": "2024-03-19T14:59:54.763Z"
   },
   {
    "duration": 24,
    "start_time": "2024-03-19T14:59:54.798Z"
   },
   {
    "duration": 11,
    "start_time": "2024-03-19T14:59:54.824Z"
   },
   {
    "duration": 17,
    "start_time": "2024-03-19T14:59:54.837Z"
   },
   {
    "duration": 12,
    "start_time": "2024-03-19T14:59:54.856Z"
   },
   {
    "duration": 16,
    "start_time": "2024-03-19T14:59:54.870Z"
   },
   {
    "duration": 49,
    "start_time": "2024-03-19T14:59:54.887Z"
   },
   {
    "duration": 41,
    "start_time": "2024-03-19T14:59:54.937Z"
   },
   {
    "duration": 14,
    "start_time": "2024-03-19T14:59:54.980Z"
   },
   {
    "duration": 624,
    "start_time": "2024-03-19T14:59:54.995Z"
   },
   {
    "duration": 7,
    "start_time": "2024-03-19T14:59:55.621Z"
   },
   {
    "duration": 25,
    "start_time": "2024-03-19T14:59:55.629Z"
   },
   {
    "duration": 8,
    "start_time": "2024-03-19T14:59:55.656Z"
   },
   {
    "duration": 7,
    "start_time": "2024-03-19T14:59:55.665Z"
   },
   {
    "duration": 3792,
    "start_time": "2024-03-19T14:59:55.675Z"
   },
   {
    "duration": 11,
    "start_time": "2024-03-19T14:59:59.469Z"
   },
   {
    "duration": 8,
    "start_time": "2024-03-19T14:59:59.482Z"
   },
   {
    "duration": 9,
    "start_time": "2024-03-19T14:59:59.492Z"
   },
   {
    "duration": 11,
    "start_time": "2024-03-19T14:59:59.503Z"
   },
   {
    "duration": 1366,
    "start_time": "2024-03-19T14:59:59.515Z"
   },
   {
    "duration": 7,
    "start_time": "2024-03-19T15:00:00.883Z"
   },
   {
    "duration": 108,
    "start_time": "2024-03-19T15:00:00.892Z"
   },
   {
    "duration": 77,
    "start_time": "2024-03-19T15:00:01.002Z"
   },
   {
    "duration": 541,
    "start_time": "2024-03-19T15:00:01.081Z"
   },
   {
    "duration": 2,
    "start_time": "2024-03-19T15:07:53.830Z"
   },
   {
    "duration": 8490,
    "start_time": "2024-03-19T15:08:15.304Z"
   },
   {
    "duration": 1414,
    "start_time": "2024-03-19T15:08:23.796Z"
   },
   {
    "duration": 4,
    "start_time": "2024-03-19T15:08:25.212Z"
   },
   {
    "duration": 8,
    "start_time": "2024-03-19T15:08:25.218Z"
   },
   {
    "duration": 70,
    "start_time": "2024-03-19T15:08:25.228Z"
   },
   {
    "duration": 4,
    "start_time": "2024-03-19T15:08:25.299Z"
   },
   {
    "duration": 19,
    "start_time": "2024-03-19T15:08:25.304Z"
   },
   {
    "duration": 4,
    "start_time": "2024-03-19T15:08:25.325Z"
   },
   {
    "duration": 14,
    "start_time": "2024-03-19T15:08:25.330Z"
   },
   {
    "duration": 21,
    "start_time": "2024-03-19T15:08:25.347Z"
   },
   {
    "duration": 9,
    "start_time": "2024-03-19T15:08:25.370Z"
   },
   {
    "duration": 286,
    "start_time": "2024-03-19T15:08:25.391Z"
   },
   {
    "duration": 13,
    "start_time": "2024-03-19T15:08:25.679Z"
   },
   {
    "duration": 333,
    "start_time": "2024-03-19T15:08:25.693Z"
   },
   {
    "duration": 7,
    "start_time": "2024-03-19T15:08:26.028Z"
   },
   {
    "duration": 18,
    "start_time": "2024-03-19T15:08:26.037Z"
   },
   {
    "duration": 20,
    "start_time": "2024-03-19T15:08:26.057Z"
   },
   {
    "duration": 759,
    "start_time": "2024-03-19T15:08:26.078Z"
   },
   {
    "duration": 238,
    "start_time": "2024-03-19T15:08:26.839Z"
   },
   {
    "duration": 160,
    "start_time": "2024-03-19T15:08:27.079Z"
   },
   {
    "duration": 165,
    "start_time": "2024-03-19T15:08:27.241Z"
   },
   {
    "duration": 2583,
    "start_time": "2024-03-19T15:08:27.409Z"
   },
   {
    "duration": 2499,
    "start_time": "2024-03-19T15:08:29.994Z"
   },
   {
    "duration": 424,
    "start_time": "2024-03-19T15:08:32.498Z"
   },
   {
    "duration": 2,
    "start_time": "2024-03-19T15:08:32.924Z"
   },
   {
    "duration": 23,
    "start_time": "2024-03-19T15:08:32.928Z"
   },
   {
    "duration": 20,
    "start_time": "2024-03-19T15:08:32.953Z"
   },
   {
    "duration": 5,
    "start_time": "2024-03-19T15:08:32.977Z"
   },
   {
    "duration": 55,
    "start_time": "2024-03-19T15:08:32.984Z"
   },
   {
    "duration": 11,
    "start_time": "2024-03-19T15:08:33.041Z"
   },
   {
    "duration": 11,
    "start_time": "2024-03-19T15:08:33.054Z"
   },
   {
    "duration": 113,
    "start_time": "2024-03-19T15:08:33.068Z"
   },
   {
    "duration": 32,
    "start_time": "2024-03-19T15:08:33.182Z"
   },
   {
    "duration": 10,
    "start_time": "2024-03-19T15:08:33.216Z"
   },
   {
    "duration": 10,
    "start_time": "2024-03-19T15:08:33.228Z"
   },
   {
    "duration": 6,
    "start_time": "2024-03-19T15:08:33.239Z"
   },
   {
    "duration": 10,
    "start_time": "2024-03-19T15:08:33.247Z"
   },
   {
    "duration": 16,
    "start_time": "2024-03-19T15:08:33.258Z"
   },
   {
    "duration": 4,
    "start_time": "2024-03-19T15:08:33.276Z"
   },
   {
    "duration": 669,
    "start_time": "2024-03-19T15:08:33.282Z"
   },
   {
    "duration": 7,
    "start_time": "2024-03-19T15:08:33.952Z"
   },
   {
    "duration": 11,
    "start_time": "2024-03-19T15:08:33.961Z"
   },
   {
    "duration": 21,
    "start_time": "2024-03-19T15:08:33.973Z"
   },
   {
    "duration": 4,
    "start_time": "2024-03-19T15:08:33.996Z"
   },
   {
    "duration": 3729,
    "start_time": "2024-03-19T15:08:34.003Z"
   },
   {
    "duration": 10,
    "start_time": "2024-03-19T15:08:37.734Z"
   },
   {
    "duration": 7,
    "start_time": "2024-03-19T15:08:37.746Z"
   },
   {
    "duration": 5,
    "start_time": "2024-03-19T15:08:37.755Z"
   },
   {
    "duration": 4,
    "start_time": "2024-03-19T15:08:37.761Z"
   },
   {
    "duration": 1141,
    "start_time": "2024-03-19T15:08:37.767Z"
   },
   {
    "duration": 7,
    "start_time": "2024-03-19T15:08:38.910Z"
   },
   {
    "duration": 23,
    "start_time": "2024-03-19T15:08:38.918Z"
   },
   {
    "duration": 11,
    "start_time": "2024-03-19T15:08:38.943Z"
   },
   {
    "duration": 397,
    "start_time": "2024-03-19T15:08:38.956Z"
   },
   {
    "duration": 8663,
    "start_time": "2024-03-19T15:15:25.297Z"
   },
   {
    "duration": 1446,
    "start_time": "2024-03-19T15:15:33.963Z"
   },
   {
    "duration": 2,
    "start_time": "2024-03-19T15:15:35.411Z"
   },
   {
    "duration": 26,
    "start_time": "2024-03-19T15:15:35.415Z"
   },
   {
    "duration": 76,
    "start_time": "2024-03-19T15:15:35.443Z"
   },
   {
    "duration": 3,
    "start_time": "2024-03-19T15:15:35.521Z"
   },
   {
    "duration": 29,
    "start_time": "2024-03-19T15:15:35.526Z"
   },
   {
    "duration": 7,
    "start_time": "2024-03-19T15:15:35.557Z"
   },
   {
    "duration": 5,
    "start_time": "2024-03-19T15:15:35.566Z"
   },
   {
    "duration": 19,
    "start_time": "2024-03-19T15:15:35.574Z"
   },
   {
    "duration": 8,
    "start_time": "2024-03-19T15:15:35.595Z"
   },
   {
    "duration": 302,
    "start_time": "2024-03-19T15:15:35.604Z"
   },
   {
    "duration": 4,
    "start_time": "2024-03-19T15:15:35.908Z"
   },
   {
    "duration": 361,
    "start_time": "2024-03-19T15:15:35.913Z"
   },
   {
    "duration": 7,
    "start_time": "2024-03-19T15:15:36.276Z"
   },
   {
    "duration": 12,
    "start_time": "2024-03-19T15:15:36.284Z"
   },
   {
    "duration": 9,
    "start_time": "2024-03-19T15:15:36.298Z"
   },
   {
    "duration": 749,
    "start_time": "2024-03-19T15:15:36.309Z"
   },
   {
    "duration": 245,
    "start_time": "2024-03-19T15:15:37.060Z"
   },
   {
    "duration": 163,
    "start_time": "2024-03-19T15:15:37.307Z"
   },
   {
    "duration": 175,
    "start_time": "2024-03-19T15:15:37.472Z"
   },
   {
    "duration": 2445,
    "start_time": "2024-03-19T15:15:37.648Z"
   },
   {
    "duration": 2294,
    "start_time": "2024-03-19T15:15:40.100Z"
   },
   {
    "duration": 410,
    "start_time": "2024-03-19T15:15:42.400Z"
   },
   {
    "duration": 2,
    "start_time": "2024-03-19T15:15:42.812Z"
   },
   {
    "duration": 37,
    "start_time": "2024-03-19T15:15:42.816Z"
   },
   {
    "duration": 17,
    "start_time": "2024-03-19T15:15:42.854Z"
   },
   {
    "duration": 8,
    "start_time": "2024-03-19T15:15:42.875Z"
   },
   {
    "duration": 27,
    "start_time": "2024-03-19T15:15:42.884Z"
   },
   {
    "duration": 10,
    "start_time": "2024-03-19T15:15:42.913Z"
   },
   {
    "duration": 9,
    "start_time": "2024-03-19T15:15:42.924Z"
   },
   {
    "duration": 101,
    "start_time": "2024-03-19T15:15:42.934Z"
   },
   {
    "duration": 7,
    "start_time": "2024-03-19T15:15:43.036Z"
   },
   {
    "duration": 10,
    "start_time": "2024-03-19T15:15:43.044Z"
   },
   {
    "duration": 7,
    "start_time": "2024-03-19T15:15:43.055Z"
   },
   {
    "duration": 12,
    "start_time": "2024-03-19T15:15:43.064Z"
   },
   {
    "duration": 18,
    "start_time": "2024-03-19T15:15:43.078Z"
   },
   {
    "duration": 16,
    "start_time": "2024-03-19T15:15:43.097Z"
   },
   {
    "duration": 9,
    "start_time": "2024-03-19T15:15:43.115Z"
   },
   {
    "duration": 628,
    "start_time": "2024-03-19T15:15:43.126Z"
   },
   {
    "duration": 9,
    "start_time": "2024-03-19T15:15:43.756Z"
   },
   {
    "duration": 27,
    "start_time": "2024-03-19T15:15:43.767Z"
   },
   {
    "duration": 9,
    "start_time": "2024-03-19T15:15:43.795Z"
   },
   {
    "duration": 17,
    "start_time": "2024-03-19T15:15:43.806Z"
   },
   {
    "duration": 4332,
    "start_time": "2024-03-19T15:15:43.825Z"
   },
   {
    "duration": 11,
    "start_time": "2024-03-19T15:15:48.158Z"
   },
   {
    "duration": 15,
    "start_time": "2024-03-19T15:15:48.171Z"
   },
   {
    "duration": 25,
    "start_time": "2024-03-19T15:15:48.188Z"
   },
   {
    "duration": 5,
    "start_time": "2024-03-19T15:15:48.215Z"
   },
   {
    "duration": 1204,
    "start_time": "2024-03-19T15:15:48.222Z"
   },
   {
    "duration": 7,
    "start_time": "2024-03-19T15:15:49.428Z"
   },
   {
    "duration": 8,
    "start_time": "2024-03-19T15:15:49.436Z"
   },
   {
    "duration": 6,
    "start_time": "2024-03-19T15:15:49.446Z"
   },
   {
    "duration": 360,
    "start_time": "2024-03-19T15:15:49.454Z"
   },
   {
    "duration": 11367,
    "start_time": "2024-03-20T14:19:14.072Z"
   },
   {
    "duration": 43,
    "start_time": "2024-03-20T14:19:25.442Z"
   },
   {
    "duration": 3,
    "start_time": "2024-03-20T14:19:25.487Z"
   },
   {
    "duration": 5,
    "start_time": "2024-03-20T14:19:25.492Z"
   },
   {
    "duration": 69,
    "start_time": "2024-03-20T14:19:25.499Z"
   },
   {
    "duration": 4,
    "start_time": "2024-03-20T14:19:25.570Z"
   },
   {
    "duration": 15,
    "start_time": "2024-03-20T14:19:25.576Z"
   },
   {
    "duration": 4,
    "start_time": "2024-03-20T14:19:25.592Z"
   },
   {
    "duration": 8,
    "start_time": "2024-03-20T14:19:25.598Z"
   },
   {
    "duration": 23,
    "start_time": "2024-03-20T14:19:25.609Z"
   },
   {
    "duration": 18,
    "start_time": "2024-03-20T14:19:25.633Z"
   },
   {
    "duration": 255,
    "start_time": "2024-03-20T14:19:25.653Z"
   },
   {
    "duration": 4,
    "start_time": "2024-03-20T14:19:25.910Z"
   },
   {
    "duration": 388,
    "start_time": "2024-03-20T14:19:25.916Z"
   },
   {
    "duration": 7,
    "start_time": "2024-03-20T14:19:26.306Z"
   },
   {
    "duration": 13,
    "start_time": "2024-03-20T14:19:26.315Z"
   },
   {
    "duration": 12,
    "start_time": "2024-03-20T14:19:26.329Z"
   },
   {
    "duration": 779,
    "start_time": "2024-03-20T14:19:26.343Z"
   },
   {
    "duration": 251,
    "start_time": "2024-03-20T14:19:27.123Z"
   },
   {
    "duration": 160,
    "start_time": "2024-03-20T14:19:27.376Z"
   },
   {
    "duration": 155,
    "start_time": "2024-03-20T14:19:27.538Z"
   },
   {
    "duration": 1887,
    "start_time": "2024-03-20T14:19:27.695Z"
   },
   {
    "duration": 1708,
    "start_time": "2024-03-20T14:19:29.589Z"
   },
   {
    "duration": 392,
    "start_time": "2024-03-20T14:19:31.386Z"
   },
   {
    "duration": 2,
    "start_time": "2024-03-20T14:19:31.782Z"
   },
   {
    "duration": 24,
    "start_time": "2024-03-20T14:19:31.785Z"
   },
   {
    "duration": 15,
    "start_time": "2024-03-20T14:19:31.810Z"
   },
   {
    "duration": 28,
    "start_time": "2024-03-20T14:19:31.830Z"
   },
   {
    "duration": 23,
    "start_time": "2024-03-20T14:19:31.861Z"
   },
   {
    "duration": 12,
    "start_time": "2024-03-20T14:19:31.885Z"
   },
   {
    "duration": 38,
    "start_time": "2024-03-20T14:19:31.899Z"
   },
   {
    "duration": 7,
    "start_time": "2024-03-20T14:19:31.939Z"
   },
   {
    "duration": 22,
    "start_time": "2024-03-20T14:19:31.948Z"
   },
   {
    "duration": 8,
    "start_time": "2024-03-20T14:19:31.971Z"
   },
   {
    "duration": 12,
    "start_time": "2024-03-20T14:19:31.980Z"
   },
   {
    "duration": 7,
    "start_time": "2024-03-20T14:19:31.994Z"
   },
   {
    "duration": 96,
    "start_time": "2024-03-20T14:19:32.003Z"
   },
   {
    "duration": 29,
    "start_time": "2024-03-20T14:19:32.101Z"
   },
   {
    "duration": 5,
    "start_time": "2024-03-20T14:19:32.132Z"
   },
   {
    "duration": 632,
    "start_time": "2024-03-20T14:19:32.139Z"
   },
   {
    "duration": 12,
    "start_time": "2024-03-20T14:19:32.773Z"
   }
  ],
  "kernelspec": {
   "display_name": "Python 3 (ipykernel)",
   "language": "python",
   "name": "python3"
  },
  "language_info": {
   "codemirror_mode": {
    "name": "ipython",
    "version": 3
   },
   "file_extension": ".py",
   "mimetype": "text/x-python",
   "name": "python",
   "nbconvert_exporter": "python",
   "pygments_lexer": "ipython3",
   "version": "3.9.5"
  },
  "toc": {
   "base_numbering": 1,
   "nav_menu": {},
   "number_sections": true,
   "sideBar": true,
   "skip_h1_title": true,
   "title_cell": "Содержание",
   "title_sidebar": "Contents",
   "toc_cell": true,
   "toc_position": {
    "height": "calc(100% - 180px)",
    "left": "10px",
    "top": "150px",
    "width": "165px"
   },
   "toc_section_display": true,
   "toc_window_display": true
  }
 },
 "nbformat": 4,
 "nbformat_minor": 2
}
