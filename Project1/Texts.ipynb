{
 "cells": [
  {
   "cell_type": "markdown",
   "metadata": {
    "toc": true
   },
   "source": [
    "<h1>Содержание<span class=\"tocSkip\"></span></h1>\n",
    "<div class=\"toc\"><ul class=\"toc-item\"><li><span><a href=\"#Подготовка\" data-toc-modified-id=\"Подготовка-1\"><span class=\"toc-item-num\">1&nbsp;&nbsp;</span>Подготовка</a></span></li><li><span><a href=\"#Обучение\" data-toc-modified-id=\"Обучение-2\"><span class=\"toc-item-num\">2&nbsp;&nbsp;</span>Обучение</a></span></li><li><span><a href=\"#Выводы\" data-toc-modified-id=\"Выводы-3\"><span class=\"toc-item-num\">3&nbsp;&nbsp;</span>Выводы</a></span></li><li><span><a href=\"#Чек-лист-проверки\" data-toc-modified-id=\"Чек-лист-проверки-4\"><span class=\"toc-item-num\">4&nbsp;&nbsp;</span>Чек-лист проверки</a></span></li></ul></div>"
   ]
  },
  {
   "cell_type": "markdown",
   "metadata": {},
   "source": [
    "# Проект для «Викишоп»"
   ]
  },
  {
   "cell_type": "markdown",
   "metadata": {},
   "source": [
    "Интернет-магазин «Викишоп» запускает новый сервис. Теперь пользователи могут редактировать и дополнять описания товаров, как в вики-сообществах. То есть клиенты предлагают свои правки и комментируют изменения других. Магазину нужен инструмент, который будет искать токсичные комментарии и отправлять их на модерацию. \n",
    "\n",
    "**Цель исследования** - обучить модель классифицировать комментарии на позитивные и негативные. В нашем распоряжении набор данных с разметкой о токсичности правок.\n",
    "\n",
    "**Критерий качества**: метрика качества *F1* не меньше 0.75. \n",
    "\n",
    "**Задачи исследования**\n",
    "\n",
    "1. Загрузите и подготовьте данные.\n",
    "2. Обучите разные модели. \n",
    "3. Сделайте выводы."
   ]
  },
  {
   "cell_type": "markdown",
   "metadata": {},
   "source": [
    "## Подготовка"
   ]
  },
  {
   "cell_type": "markdown",
   "metadata": {},
   "source": [
    "На первом этапе изучения данных, мы импортируем необходимые библиотеки, которые пригодятся для исследования, и изучим общую информацию о датасетах."
   ]
  },
  {
   "cell_type": "code",
   "execution_count": 1,
   "metadata": {},
   "outputs": [],
   "source": [
    "!pip install -U scikit-learn==1.1.3 -q\n",
    "!pip install -U nltk -q\n",
    "!pip install -U tqdm -q\n",
    "!/opt/conda/bin/python -m pip install wordcloud==1.8.2.2 -q\n",
    "!pip install --upgrade Pillow==9.5.0 -q\n",
    "!pip install lightgbm -q"
   ]
  },
  {
   "cell_type": "code",
   "execution_count": 2,
   "metadata": {},
   "outputs": [],
   "source": [
    "import pandas as pd\n",
    "import matplotlib.pyplot as plt\n",
    "import math\n",
    "import numpy as np\n",
    "from numpy.random import RandomState\n",
    "import nltk\n",
    "from nltk.stem import WordNetLemmatizer\n",
    "from nltk.corpus import stopwords as nltk_stopwords\n",
    "import re\n",
    "import sklearn as sk\n",
    "from sklearn.feature_extraction.text import TfidfVectorizer\n",
    "from sklearn.model_selection import (\n",
    "    train_test_split,\n",
    "    cross_val_score,\n",
    "    GridSearchCV\n",
    ")\n",
    "from sklearn.linear_model import LogisticRegression, PassiveAggressiveClassifier\n",
    "from sklearn.metrics import f1_score\n",
    "import spacy\n",
    "from tqdm.notebook import tqdm\n",
    "from wordcloud import WordCloud\n",
    "from lightgbm import LGBMClassifier\n",
    "from sklearn.pipeline import Pipeline\n",
    "from sklearn.preprocessing import StandardScaler"
   ]
  },
  {
   "cell_type": "code",
   "execution_count": 3,
   "metadata": {},
   "outputs": [
    {
     "name": "stderr",
     "output_type": "stream",
     "text": [
      "[nltk_data] Downloading package wordnet to /home/jovyan/nltk_data...\n",
      "[nltk_data]   Package wordnet is already up-to-date!\n"
     ]
    },
    {
     "data": {
      "text/plain": [
       "True"
      ]
     },
     "execution_count": 3,
     "metadata": {},
     "output_type": "execute_result"
    }
   ],
   "source": [
    "nltk.download('wordnet')"
   ]
  },
  {
   "cell_type": "code",
   "execution_count": 4,
   "metadata": {},
   "outputs": [],
   "source": [
    "plt.rcParams['figure.figsize'] = (6, 5)"
   ]
  },
  {
   "cell_type": "code",
   "execution_count": 5,
   "metadata": {},
   "outputs": [],
   "source": [
    "def download(filename):\n",
    "    df = pd.read_csv(filename, index_col = 0)\n",
    "    display(df.head())\n",
    "    display(df.sample(5))\n",
    "    df.info()\n",
    "    return df"
   ]
  },
  {
   "cell_type": "code",
   "execution_count": 6,
   "metadata": {},
   "outputs": [
    {
     "data": {
      "text/html": [
       "<div>\n",
       "<style scoped>\n",
       "    .dataframe tbody tr th:only-of-type {\n",
       "        vertical-align: middle;\n",
       "    }\n",
       "\n",
       "    .dataframe tbody tr th {\n",
       "        vertical-align: top;\n",
       "    }\n",
       "\n",
       "    .dataframe thead th {\n",
       "        text-align: right;\n",
       "    }\n",
       "</style>\n",
       "<table border=\"1\" class=\"dataframe\">\n",
       "  <thead>\n",
       "    <tr style=\"text-align: right;\">\n",
       "      <th></th>\n",
       "      <th>text</th>\n",
       "      <th>toxic</th>\n",
       "    </tr>\n",
       "  </thead>\n",
       "  <tbody>\n",
       "    <tr>\n",
       "      <th>0</th>\n",
       "      <td>Explanation\\nWhy the edits made under my usern...</td>\n",
       "      <td>0</td>\n",
       "    </tr>\n",
       "    <tr>\n",
       "      <th>1</th>\n",
       "      <td>D'aww! He matches this background colour I'm s...</td>\n",
       "      <td>0</td>\n",
       "    </tr>\n",
       "    <tr>\n",
       "      <th>2</th>\n",
       "      <td>Hey man, I'm really not trying to edit war. It...</td>\n",
       "      <td>0</td>\n",
       "    </tr>\n",
       "    <tr>\n",
       "      <th>3</th>\n",
       "      <td>\"\\nMore\\nI can't make any real suggestions on ...</td>\n",
       "      <td>0</td>\n",
       "    </tr>\n",
       "    <tr>\n",
       "      <th>4</th>\n",
       "      <td>You, sir, are my hero. Any chance you remember...</td>\n",
       "      <td>0</td>\n",
       "    </tr>\n",
       "  </tbody>\n",
       "</table>\n",
       "</div>"
      ],
      "text/plain": [
       "                                                text  toxic\n",
       "0  Explanation\\nWhy the edits made under my usern...      0\n",
       "1  D'aww! He matches this background colour I'm s...      0\n",
       "2  Hey man, I'm really not trying to edit war. It...      0\n",
       "3  \"\\nMore\\nI can't make any real suggestions on ...      0\n",
       "4  You, sir, are my hero. Any chance you remember...      0"
      ]
     },
     "metadata": {},
     "output_type": "display_data"
    },
    {
     "data": {
      "text/html": [
       "<div>\n",
       "<style scoped>\n",
       "    .dataframe tbody tr th:only-of-type {\n",
       "        vertical-align: middle;\n",
       "    }\n",
       "\n",
       "    .dataframe tbody tr th {\n",
       "        vertical-align: top;\n",
       "    }\n",
       "\n",
       "    .dataframe thead th {\n",
       "        text-align: right;\n",
       "    }\n",
       "</style>\n",
       "<table border=\"1\" class=\"dataframe\">\n",
       "  <thead>\n",
       "    <tr style=\"text-align: right;\">\n",
       "      <th></th>\n",
       "      <th>text</th>\n",
       "      <th>toxic</th>\n",
       "    </tr>\n",
       "  </thead>\n",
       "  <tbody>\n",
       "    <tr>\n",
       "      <th>5626</th>\n",
       "      <td>\":Provide reliable sources, or your edits will...</td>\n",
       "      <td>0</td>\n",
       "    </tr>\n",
       "    <tr>\n",
       "      <th>54692</th>\n",
       "      <td>From layout. Please put back if necessary.  \\n...</td>\n",
       "      <td>0</td>\n",
       "    </tr>\n",
       "    <tr>\n",
       "      <th>150394</th>\n",
       "      <td>My mistake, then.  See you around. -</td>\n",
       "      <td>0</td>\n",
       "    </tr>\n",
       "    <tr>\n",
       "      <th>43657</th>\n",
       "      <td>Cost \\nI see no explanation of the cost of att...</td>\n",
       "      <td>0</td>\n",
       "    </tr>\n",
       "    <tr>\n",
       "      <th>73201</th>\n",
       "      <td>\"\\n\\n Original fair-use rationale discussion \\...</td>\n",
       "      <td>0</td>\n",
       "    </tr>\n",
       "  </tbody>\n",
       "</table>\n",
       "</div>"
      ],
      "text/plain": [
       "                                                     text  toxic\n",
       "5626    \":Provide reliable sources, or your edits will...      0\n",
       "54692   From layout. Please put back if necessary.  \\n...      0\n",
       "150394               My mistake, then.  See you around. -      0\n",
       "43657   Cost \\nI see no explanation of the cost of att...      0\n",
       "73201   \"\\n\\n Original fair-use rationale discussion \\...      0"
      ]
     },
     "metadata": {},
     "output_type": "display_data"
    },
    {
     "name": "stdout",
     "output_type": "stream",
     "text": [
      "<class 'pandas.core.frame.DataFrame'>\n",
      "Int64Index: 159292 entries, 0 to 159450\n",
      "Data columns (total 2 columns):\n",
      " #   Column  Non-Null Count   Dtype \n",
      "---  ------  --------------   ----- \n",
      " 0   text    159292 non-null  object\n",
      " 1   toxic   159292 non-null  int64 \n",
      "dtypes: int64(1), object(1)\n",
      "memory usage: 3.6+ MB\n"
     ]
    }
   ],
   "source": [
    "data = download('/datasets/toxic_comments.csv')"
   ]
  },
  {
   "cell_type": "markdown",
   "metadata": {},
   "source": [
    "**Описание данных**\n",
    "В датасете 2 столбца:\n",
    "* `text` — текст комментария\n",
    "* `toxic` — целевой признак\n",
    "\n",
    "Количество значений совпадает во всех колонках, значит, вероятно, нет пропущенных данных. "
   ]
  },
  {
   "cell_type": "markdown",
   "metadata": {},
   "source": [
    "**Данные загружены, получена общая информация о них.**"
   ]
  },
  {
   "cell_type": "code",
   "execution_count": 7,
   "metadata": {},
   "outputs": [],
   "source": [
    "def research(filename):\n",
    "    isna = filename.isna().sum()\n",
    "    print(\"Количество пропущенных значений\\n\", isna, \"\\n\")\n",
    "    per = isna/ len(filename) * 100\n",
    "    print(\"Количество пропущенных значений в процентах\\n\", per, \"\\n\")\n",
    "    duplicates = filename.duplicated().sum()\n",
    "    print(\"Количество дубликатов\\n\", duplicates, \"\\n\")"
   ]
  },
  {
   "cell_type": "code",
   "execution_count": 8,
   "metadata": {},
   "outputs": [
    {
     "name": "stdout",
     "output_type": "stream",
     "text": [
      "Количество пропущенных значений\n",
      " text     0\n",
      "toxic    0\n",
      "dtype: int64 \n",
      "\n",
      "Количество пропущенных значений в процентах\n",
      " text     0.0\n",
      "toxic    0.0\n",
      "dtype: float64 \n",
      "\n",
      "Количество дубликатов\n",
      " 0 \n",
      "\n"
     ]
    }
   ],
   "source": [
    "research(data) "
   ]
  },
  {
   "cell_type": "markdown",
   "metadata": {},
   "source": [
    "Пропущенных данных и дубликатов нет."
   ]
  },
  {
   "cell_type": "code",
   "execution_count": 9,
   "metadata": {},
   "outputs": [
    {
     "data": {
      "text/plain": [
       "0    143106\n",
       "1     16186\n",
       "Name: toxic, dtype: int64"
      ]
     },
     "execution_count": 9,
     "metadata": {},
     "output_type": "execute_result"
    }
   ],
   "source": [
    "data['toxic'].value_counts()"
   ]
  },
  {
   "cell_type": "code",
   "execution_count": 10,
   "metadata": {},
   "outputs": [
    {
     "data": {
      "image/png": "[encoded data removed]",
      "text/plain": [
       "<Figure size 432x360 with 1 Axes>"
      ]
     },
     "metadata": {},
     "output_type": "display_data"
    }
   ],
   "source": [
    "data['toxic'].value_counts().plot(kind='pie', autopct='%.2f%%', title= 'Распределение комментариев');"
   ]
  },
  {
   "cell_type": "markdown",
   "metadata": {},
   "source": [
    "**Итак, на данном этапе исследования был загружен датасет, изученая общая информация о нём, выполнена предобработка данных, и построен графики по категориальному признаку датасета 'toxic', изучена информация о нём, сделаны следующие выводы:**\n",
    "- пропущенных данных и дубликатов нет.\n",
    "- удалён лишний столбец. \n",
    "- 143106 комментариев позитивны; 16186 негативны, в процентном соотношении позитивные комментарии составляют - 90%, негативные - 10%."
   ]
  },
  {
   "cell_type": "markdown",
   "metadata": {},
   "source": [
    "## Обучение"
   ]
  },
  {
   "cell_type": "markdown",
   "metadata": {},
   "source": [
    "Лемматизируем и очистим текст."
   ]
  },
  {
   "cell_type": "code",
   "execution_count": 11,
   "metadata": {},
   "outputs": [],
   "source": [
    "nlp = spacy.load(\"en_core_web_sm\")\n",
    "\n",
    "def clear_text(text):\n",
    "    cleaned_text = re.sub(r'[^a-zA-Z ]', ' ', text)\n",
    "    cleaned_text = \" \".join(cleaned_text.split())\n",
    "    return cleaned_text\n",
    "\n",
    "def lemmatize(text):\n",
    "    doc = nlp(text)\n",
    "    lemmatized_text = [token.lemma_ for token in doc]\n",
    "    return ' '.join(lemmatized_text)"
   ]
  },
  {
   "cell_type": "code",
   "execution_count": 12,
   "metadata": {},
   "outputs": [
    {
     "name": "stdout",
     "output_type": "stream",
     "text": [
      "                                                text\n",
      "0  The striped bats / are hanging on their feet f...\n",
      "1    you should be ashamed ; of yourself went worked\n",
      " \n",
      "0    The striped bats are hanging on their feet for...\n",
      "1        you should be ashamed of yourself went worked\n",
      "Name: text, dtype: object\n"
     ]
    }
   ],
   "source": [
    "sentence1 = \"The striped bats / are hanging on their feet for best\"\n",
    "sentence2 = \"you should be ashamed ; of yourself went worked\"\n",
    "df_my = pd.DataFrame([sentence1, sentence2], columns = ['text'])\n",
    "print(df_my)\n",
    "print(' ')\n",
    "print(df_my['text'].apply(clear_text))"
   ]
  },
  {
   "cell_type": "code",
   "execution_count": 13,
   "metadata": {},
   "outputs": [
    {
     "name": "stdout",
     "output_type": "stream",
     "text": [
      "                                                text\n",
      "0  The striped bats / are hanging on their feet f...\n",
      "1    you should be ashamed ; of yourself went worked\n",
      " \n",
      "0    the stripe bat be hang on their foot for good\n",
      "1        you should be ashamed of yourself go work\n",
      "Name: text, dtype: object\n"
     ]
    }
   ],
   "source": [
    "print(df_my)\n",
    "print(' ')\n",
    "print(df_my['text'].apply(clear_text).apply(lemmatize))"
   ]
  },
  {
   "cell_type": "code",
   "execution_count": 14,
   "metadata": {},
   "outputs": [],
   "source": [
    "tqdm.pandas()"
   ]
  },
  {
   "cell_type": "code",
   "execution_count": 15,
   "metadata": {},
   "outputs": [
    {
     "data": {
      "application/vnd.jupyter.widget-view+json": {
       "model_id": "ed8ed4d3448742b2a44cb3314cf6c913",
       "version_major": 2,
       "version_minor": 0
      },
      "text/plain": [
       "  0%|          | 0/159292 [00:00<?, ?it/s]"
      ]
     },
     "metadata": {},
     "output_type": "display_data"
    }
   ],
   "source": [
    "data['cleaned_text'] = data['text'].progress_apply(lambda x:clear_text(x))"
   ]
  },
  {
   "cell_type": "code",
   "execution_count": 16,
   "metadata": {},
   "outputs": [
    {
     "data": {
      "application/vnd.jupyter.widget-view+json": {
       "model_id": "4a29cd509a274cd68572b3cc4c62f10a",
       "version_major": 2,
       "version_minor": 0
      },
      "text/plain": [
       "  0%|          | 0/159292 [00:00<?, ?it/s]"
      ]
     },
     "metadata": {},
     "output_type": "display_data"
    }
   ],
   "source": [
    "data['lemma_text'] = data['cleaned_text'].progress_apply(lemmatize)"
   ]
  },
  {
   "cell_type": "code",
   "execution_count": 17,
   "metadata": {},
   "outputs": [
    {
     "name": "stderr",
     "output_type": "stream",
     "text": [
      "[nltk_data] Downloading package stopwords to /home/jovyan/nltk_data...\n",
      "[nltk_data]   Package stopwords is already up-to-date!\n"
     ]
    }
   ],
   "source": [
    "nltk.download('stopwords')\n",
    "stopwords = set(nltk_stopwords.words('english'))"
   ]
  },
  {
   "cell_type": "code",
   "execution_count": 18,
   "metadata": {},
   "outputs": [],
   "source": [
    "data['lemma_text'] = data['lemma_text'].str.lower()"
   ]
  },
  {
   "cell_type": "markdown",
   "metadata": {},
   "source": [
    "Обучим модель LogisticRegression"
   ]
  },
  {
   "cell_type": "code",
   "execution_count": 19,
   "metadata": {},
   "outputs": [],
   "source": [
    "X = data['lemma_text']\n",
    "y = data['toxic']\n",
    "RANDOM_STATE = 42\n",
    "TEST_SIZE = 0.25\n",
    "\n",
    "X_train, X_test, y_train, y_test = train_test_split(X, y, random_state = RANDOM_STATE, test_size = TEST_SIZE, stratify=y)"
   ]
  },
  {
   "cell_type": "markdown",
   "metadata": {},
   "source": [
    "создадим пайплайн"
   ]
  },
  {
   "cell_type": "code",
   "execution_count": 20,
   "metadata": {},
   "outputs": [],
   "source": [
    "pipe_logistic = Pipeline([\n",
    "    ('tfidf', TfidfVectorizer(stop_words=stopwords, max_features=7000)),\n",
    "    ('scaler', StandardScaler(with_mean=False)),\n",
    "    ('model', LogisticRegression(random_state=RANDOM_STATE))\n",
    "])\n",
    "\n",
    "pipe_passive_aggressive = Pipeline([\n",
    "    ('tfidf', TfidfVectorizer(stop_words=stopwords, max_features=7000)),\n",
    "    ('model', PassiveAggressiveClassifier(random_state=RANDOM_STATE))\n",
    "])\n",
    "\n",
    "pipe_lightgbm = Pipeline([\n",
    "    ('tfidf', TfidfVectorizer(stop_words=stopwords, max_features=7000)),\n",
    "    ('model', LGBMClassifier(random_state=RANDOM_STATE))\n",
    "])\n",
    "\n",
    "param_grid_logistic = {\n",
    "    'model__C': [0.001, 0.01, 0.1, 1, 10, 100, 1000]\n",
    "}\n",
    "\n",
    "param_grid_passive_aggressive = {\n",
    "    'model__C': [0.001, 0.01, 0.1, 1, 10, 100, 1000],\n",
    "    'model__max_iter': [1000, 2000, 3000]\n",
    "}\n",
    "\n",
    "param_grid_lightgbm = {\n",
    "    'model__n_estimators': [100, 200, 300, 400]\n",
    "}\n"
   ]
  },
  {
   "cell_type": "code",
   "execution_count": 21,
   "metadata": {},
   "outputs": [],
   "source": [
    "grid_search_logistic = GridSearchCV(pipe_logistic, param_grid_logistic, cv=5, scoring='f1', n_jobs=-1)\n",
    "grid_search_passive_aggressive = GridSearchCV(pipe_passive_aggressive, param_grid_passive_aggressive, cv=5,scoring='f1', n_jobs=-1)\n",
    "grid_search_lightgbm = GridSearchCV(pipe_lightgbm, param_grid_lightgbm, cv=5, scoring='f1', n_jobs=-1)"
   ]
  },
  {
   "cell_type": "code",
   "execution_count": 22,
   "metadata": {},
   "outputs": [
    {
     "name": "stderr",
     "output_type": "stream",
     "text": [
      "/opt/conda/lib/python3.9/site-packages/sklearn/linear_model/_logistic.py:444: ConvergenceWarning: lbfgs failed to converge (status=1):\n",
      "STOP: TOTAL NO. of ITERATIONS REACHED LIMIT.\n",
      "\n",
      "Increase the number of iterations (max_iter) or scale the data as shown in:\n",
      "    https://scikit-learn.org/stable/modules/preprocessing.html\n",
      "Please also refer to the documentation for alternative solver options:\n",
      "    https://scikit-learn.org/stable/modules/linear_model.html#logistic-regression\n",
      "  n_iter_i = _check_optimize_result(\n",
      "/opt/conda/lib/python3.9/site-packages/sklearn/linear_model/_logistic.py:444: ConvergenceWarning: lbfgs failed to converge (status=1):\n",
      "STOP: TOTAL NO. of ITERATIONS REACHED LIMIT.\n",
      "\n",
      "Increase the number of iterations (max_iter) or scale the data as shown in:\n",
      "    https://scikit-learn.org/stable/modules/preprocessing.html\n",
      "Please also refer to the documentation for alternative solver options:\n",
      "    https://scikit-learn.org/stable/modules/linear_model.html#logistic-regression\n",
      "  n_iter_i = _check_optimize_result(\n",
      "/opt/conda/lib/python3.9/site-packages/sklearn/linear_model/_logistic.py:444: ConvergenceWarning: lbfgs failed to converge (status=1):\n",
      "STOP: TOTAL NO. of ITERATIONS REACHED LIMIT.\n",
      "\n",
      "Increase the number of iterations (max_iter) or scale the data as shown in:\n",
      "    https://scikit-learn.org/stable/modules/preprocessing.html\n",
      "Please also refer to the documentation for alternative solver options:\n",
      "    https://scikit-learn.org/stable/modules/linear_model.html#logistic-regression\n",
      "  n_iter_i = _check_optimize_result(\n",
      "/opt/conda/lib/python3.9/site-packages/sklearn/linear_model/_logistic.py:444: ConvergenceWarning: lbfgs failed to converge (status=1):\n",
      "STOP: TOTAL NO. of ITERATIONS REACHED LIMIT.\n",
      "\n",
      "Increase the number of iterations (max_iter) or scale the data as shown in:\n",
      "    https://scikit-learn.org/stable/modules/preprocessing.html\n",
      "Please also refer to the documentation for alternative solver options:\n",
      "    https://scikit-learn.org/stable/modules/linear_model.html#logistic-regression\n",
      "  n_iter_i = _check_optimize_result(\n",
      "/opt/conda/lib/python3.9/site-packages/sklearn/linear_model/_logistic.py:444: ConvergenceWarning: lbfgs failed to converge (status=1):\n",
      "STOP: TOTAL NO. of ITERATIONS REACHED LIMIT.\n",
      "\n",
      "Increase the number of iterations (max_iter) or scale the data as shown in:\n",
      "    https://scikit-learn.org/stable/modules/preprocessing.html\n",
      "Please also refer to the documentation for alternative solver options:\n",
      "    https://scikit-learn.org/stable/modules/linear_model.html#logistic-regression\n",
      "  n_iter_i = _check_optimize_result(\n",
      "/opt/conda/lib/python3.9/site-packages/sklearn/linear_model/_logistic.py:444: ConvergenceWarning: lbfgs failed to converge (status=1):\n",
      "STOP: TOTAL NO. of ITERATIONS REACHED LIMIT.\n",
      "\n",
      "Increase the number of iterations (max_iter) or scale the data as shown in:\n",
      "    https://scikit-learn.org/stable/modules/preprocessing.html\n",
      "Please also refer to the documentation for alternative solver options:\n",
      "    https://scikit-learn.org/stable/modules/linear_model.html#logistic-regression\n",
      "  n_iter_i = _check_optimize_result(\n",
      "/opt/conda/lib/python3.9/site-packages/sklearn/linear_model/_logistic.py:444: ConvergenceWarning: lbfgs failed to converge (status=1):\n",
      "STOP: TOTAL NO. of ITERATIONS REACHED LIMIT.\n",
      "\n",
      "Increase the number of iterations (max_iter) or scale the data as shown in:\n",
      "    https://scikit-learn.org/stable/modules/preprocessing.html\n",
      "Please also refer to the documentation for alternative solver options:\n",
      "    https://scikit-learn.org/stable/modules/linear_model.html#logistic-regression\n",
      "  n_iter_i = _check_optimize_result(\n",
      "/opt/conda/lib/python3.9/site-packages/sklearn/linear_model/_logistic.py:444: ConvergenceWarning: lbfgs failed to converge (status=1):\n",
      "STOP: TOTAL NO. of ITERATIONS REACHED LIMIT.\n",
      "\n",
      "Increase the number of iterations (max_iter) or scale the data as shown in:\n",
      "    https://scikit-learn.org/stable/modules/preprocessing.html\n",
      "Please also refer to the documentation for alternative solver options:\n",
      "    https://scikit-learn.org/stable/modules/linear_model.html#logistic-regression\n",
      "  n_iter_i = _check_optimize_result(\n",
      "/opt/conda/lib/python3.9/site-packages/sklearn/linear_model/_logistic.py:444: ConvergenceWarning: lbfgs failed to converge (status=1):\n",
      "STOP: TOTAL NO. of ITERATIONS REACHED LIMIT.\n",
      "\n",
      "Increase the number of iterations (max_iter) or scale the data as shown in:\n",
      "    https://scikit-learn.org/stable/modules/preprocessing.html\n",
      "Please also refer to the documentation for alternative solver options:\n",
      "    https://scikit-learn.org/stable/modules/linear_model.html#logistic-regression\n",
      "  n_iter_i = _check_optimize_result(\n",
      "/opt/conda/lib/python3.9/site-packages/sklearn/linear_model/_logistic.py:444: ConvergenceWarning: lbfgs failed to converge (status=1):\n",
      "STOP: TOTAL NO. of ITERATIONS REACHED LIMIT.\n",
      "\n",
      "Increase the number of iterations (max_iter) or scale the data as shown in:\n",
      "    https://scikit-learn.org/stable/modules/preprocessing.html\n",
      "Please also refer to the documentation for alternative solver options:\n",
      "    https://scikit-learn.org/stable/modules/linear_model.html#logistic-regression\n",
      "  n_iter_i = _check_optimize_result(\n",
      "/opt/conda/lib/python3.9/site-packages/sklearn/linear_model/_logistic.py:444: ConvergenceWarning: lbfgs failed to converge (status=1):\n",
      "STOP: TOTAL NO. of ITERATIONS REACHED LIMIT.\n",
      "\n",
      "Increase the number of iterations (max_iter) or scale the data as shown in:\n",
      "    https://scikit-learn.org/stable/modules/preprocessing.html\n",
      "Please also refer to the documentation for alternative solver options:\n",
      "    https://scikit-learn.org/stable/modules/linear_model.html#logistic-regression\n",
      "  n_iter_i = _check_optimize_result(\n",
      "/opt/conda/lib/python3.9/site-packages/sklearn/linear_model/_logistic.py:444: ConvergenceWarning: lbfgs failed to converge (status=1):\n",
      "STOP: TOTAL NO. of ITERATIONS REACHED LIMIT.\n",
      "\n",
      "Increase the number of iterations (max_iter) or scale the data as shown in:\n",
      "    https://scikit-learn.org/stable/modules/preprocessing.html\n",
      "Please also refer to the documentation for alternative solver options:\n",
      "    https://scikit-learn.org/stable/modules/linear_model.html#logistic-regression\n",
      "  n_iter_i = _check_optimize_result(\n",
      "/opt/conda/lib/python3.9/site-packages/sklearn/linear_model/_logistic.py:444: ConvergenceWarning: lbfgs failed to converge (status=1):\n",
      "STOP: TOTAL NO. of ITERATIONS REACHED LIMIT.\n",
      "\n",
      "Increase the number of iterations (max_iter) or scale the data as shown in:\n",
      "    https://scikit-learn.org/stable/modules/preprocessing.html\n",
      "Please also refer to the documentation for alternative solver options:\n",
      "    https://scikit-learn.org/stable/modules/linear_model.html#logistic-regression\n",
      "  n_iter_i = _check_optimize_result(\n",
      "/opt/conda/lib/python3.9/site-packages/sklearn/linear_model/_logistic.py:444: ConvergenceWarning: lbfgs failed to converge (status=1):\n",
      "STOP: TOTAL NO. of ITERATIONS REACHED LIMIT.\n",
      "\n",
      "Increase the number of iterations (max_iter) or scale the data as shown in:\n",
      "    https://scikit-learn.org/stable/modules/preprocessing.html\n",
      "Please also refer to the documentation for alternative solver options:\n",
      "    https://scikit-learn.org/stable/modules/linear_model.html#logistic-regression\n",
      "  n_iter_i = _check_optimize_result(\n",
      "/opt/conda/lib/python3.9/site-packages/sklearn/linear_model/_logistic.py:444: ConvergenceWarning: lbfgs failed to converge (status=1):\n",
      "STOP: TOTAL NO. of ITERATIONS REACHED LIMIT.\n",
      "\n",
      "Increase the number of iterations (max_iter) or scale the data as shown in:\n",
      "    https://scikit-learn.org/stable/modules/preprocessing.html\n",
      "Please also refer to the documentation for alternative solver options:\n",
      "    https://scikit-learn.org/stable/modules/linear_model.html#logistic-regression\n",
      "  n_iter_i = _check_optimize_result(\n",
      "/opt/conda/lib/python3.9/site-packages/sklearn/linear_model/_logistic.py:444: ConvergenceWarning: lbfgs failed to converge (status=1):\n",
      "STOP: TOTAL NO. of ITERATIONS REACHED LIMIT.\n",
      "\n",
      "Increase the number of iterations (max_iter) or scale the data as shown in:\n",
      "    https://scikit-learn.org/stable/modules/preprocessing.html\n",
      "Please also refer to the documentation for alternative solver options:\n",
      "    https://scikit-learn.org/stable/modules/linear_model.html#logistic-regression\n",
      "  n_iter_i = _check_optimize_result(\n",
      "/opt/conda/lib/python3.9/site-packages/sklearn/linear_model/_logistic.py:444: ConvergenceWarning: lbfgs failed to converge (status=1):\n",
      "STOP: TOTAL NO. of ITERATIONS REACHED LIMIT.\n",
      "\n",
      "Increase the number of iterations (max_iter) or scale the data as shown in:\n",
      "    https://scikit-learn.org/stable/modules/preprocessing.html\n",
      "Please also refer to the documentation for alternative solver options:\n",
      "    https://scikit-learn.org/stable/modules/linear_model.html#logistic-regression\n",
      "  n_iter_i = _check_optimize_result(\n",
      "/opt/conda/lib/python3.9/site-packages/sklearn/linear_model/_logistic.py:444: ConvergenceWarning: lbfgs failed to converge (status=1):\n",
      "STOP: TOTAL NO. of ITERATIONS REACHED LIMIT.\n",
      "\n",
      "Increase the number of iterations (max_iter) or scale the data as shown in:\n",
      "    https://scikit-learn.org/stable/modules/preprocessing.html\n",
      "Please also refer to the documentation for alternative solver options:\n",
      "    https://scikit-learn.org/stable/modules/linear_model.html#logistic-regression\n",
      "  n_iter_i = _check_optimize_result(\n",
      "/opt/conda/lib/python3.9/site-packages/sklearn/linear_model/_logistic.py:444: ConvergenceWarning: lbfgs failed to converge (status=1):\n",
      "STOP: TOTAL NO. of ITERATIONS REACHED LIMIT.\n",
      "\n",
      "Increase the number of iterations (max_iter) or scale the data as shown in:\n",
      "    https://scikit-learn.org/stable/modules/preprocessing.html\n",
      "Please also refer to the documentation for alternative solver options:\n",
      "    https://scikit-learn.org/stable/modules/linear_model.html#logistic-regression\n",
      "  n_iter_i = _check_optimize_result(\n",
      "/opt/conda/lib/python3.9/site-packages/sklearn/linear_model/_logistic.py:444: ConvergenceWarning: lbfgs failed to converge (status=1):\n",
      "STOP: TOTAL NO. of ITERATIONS REACHED LIMIT.\n",
      "\n",
      "Increase the number of iterations (max_iter) or scale the data as shown in:\n",
      "    https://scikit-learn.org/stable/modules/preprocessing.html\n",
      "Please also refer to the documentation for alternative solver options:\n",
      "    https://scikit-learn.org/stable/modules/linear_model.html#logistic-regression\n",
      "  n_iter_i = _check_optimize_result(\n",
      "/opt/conda/lib/python3.9/site-packages/sklearn/linear_model/_logistic.py:444: ConvergenceWarning: lbfgs failed to converge (status=1):\n",
      "STOP: TOTAL NO. of ITERATIONS REACHED LIMIT.\n",
      "\n",
      "Increase the number of iterations (max_iter) or scale the data as shown in:\n",
      "    https://scikit-learn.org/stable/modules/preprocessing.html\n",
      "Please also refer to the documentation for alternative solver options:\n",
      "    https://scikit-learn.org/stable/modules/linear_model.html#logistic-regression\n",
      "  n_iter_i = _check_optimize_result(\n",
      "/opt/conda/lib/python3.9/site-packages/sklearn/linear_model/_logistic.py:444: ConvergenceWarning: lbfgs failed to converge (status=1):\n",
      "STOP: TOTAL NO. of ITERATIONS REACHED LIMIT.\n",
      "\n",
      "Increase the number of iterations (max_iter) or scale the data as shown in:\n",
      "    https://scikit-learn.org/stable/modules/preprocessing.html\n",
      "Please also refer to the documentation for alternative solver options:\n",
      "    https://scikit-learn.org/stable/modules/linear_model.html#logistic-regression\n",
      "  n_iter_i = _check_optimize_result(\n",
      "/opt/conda/lib/python3.9/site-packages/sklearn/linear_model/_logistic.py:444: ConvergenceWarning: lbfgs failed to converge (status=1):\n",
      "STOP: TOTAL NO. of ITERATIONS REACHED LIMIT.\n",
      "\n",
      "Increase the number of iterations (max_iter) or scale the data as shown in:\n",
      "    https://scikit-learn.org/stable/modules/preprocessing.html\n",
      "Please also refer to the documentation for alternative solver options:\n",
      "    https://scikit-learn.org/stable/modules/linear_model.html#logistic-regression\n",
      "  n_iter_i = _check_optimize_result(\n",
      "/opt/conda/lib/python3.9/site-packages/sklearn/linear_model/_logistic.py:444: ConvergenceWarning: lbfgs failed to converge (status=1):\n",
      "STOP: TOTAL NO. of ITERATIONS REACHED LIMIT.\n",
      "\n",
      "Increase the number of iterations (max_iter) or scale the data as shown in:\n",
      "    https://scikit-learn.org/stable/modules/preprocessing.html\n",
      "Please also refer to the documentation for alternative solver options:\n",
      "    https://scikit-learn.org/stable/modules/linear_model.html#logistic-regression\n",
      "  n_iter_i = _check_optimize_result(\n",
      "/opt/conda/lib/python3.9/site-packages/sklearn/linear_model/_logistic.py:444: ConvergenceWarning: lbfgs failed to converge (status=1):\n",
      "STOP: TOTAL NO. of ITERATIONS REACHED LIMIT.\n",
      "\n",
      "Increase the number of iterations (max_iter) or scale the data as shown in:\n",
      "    https://scikit-learn.org/stable/modules/preprocessing.html\n",
      "Please also refer to the documentation for alternative solver options:\n",
      "    https://scikit-learn.org/stable/modules/linear_model.html#logistic-regression\n",
      "  n_iter_i = _check_optimize_result(\n"
     ]
    },
    {
     "data": {
      "text/html": [
       "<style>#sk-container-id-1 {color: black;background-color: white;}#sk-container-id-1 pre{padding: 0;}#sk-container-id-1 div.sk-toggleable {background-color: white;}#sk-container-id-1 label.sk-toggleable__label {cursor: pointer;display: block;width: 100%;margin-bottom: 0;padding: 0.3em;box-sizing: border-box;text-align: center;}#sk-container-id-1 label.sk-toggleable__label-arrow:before {content: \"▸\";float: left;margin-right: 0.25em;color: #696969;}#sk-container-id-1 label.sk-toggleable__label-arrow:hover:before {color: black;}#sk-container-id-1 div.sk-estimator:hover label.sk-toggleable__label-arrow:before {color: black;}#sk-container-id-1 div.sk-toggleable__content {max-height: 0;max-width: 0;overflow: hidden;text-align: left;background-color: #f0f8ff;}#sk-container-id-1 div.sk-toggleable__content pre {margin: 0.2em;color: black;border-radius: 0.25em;background-color: #f0f8ff;}#sk-container-id-1 input.sk-toggleable__control:checked~div.sk-toggleable__content {max-height: 200px;max-width: 100%;overflow: auto;}#sk-container-id-1 input.sk-toggleable__control:checked~label.sk-toggleable__label-arrow:before {content: \"▾\";}#sk-container-id-1 div.sk-estimator input.sk-toggleable__control:checked~label.sk-toggleable__label {background-color: #d4ebff;}#sk-container-id-1 div.sk-label input.sk-toggleable__control:checked~label.sk-toggleable__label {background-color: #d4ebff;}#sk-container-id-1 input.sk-hidden--visually {border: 0;clip: rect(1px 1px 1px 1px);clip: rect(1px, 1px, 1px, 1px);height: 1px;margin: -1px;overflow: hidden;padding: 0;position: absolute;width: 1px;}#sk-container-id-1 div.sk-estimator {font-family: monospace;background-color: #f0f8ff;border: 1px dotted black;border-radius: 0.25em;box-sizing: border-box;margin-bottom: 0.5em;}#sk-container-id-1 div.sk-estimator:hover {background-color: #d4ebff;}#sk-container-id-1 div.sk-parallel-item::after {content: \"\";width: 100%;border-bottom: 1px solid gray;flex-grow: 1;}#sk-container-id-1 div.sk-label:hover label.sk-toggleable__label {background-color: #d4ebff;}#sk-container-id-1 div.sk-serial::before {content: \"\";position: absolute;border-left: 1px solid gray;box-sizing: border-box;top: 0;bottom: 0;left: 50%;z-index: 0;}#sk-container-id-1 div.sk-serial {display: flex;flex-direction: column;align-items: center;background-color: white;padding-right: 0.2em;padding-left: 0.2em;position: relative;}#sk-container-id-1 div.sk-item {position: relative;z-index: 1;}#sk-container-id-1 div.sk-parallel {display: flex;align-items: stretch;justify-content: center;background-color: white;position: relative;}#sk-container-id-1 div.sk-item::before, #sk-container-id-1 div.sk-parallel-item::before {content: \"\";position: absolute;border-left: 1px solid gray;box-sizing: border-box;top: 0;bottom: 0;left: 50%;z-index: -1;}#sk-container-id-1 div.sk-parallel-item {display: flex;flex-direction: column;z-index: 1;position: relative;background-color: white;}#sk-container-id-1 div.sk-parallel-item:first-child::after {align-self: flex-end;width: 50%;}#sk-container-id-1 div.sk-parallel-item:last-child::after {align-self: flex-start;width: 50%;}#sk-container-id-1 div.sk-parallel-item:only-child::after {width: 0;}#sk-container-id-1 div.sk-dashed-wrapped {border: 1px dashed gray;margin: 0 0.4em 0.5em 0.4em;box-sizing: border-box;padding-bottom: 0.4em;background-color: white;}#sk-container-id-1 div.sk-label label {font-family: monospace;font-weight: bold;display: inline-block;line-height: 1.2em;}#sk-container-id-1 div.sk-label-container {text-align: center;}#sk-container-id-1 div.sk-container {/* jupyter's `normalize.less` sets `[hidden] { display: none; }` but bootstrap.min.css set `[hidden] { display: none !important; }` so we also need the `!important` here to be able to override the default hidden behavior on the sphinx rendered scikit-learn.org. See: https://github.com/scikit-learn/scikit-learn/issues/21755 */display: inline-block !important;position: relative;}#sk-container-id-1 div.sk-text-repr-fallback {display: none;}</style><div id=\"sk-container-id-1\" class=\"sk-top-container\"><div class=\"sk-text-repr-fallback\"><pre>GridSearchCV(cv=5,\n",
       "             estimator=Pipeline(steps=[(&#x27;tfidf&#x27;,\n",
       "                                        TfidfVectorizer(max_features=7000,\n",
       "                                                        stop_words={&#x27;a&#x27;,\n",
       "                                                                    &#x27;about&#x27;,\n",
       "                                                                    &#x27;above&#x27;,\n",
       "                                                                    &#x27;after&#x27;,\n",
       "                                                                    &#x27;again&#x27;,\n",
       "                                                                    &#x27;against&#x27;,\n",
       "                                                                    &#x27;ain&#x27;,\n",
       "                                                                    &#x27;all&#x27;, &#x27;am&#x27;,\n",
       "                                                                    &#x27;an&#x27;, &#x27;and&#x27;,\n",
       "                                                                    &#x27;any&#x27;,\n",
       "                                                                    &#x27;are&#x27;,\n",
       "                                                                    &#x27;aren&#x27;,\n",
       "                                                                    &quot;aren&#x27;t&quot;,\n",
       "                                                                    &#x27;as&#x27;, &#x27;at&#x27;,\n",
       "                                                                    &#x27;be&#x27;,\n",
       "                                                                    &#x27;because&#x27;,\n",
       "                                                                    &#x27;been&#x27;,\n",
       "                                                                    &#x27;before&#x27;,\n",
       "                                                                    &#x27;being&#x27;,\n",
       "                                                                    &#x27;below&#x27;,\n",
       "                                                                    &#x27;between&#x27;,\n",
       "                                                                    &#x27;both&#x27;,\n",
       "                                                                    &#x27;but&#x27;, &#x27;by&#x27;,\n",
       "                                                                    &#x27;can&#x27;,\n",
       "                                                                    &#x27;couldn&#x27;,\n",
       "                                                                    &quot;couldn&#x27;t&quot;, ...})),\n",
       "                                       (&#x27;model&#x27;,\n",
       "                                        LGBMClassifier(random_state=42))]),\n",
       "             n_jobs=-1,\n",
       "             param_grid={&#x27;model__n_estimators&#x27;: [100, 200, 300, 400]},\n",
       "             scoring=&#x27;f1&#x27;)</pre><b>In a Jupyter environment, please rerun this cell to show the HTML representation or trust the notebook. <br />On GitHub, the HTML representation is unable to render, please try loading this page with nbviewer.org.</b></div><div class=\"sk-container\" hidden><div class=\"sk-item sk-dashed-wrapped\"><div class=\"sk-label-container\"><div class=\"sk-label sk-toggleable\"><input class=\"sk-toggleable__control sk-hidden--visually\" id=\"sk-estimator-id-1\" type=\"checkbox\" ><label for=\"sk-estimator-id-1\" class=\"sk-toggleable__label sk-toggleable__label-arrow\">GridSearchCV</label><div class=\"sk-toggleable__content\"><pre>GridSearchCV(cv=5,\n",
       "             estimator=Pipeline(steps=[(&#x27;tfidf&#x27;,\n",
       "                                        TfidfVectorizer(max_features=7000,\n",
       "                                                        stop_words={&#x27;a&#x27;,\n",
       "                                                                    &#x27;about&#x27;,\n",
       "                                                                    &#x27;above&#x27;,\n",
       "                                                                    &#x27;after&#x27;,\n",
       "                                                                    &#x27;again&#x27;,\n",
       "                                                                    &#x27;against&#x27;,\n",
       "                                                                    &#x27;ain&#x27;,\n",
       "                                                                    &#x27;all&#x27;, &#x27;am&#x27;,\n",
       "                                                                    &#x27;an&#x27;, &#x27;and&#x27;,\n",
       "                                                                    &#x27;any&#x27;,\n",
       "                                                                    &#x27;are&#x27;,\n",
       "                                                                    &#x27;aren&#x27;,\n",
       "                                                                    &quot;aren&#x27;t&quot;,\n",
       "                                                                    &#x27;as&#x27;, &#x27;at&#x27;,\n",
       "                                                                    &#x27;be&#x27;,\n",
       "                                                                    &#x27;because&#x27;,\n",
       "                                                                    &#x27;been&#x27;,\n",
       "                                                                    &#x27;before&#x27;,\n",
       "                                                                    &#x27;being&#x27;,\n",
       "                                                                    &#x27;below&#x27;,\n",
       "                                                                    &#x27;between&#x27;,\n",
       "                                                                    &#x27;both&#x27;,\n",
       "                                                                    &#x27;but&#x27;, &#x27;by&#x27;,\n",
       "                                                                    &#x27;can&#x27;,\n",
       "                                                                    &#x27;couldn&#x27;,\n",
       "                                                                    &quot;couldn&#x27;t&quot;, ...})),\n",
       "                                       (&#x27;model&#x27;,\n",
       "                                        LGBMClassifier(random_state=42))]),\n",
       "             n_jobs=-1,\n",
       "             param_grid={&#x27;model__n_estimators&#x27;: [100, 200, 300, 400]},\n",
       "             scoring=&#x27;f1&#x27;)</pre></div></div></div><div class=\"sk-parallel\"><div class=\"sk-parallel-item\"><div class=\"sk-item\"><div class=\"sk-label-container\"><div class=\"sk-label sk-toggleable\"><input class=\"sk-toggleable__control sk-hidden--visually\" id=\"sk-estimator-id-2\" type=\"checkbox\" ><label for=\"sk-estimator-id-2\" class=\"sk-toggleable__label sk-toggleable__label-arrow\">estimator: Pipeline</label><div class=\"sk-toggleable__content\"><pre>Pipeline(steps=[(&#x27;tfidf&#x27;,\n",
       "                 TfidfVectorizer(max_features=7000,\n",
       "                                 stop_words={&#x27;a&#x27;, &#x27;about&#x27;, &#x27;above&#x27;, &#x27;after&#x27;,\n",
       "                                             &#x27;again&#x27;, &#x27;against&#x27;, &#x27;ain&#x27;, &#x27;all&#x27;,\n",
       "                                             &#x27;am&#x27;, &#x27;an&#x27;, &#x27;and&#x27;, &#x27;any&#x27;, &#x27;are&#x27;,\n",
       "                                             &#x27;aren&#x27;, &quot;aren&#x27;t&quot;, &#x27;as&#x27;, &#x27;at&#x27;, &#x27;be&#x27;,\n",
       "                                             &#x27;because&#x27;, &#x27;been&#x27;, &#x27;before&#x27;,\n",
       "                                             &#x27;being&#x27;, &#x27;below&#x27;, &#x27;between&#x27;,\n",
       "                                             &#x27;both&#x27;, &#x27;but&#x27;, &#x27;by&#x27;, &#x27;can&#x27;,\n",
       "                                             &#x27;couldn&#x27;, &quot;couldn&#x27;t&quot;, ...})),\n",
       "                (&#x27;model&#x27;, LGBMClassifier(random_state=42))])</pre></div></div></div><div class=\"sk-serial\"><div class=\"sk-item\"><div class=\"sk-serial\"><div class=\"sk-item\"><div class=\"sk-estimator sk-toggleable\"><input class=\"sk-toggleable__control sk-hidden--visually\" id=\"sk-estimator-id-3\" type=\"checkbox\" ><label for=\"sk-estimator-id-3\" class=\"sk-toggleable__label sk-toggleable__label-arrow\">TfidfVectorizer</label><div class=\"sk-toggleable__content\"><pre>TfidfVectorizer(max_features=7000,\n",
       "                stop_words={&#x27;a&#x27;, &#x27;about&#x27;, &#x27;above&#x27;, &#x27;after&#x27;, &#x27;again&#x27;, &#x27;against&#x27;,\n",
       "                            &#x27;ain&#x27;, &#x27;all&#x27;, &#x27;am&#x27;, &#x27;an&#x27;, &#x27;and&#x27;, &#x27;any&#x27;, &#x27;are&#x27;,\n",
       "                            &#x27;aren&#x27;, &quot;aren&#x27;t&quot;, &#x27;as&#x27;, &#x27;at&#x27;, &#x27;be&#x27;, &#x27;because&#x27;,\n",
       "                            &#x27;been&#x27;, &#x27;before&#x27;, &#x27;being&#x27;, &#x27;below&#x27;, &#x27;between&#x27;,\n",
       "                            &#x27;both&#x27;, &#x27;but&#x27;, &#x27;by&#x27;, &#x27;can&#x27;, &#x27;couldn&#x27;, &quot;couldn&#x27;t&quot;, ...})</pre></div></div></div><div class=\"sk-item\"><div class=\"sk-estimator sk-toggleable\"><input class=\"sk-toggleable__control sk-hidden--visually\" id=\"sk-estimator-id-4\" type=\"checkbox\" ><label for=\"sk-estimator-id-4\" class=\"sk-toggleable__label sk-toggleable__label-arrow\">LGBMClassifier</label><div class=\"sk-toggleable__content\"><pre>LGBMClassifier(random_state=42)</pre></div></div></div></div></div></div></div></div></div></div></div></div>"
      ],
      "text/plain": [
       "GridSearchCV(cv=5,\n",
       "             estimator=Pipeline(steps=[('tfidf',\n",
       "                                        TfidfVectorizer(max_features=7000,\n",
       "                                                        stop_words={'a',\n",
       "                                                                    'about',\n",
       "                                                                    'above',\n",
       "                                                                    'after',\n",
       "                                                                    'again',\n",
       "                                                                    'against',\n",
       "                                                                    'ain',\n",
       "                                                                    'all', 'am',\n",
       "                                                                    'an', 'and',\n",
       "                                                                    'any',\n",
       "                                                                    'are',\n",
       "                                                                    'aren',\n",
       "                                                                    \"aren't\",\n",
       "                                                                    'as', 'at',\n",
       "                                                                    'be',\n",
       "                                                                    'because',\n",
       "                                                                    'been',\n",
       "                                                                    'before',\n",
       "                                                                    'being',\n",
       "                                                                    'below',\n",
       "                                                                    'between',\n",
       "                                                                    'both',\n",
       "                                                                    'but', 'by',\n",
       "                                                                    'can',\n",
       "                                                                    'couldn',\n",
       "                                                                    \"couldn't\", ...})),\n",
       "                                       ('model',\n",
       "                                        LGBMClassifier(random_state=42))]),\n",
       "             n_jobs=-1,\n",
       "             param_grid={'model__n_estimators': [100, 200, 300, 400]},\n",
       "             scoring='f1')"
      ]
     },
     "execution_count": 22,
     "metadata": {},
     "output_type": "execute_result"
    }
   ],
   "source": [
    "grid_search_logistic.fit(X_train, y_train)\n",
    "grid_search_passive_aggressive.fit(X_train, y_train)\n",
    "grid_search_lightgbm.fit(X_train, y_train)"
   ]
  },
  {
   "cell_type": "code",
   "execution_count": 23,
   "metadata": {},
   "outputs": [],
   "source": [
    "best_model_logistic = grid_search_logistic.best_estimator_\n",
    "best_model_passive_aggressive = grid_search_passive_aggressive.best_estimator_\n",
    "best_model_lightgbm = grid_search_lightgbm.best_estimator_"
   ]
  },
  {
   "cell_type": "code",
   "execution_count": 24,
   "metadata": {},
   "outputs": [],
   "source": [
    "best_score_logistic = grid_search_logistic.best_score_\n",
    "best_score_passive_aggressive = grid_search_passive_aggressive.best_score_\n",
    "best_score_lightgbm = grid_search_lightgbm.best_score_"
   ]
  },
  {
   "cell_type": "code",
   "execution_count": 25,
   "metadata": {},
   "outputs": [
    {
     "name": "stdout",
     "output_type": "stream",
     "text": [
      "Best Logistic Regression Model: Pipeline(steps=[('tfidf',\n",
      "                 TfidfVectorizer(max_features=7000,\n",
      "                                 stop_words={'a', 'about', 'above', 'after',\n",
      "                                             'again', 'against', 'ain', 'all',\n",
      "                                             'am', 'an', 'and', 'any', 'are',\n",
      "                                             'aren', \"aren't\", 'as', 'at', 'be',\n",
      "                                             'because', 'been', 'before',\n",
      "                                             'being', 'below', 'between',\n",
      "                                             'both', 'but', 'by', 'can',\n",
      "                                             'couldn', \"couldn't\", ...})),\n",
      "                ('scaler', StandardScaler(with_mean=False)),\n",
      "                ('model', LogisticRegression(C=0.001, random_state=42))])\n",
      "Best Logistic Regression Score: 0.749637082769705\n",
      "Best Passive Aggressive Classifier Model: Pipeline(steps=[('tfidf',\n",
      "                 TfidfVectorizer(max_features=7000,\n",
      "                                 stop_words={'a', 'about', 'above', 'after',\n",
      "                                             'again', 'against', 'ain', 'all',\n",
      "                                             'am', 'an', 'and', 'any', 'are',\n",
      "                                             'aren', \"aren't\", 'as', 'at', 'be',\n",
      "                                             'because', 'been', 'before',\n",
      "                                             'being', 'below', 'between',\n",
      "                                             'both', 'but', 'by', 'can',\n",
      "                                             'couldn', \"couldn't\", ...})),\n",
      "                ('model', PassiveAggressiveClassifier(C=0.1, random_state=42))])\n",
      "Best Passive Aggressive Classifier Score: 0.7819492922064452\n",
      "Best LightGBM Model: Pipeline(steps=[('tfidf',\n",
      "                 TfidfVectorizer(max_features=7000,\n",
      "                                 stop_words={'a', 'about', 'above', 'after',\n",
      "                                             'again', 'against', 'ain', 'all',\n",
      "                                             'am', 'an', 'and', 'any', 'are',\n",
      "                                             'aren', \"aren't\", 'as', 'at', 'be',\n",
      "                                             'because', 'been', 'before',\n",
      "                                             'being', 'below', 'between',\n",
      "                                             'both', 'but', 'by', 'can',\n",
      "                                             'couldn', \"couldn't\", ...})),\n",
      "                ('model', LGBMClassifier(n_estimators=400, random_state=42))])\n",
      "Best LightGBM Score: 0.7761618335532295\n"
     ]
    }
   ],
   "source": [
    "print(\"Best Logistic Regression Model:\", best_model_logistic)\n",
    "print(\"Best Logistic Regression Score:\", best_score_logistic)\n",
    "print(\"Best Passive Aggressive Classifier Model:\", best_model_passive_aggressive)\n",
    "print(\"Best Passive Aggressive Classifier Score:\", best_score_passive_aggressive)\n",
    "print(\"Best LightGBM Model:\", best_model_lightgbm)\n",
    "print(\"Best LightGBM Score:\", best_score_lightgbm)"
   ]
  },
  {
   "cell_type": "markdown",
   "metadata": {},
   "source": [
    "Лучшая модель - Passive Aggressive Classifier Score с параметрами C=0.1, random_state=42."
   ]
  },
  {
   "cell_type": "code",
   "execution_count": 26,
   "metadata": {},
   "outputs": [
    {
     "data": {
      "text/plain": [
       "0.7766001376462491"
      ]
     },
     "execution_count": 26,
     "metadata": {},
     "output_type": "execute_result"
    }
   ],
   "source": [
    "y_pred_passive_aggressive = best_model_passive_aggressive.predict(X_test)\n",
    "f1_score_passive_aggressive = f1_score(y_test, y_pred_passive_aggressive)\n",
    "f1_score_passive_aggressive"
   ]
  },
  {
   "cell_type": "markdown",
   "metadata": {},
   "source": [
    "На тестовых данных модель дала метрику 0.78."
   ]
  },
  {
   "cell_type": "markdown",
   "metadata": {},
   "source": [
    "Создадим облако слов"
   ]
  },
  {
   "cell_type": "code",
   "execution_count": 27,
   "metadata": {},
   "outputs": [
    {
     "data": {
      "image/png": "[encoded data removed]",
      "text/plain": [
       "<Figure size 720x432 with 1 Axes>"
      ]
     },
     "metadata": {
      "needs_background": "light"
     },
     "output_type": "display_data"
    }
   ],
   "source": [
    "text_raw_train = \" \".join(X_train)\n",
    "text_raw_test = \" \".join(X_test)\n",
    "text_raw = text_raw_train + \" \" + text_raw_test\n",
    "\n",
    "wordcloud = WordCloud().generate(text_raw)\n",
    "plt.figure(figsize=(10, 6))\n",
    "plt.imshow(wordcloud, interpolation='bilinear')\n",
    "plt.axis('off')\n",
    "plt.show()"
   ]
  },
  {
   "cell_type": "markdown",
   "metadata": {},
   "source": [
    "Облако слов показало, что наиболее частотными словами являются article, edit, dont, one, will, make, use, see."
   ]
  },
  {
   "cell_type": "markdown",
   "metadata": {},
   "source": [
    "**Таким образом, лучшая модель - Passive Aggressive Classifier Score с параметрами C=0.1, random_state=42. На тестовых данных модель дала метрику 0.78. Облако слов показало, что наиболее частотными словами являются article, edit, dont, one, will, make, use, see. Модель прошла по критерию качества.**"
   ]
  },
  {
   "cell_type": "markdown",
   "metadata": {},
   "source": [
    "## Выводы"
   ]
  },
  {
   "cell_type": "markdown",
   "metadata": {},
   "source": [
    "Таким образом, наше исследование было проведено в несколько этапов:\n",
    "- ознакомление с данными\n",
    "- предобработка данных (на этом этапе были проверены данные на пропущенные значения, дубликаты).\n",
    "- 143106 комментариев позитивны; 16186 негативны, в процентном соотношении позитивные комментарии составляют - 90%, негативные - 10%.\n",
    "- обучена модель Passive Aggressive Classifier Score с параметрами C=0.1, random_state=42. \n",
    "- На тестовых данных модель дала метрику 0.78. \n",
    "- Облако слов показало, что наиболее частотными словами являются article, edit, dont, one, will, make, use, see.\n",
    "Таким образом, данная модель обучена и готова для внедрения в бизнес."
   ]
  }
 ],
 "metadata": {
  "ExecuteTimeLog": [
   {
    "duration": 9467,
    "start_time": "2024-03-31T12:12:35.708Z"
   },
   {
    "duration": 1483,
    "start_time": "2024-03-31T12:12:45.177Z"
   },
   {
    "duration": 3,
    "start_time": "2024-03-31T12:12:58.943Z"
   },
   {
    "duration": 4,
    "start_time": "2024-03-31T12:12:59.076Z"
   },
   {
    "duration": 223,
    "start_time": "2024-03-31T12:13:13.432Z"
   },
   {
    "duration": 3,
    "start_time": "2024-03-31T12:13:27.665Z"
   },
   {
    "duration": 3431,
    "start_time": "2024-03-31T12:13:28.129Z"
   },
   {
    "duration": 10,
    "start_time": "2024-03-31T12:20:22.626Z"
   },
   {
    "duration": 16,
    "start_time": "2024-03-31T12:20:28.324Z"
   },
   {
    "duration": 26,
    "start_time": "2024-03-31T12:20:41.680Z"
   },
   {
    "duration": 22,
    "start_time": "2024-03-31T12:20:53.027Z"
   },
   {
    "duration": 11,
    "start_time": "2024-03-31T12:20:59.151Z"
   },
   {
    "duration": 3,
    "start_time": "2024-03-31T12:22:38.793Z"
   },
   {
    "duration": 246,
    "start_time": "2024-03-31T12:22:48.095Z"
   },
   {
    "duration": 5,
    "start_time": "2024-03-31T12:23:29.654Z"
   },
   {
    "duration": 12,
    "start_time": "2024-03-31T12:24:15.473Z"
   },
   {
    "duration": 3,
    "start_time": "2024-03-31T12:24:18.075Z"
   },
   {
    "duration": 204,
    "start_time": "2024-03-31T12:24:18.356Z"
   },
   {
    "duration": 216,
    "start_time": "2024-03-31T12:25:35.283Z"
   },
   {
    "duration": 6,
    "start_time": "2024-03-31T12:26:19.313Z"
   },
   {
    "duration": 10,
    "start_time": "2024-03-31T12:27:00.842Z"
   },
   {
    "duration": 4,
    "start_time": "2024-03-31T12:27:04.266Z"
   },
   {
    "duration": 142,
    "start_time": "2024-03-31T12:27:04.676Z"
   },
   {
    "duration": 13,
    "start_time": "2024-03-31T12:28:40.385Z"
   },
   {
    "duration": 129,
    "start_time": "2024-03-31T12:29:01.360Z"
   },
   {
    "duration": 79,
    "start_time": "2024-03-31T12:32:48.977Z"
   },
   {
    "duration": 78,
    "start_time": "2024-03-31T12:32:55.245Z"
   },
   {
    "duration": 142,
    "start_time": "2024-03-31T12:33:23.773Z"
   },
   {
    "duration": 6,
    "start_time": "2024-03-31T13:04:14.841Z"
   },
   {
    "duration": 3166,
    "start_time": "2024-03-31T13:05:11.101Z"
   },
   {
    "duration": 5496,
    "start_time": "2024-03-31T13:05:52.599Z"
   },
   {
    "duration": 1756,
    "start_time": "2024-03-31T13:05:58.098Z"
   },
   {
    "duration": 3,
    "start_time": "2024-03-31T13:05:59.855Z"
   },
   {
    "duration": 8,
    "start_time": "2024-03-31T13:05:59.860Z"
   },
   {
    "duration": 3465,
    "start_time": "2024-03-31T13:05:59.869Z"
   },
   {
    "duration": 12,
    "start_time": "2024-03-31T13:06:03.336Z"
   },
   {
    "duration": 19,
    "start_time": "2024-03-31T13:06:03.350Z"
   },
   {
    "duration": 264,
    "start_time": "2024-03-31T13:06:03.370Z"
   },
   {
    "duration": 7,
    "start_time": "2024-03-31T13:06:03.636Z"
   },
   {
    "duration": 115,
    "start_time": "2024-03-31T13:06:03.645Z"
   },
   {
    "duration": 2292,
    "start_time": "2024-03-31T13:06:03.761Z"
   },
   {
    "duration": 0,
    "start_time": "2024-03-31T13:06:06.054Z"
   },
   {
    "duration": 0,
    "start_time": "2024-03-31T13:06:06.056Z"
   },
   {
    "duration": 1,
    "start_time": "2024-03-31T13:06:06.057Z"
   },
   {
    "duration": 0,
    "start_time": "2024-03-31T13:06:06.070Z"
   },
   {
    "duration": 0,
    "start_time": "2024-03-31T13:06:06.072Z"
   },
   {
    "duration": 0,
    "start_time": "2024-03-31T13:06:06.074Z"
   },
   {
    "duration": 0,
    "start_time": "2024-03-31T13:06:06.075Z"
   },
   {
    "duration": 0,
    "start_time": "2024-03-31T13:06:06.077Z"
   },
   {
    "duration": 0,
    "start_time": "2024-03-31T13:06:06.078Z"
   },
   {
    "duration": 0,
    "start_time": "2024-03-31T13:06:06.080Z"
   },
   {
    "duration": 0,
    "start_time": "2024-03-31T13:06:06.082Z"
   },
   {
    "duration": 9,
    "start_time": "2024-03-31T13:09:43.562Z"
   },
   {
    "duration": 9977,
    "start_time": "2024-03-31T13:10:42.419Z"
   },
   {
    "duration": 14,
    "start_time": "2024-03-31T13:10:55.090Z"
   },
   {
    "duration": 9,
    "start_time": "2024-03-31T13:10:59.942Z"
   },
   {
    "duration": 427,
    "start_time": "2024-03-31T13:11:15.091Z"
   },
   {
    "duration": 170,
    "start_time": "2024-03-31T13:11:19.126Z"
   },
   {
    "duration": 47,
    "start_time": "2024-03-31T13:12:13.729Z"
   },
   {
    "duration": 8179,
    "start_time": "2024-03-31T13:12:23.781Z"
   },
   {
    "duration": 2301,
    "start_time": "2024-03-31T13:12:31.963Z"
   },
   {
    "duration": 172,
    "start_time": "2024-03-31T13:12:34.265Z"
   },
   {
    "duration": 3,
    "start_time": "2024-03-31T13:12:34.438Z"
   },
   {
    "duration": 13,
    "start_time": "2024-03-31T13:12:34.444Z"
   },
   {
    "duration": 3371,
    "start_time": "2024-03-31T13:12:34.458Z"
   },
   {
    "duration": 11,
    "start_time": "2024-03-31T13:12:37.830Z"
   },
   {
    "duration": 5,
    "start_time": "2024-03-31T13:12:37.842Z"
   },
   {
    "duration": 238,
    "start_time": "2024-03-31T13:12:37.849Z"
   },
   {
    "duration": 6,
    "start_time": "2024-03-31T13:12:38.088Z"
   },
   {
    "duration": 185,
    "start_time": "2024-03-31T13:12:38.096Z"
   },
   {
    "duration": 2146,
    "start_time": "2024-03-31T13:12:38.282Z"
   },
   {
    "duration": 163,
    "start_time": "2024-03-31T13:12:40.429Z"
   },
   {
    "duration": 0,
    "start_time": "2024-03-31T13:12:40.595Z"
   },
   {
    "duration": 0,
    "start_time": "2024-03-31T13:12:40.596Z"
   },
   {
    "duration": 0,
    "start_time": "2024-03-31T13:12:40.596Z"
   },
   {
    "duration": 0,
    "start_time": "2024-03-31T13:12:40.598Z"
   },
   {
    "duration": 0,
    "start_time": "2024-03-31T13:12:40.598Z"
   },
   {
    "duration": 0,
    "start_time": "2024-03-31T13:12:40.599Z"
   },
   {
    "duration": 0,
    "start_time": "2024-03-31T13:12:40.600Z"
   },
   {
    "duration": 0,
    "start_time": "2024-03-31T13:12:40.601Z"
   },
   {
    "duration": 0,
    "start_time": "2024-03-31T13:12:40.602Z"
   },
   {
    "duration": 0,
    "start_time": "2024-03-31T13:12:40.603Z"
   },
   {
    "duration": 0,
    "start_time": "2024-03-31T13:12:40.604Z"
   },
   {
    "duration": 0,
    "start_time": "2024-03-31T13:12:40.605Z"
   },
   {
    "duration": 11,
    "start_time": "2024-03-31T13:13:26.641Z"
   },
   {
    "duration": 4,
    "start_time": "2024-03-31T13:13:39.981Z"
   },
   {
    "duration": 3,
    "start_time": "2024-03-31T13:13:46.461Z"
   },
   {
    "duration": 3,
    "start_time": "2024-03-31T13:16:39.812Z"
   },
   {
    "duration": 30,
    "start_time": "2024-03-31T13:16:46.983Z"
   },
   {
    "duration": 3,
    "start_time": "2024-03-31T13:47:44.955Z"
   },
   {
    "duration": 488,
    "start_time": "2024-03-31T13:47:45.123Z"
   },
   {
    "duration": 9,
    "start_time": "2024-03-31T13:47:59.313Z"
   },
   {
    "duration": 3,
    "start_time": "2024-03-31T13:48:07.225Z"
   },
   {
    "duration": 2292,
    "start_time": "2024-03-31T13:48:07.367Z"
   },
   {
    "duration": 8638,
    "start_time": "2024-03-31T13:50:42.578Z"
   },
   {
    "duration": 2462,
    "start_time": "2024-03-31T13:50:51.219Z"
   },
   {
    "duration": 242,
    "start_time": "2024-03-31T13:50:53.683Z"
   },
   {
    "duration": 3,
    "start_time": "2024-03-31T13:50:53.927Z"
   },
   {
    "duration": 13,
    "start_time": "2024-03-31T13:50:53.932Z"
   },
   {
    "duration": 3439,
    "start_time": "2024-03-31T13:50:53.947Z"
   },
   {
    "duration": 13,
    "start_time": "2024-03-31T13:50:57.388Z"
   },
   {
    "duration": 21,
    "start_time": "2024-03-31T13:50:57.402Z"
   },
   {
    "duration": 253,
    "start_time": "2024-03-31T13:50:57.425Z"
   },
   {
    "duration": 7,
    "start_time": "2024-03-31T13:50:57.680Z"
   },
   {
    "duration": 189,
    "start_time": "2024-03-31T13:50:57.689Z"
   },
   {
    "duration": 2277,
    "start_time": "2024-03-31T13:50:57.880Z"
   },
   {
    "duration": 43,
    "start_time": "2024-03-31T13:51:00.158Z"
   },
   {
    "duration": 88,
    "start_time": "2024-03-31T13:51:00.204Z"
   },
   {
    "duration": 2336,
    "start_time": "2024-03-31T13:51:00.294Z"
   },
   {
    "duration": 3,
    "start_time": "2024-03-31T13:51:02.632Z"
   },
   {
    "duration": 223,
    "start_time": "2024-03-31T13:51:02.636Z"
   },
   {
    "duration": 0,
    "start_time": "2024-03-31T13:51:02.861Z"
   },
   {
    "duration": 0,
    "start_time": "2024-03-31T13:51:02.862Z"
   },
   {
    "duration": 0,
    "start_time": "2024-03-31T13:51:02.863Z"
   },
   {
    "duration": 0,
    "start_time": "2024-03-31T13:51:02.864Z"
   },
   {
    "duration": 0,
    "start_time": "2024-03-31T13:51:02.865Z"
   },
   {
    "duration": 0,
    "start_time": "2024-03-31T13:51:02.866Z"
   },
   {
    "duration": 0,
    "start_time": "2024-03-31T13:51:02.867Z"
   },
   {
    "duration": 0,
    "start_time": "2024-03-31T13:51:02.870Z"
   },
   {
    "duration": 76846,
    "start_time": "2024-03-31T13:51:50.433Z"
   },
   {
    "duration": 8386,
    "start_time": "2024-03-31T14:00:42.025Z"
   },
   {
    "duration": 2410,
    "start_time": "2024-03-31T14:00:50.414Z"
   },
   {
    "duration": 169,
    "start_time": "2024-03-31T14:00:52.826Z"
   },
   {
    "duration": 3,
    "start_time": "2024-03-31T14:00:52.997Z"
   },
   {
    "duration": 24,
    "start_time": "2024-03-31T14:00:53.001Z"
   },
   {
    "duration": 3376,
    "start_time": "2024-03-31T14:00:53.026Z"
   },
   {
    "duration": 11,
    "start_time": "2024-03-31T14:00:56.404Z"
   },
   {
    "duration": 13,
    "start_time": "2024-03-31T14:00:56.417Z"
   },
   {
    "duration": 252,
    "start_time": "2024-03-31T14:00:56.432Z"
   },
   {
    "duration": 6,
    "start_time": "2024-03-31T14:00:56.687Z"
   },
   {
    "duration": 190,
    "start_time": "2024-03-31T14:00:56.694Z"
   },
   {
    "duration": 3,
    "start_time": "2024-03-31T14:00:56.886Z"
   },
   {
    "duration": 4,
    "start_time": "2024-03-31T14:00:56.890Z"
   },
   {
    "duration": 2260,
    "start_time": "2024-03-31T14:00:56.895Z"
   },
   {
    "duration": 2,
    "start_time": "2024-03-31T14:00:59.157Z"
   },
   {
    "duration": 74832,
    "start_time": "2024-03-31T14:00:59.170Z"
   },
   {
    "duration": 2228,
    "start_time": "2024-03-31T14:02:14.004Z"
   },
   {
    "duration": 6,
    "start_time": "2024-03-31T14:02:16.234Z"
   },
   {
    "duration": 101,
    "start_time": "2024-03-31T14:02:16.242Z"
   },
   {
    "duration": 134,
    "start_time": "2024-03-31T14:02:16.345Z"
   },
   {
    "duration": 0,
    "start_time": "2024-03-31T14:02:16.481Z"
   },
   {
    "duration": 0,
    "start_time": "2024-03-31T14:02:16.482Z"
   },
   {
    "duration": 0,
    "start_time": "2024-03-31T14:02:16.483Z"
   },
   {
    "duration": 0,
    "start_time": "2024-03-31T14:02:16.484Z"
   },
   {
    "duration": 0,
    "start_time": "2024-03-31T14:02:16.485Z"
   },
   {
    "duration": 8177,
    "start_time": "2024-03-31T14:03:17.580Z"
   },
   {
    "duration": 1443,
    "start_time": "2024-03-31T14:03:25.759Z"
   },
   {
    "duration": 245,
    "start_time": "2024-03-31T14:03:27.203Z"
   },
   {
    "duration": 2,
    "start_time": "2024-03-31T14:03:27.450Z"
   },
   {
    "duration": 6,
    "start_time": "2024-03-31T14:03:27.454Z"
   },
   {
    "duration": 907,
    "start_time": "2024-03-31T14:03:27.462Z"
   },
   {
    "duration": 11,
    "start_time": "2024-03-31T14:03:28.371Z"
   },
   {
    "duration": 11,
    "start_time": "2024-03-31T14:03:28.384Z"
   },
   {
    "duration": 249,
    "start_time": "2024-03-31T14:03:28.396Z"
   },
   {
    "duration": 5,
    "start_time": "2024-03-31T14:03:28.647Z"
   },
   {
    "duration": 191,
    "start_time": "2024-03-31T14:03:28.653Z"
   },
   {
    "duration": 3,
    "start_time": "2024-03-31T14:03:28.846Z"
   },
   {
    "duration": 8,
    "start_time": "2024-03-31T14:03:28.851Z"
   },
   {
    "duration": 2313,
    "start_time": "2024-03-31T14:03:28.871Z"
   },
   {
    "duration": 3,
    "start_time": "2024-03-31T14:03:31.186Z"
   },
   {
    "duration": 13563,
    "start_time": "2024-03-31T15:49:29.386Z"
   },
   {
    "duration": 1568,
    "start_time": "2024-03-31T15:49:42.952Z"
   },
   {
    "duration": 164,
    "start_time": "2024-03-31T15:49:44.521Z"
   },
   {
    "duration": 3,
    "start_time": "2024-03-31T15:49:44.687Z"
   },
   {
    "duration": 8,
    "start_time": "2024-03-31T15:49:44.691Z"
   },
   {
    "duration": 2273,
    "start_time": "2024-03-31T15:49:44.700Z"
   },
   {
    "duration": 12,
    "start_time": "2024-03-31T15:49:46.974Z"
   },
   {
    "duration": 25,
    "start_time": "2024-03-31T15:49:46.987Z"
   },
   {
    "duration": 229,
    "start_time": "2024-03-31T15:49:47.014Z"
   },
   {
    "duration": 6,
    "start_time": "2024-03-31T15:49:47.245Z"
   },
   {
    "duration": 173,
    "start_time": "2024-03-31T15:49:47.252Z"
   },
   {
    "duration": 2,
    "start_time": "2024-03-31T15:49:47.427Z"
   },
   {
    "duration": 28,
    "start_time": "2024-03-31T15:49:47.431Z"
   },
   {
    "duration": 2099,
    "start_time": "2024-03-31T15:49:47.460Z"
   },
   {
    "duration": 5,
    "start_time": "2024-03-31T15:49:49.561Z"
   },
   {
    "duration": 70809,
    "start_time": "2024-03-31T15:49:49.568Z"
   },
   {
    "duration": 2109,
    "start_time": "2024-03-31T15:51:00.379Z"
   },
   {
    "duration": 34,
    "start_time": "2024-03-31T15:51:02.489Z"
   },
   {
    "duration": 1056,
    "start_time": "2024-03-31T15:51:02.524Z"
   },
   {
    "duration": 0,
    "start_time": "2024-03-31T15:51:03.582Z"
   },
   {
    "duration": 6845,
    "start_time": "2024-03-31T15:57:43.723Z"
   },
   {
    "duration": 0,
    "start_time": "2024-03-31T15:57:50.570Z"
   },
   {
    "duration": 29,
    "start_time": "2024-03-31T15:58:16.483Z"
   },
   {
    "duration": 2,
    "start_time": "2024-03-31T15:58:32.254Z"
   },
   {
    "duration": 17,
    "start_time": "2024-03-31T15:58:36.602Z"
   },
   {
    "duration": 3,
    "start_time": "2024-03-31T15:59:00.974Z"
   },
   {
    "duration": 15,
    "start_time": "2024-03-31T15:59:01.690Z"
   },
   {
    "duration": 7860,
    "start_time": "2024-03-31T15:59:21.542Z"
   },
   {
    "duration": 1375,
    "start_time": "2024-03-31T15:59:29.405Z"
   },
   {
    "duration": 235,
    "start_time": "2024-03-31T15:59:30.782Z"
   },
   {
    "duration": 2,
    "start_time": "2024-03-31T15:59:31.019Z"
   },
   {
    "duration": 71,
    "start_time": "2024-03-31T15:59:31.023Z"
   },
   {
    "duration": 974,
    "start_time": "2024-03-31T15:59:31.095Z"
   },
   {
    "duration": 12,
    "start_time": "2024-03-31T15:59:32.070Z"
   },
   {
    "duration": 21,
    "start_time": "2024-03-31T15:59:32.084Z"
   },
   {
    "duration": 238,
    "start_time": "2024-03-31T15:59:32.107Z"
   },
   {
    "duration": 5,
    "start_time": "2024-03-31T15:59:32.347Z"
   },
   {
    "duration": 181,
    "start_time": "2024-03-31T15:59:32.354Z"
   },
   {
    "duration": 3,
    "start_time": "2024-03-31T15:59:32.537Z"
   },
   {
    "duration": 4,
    "start_time": "2024-03-31T15:59:32.541Z"
   },
   {
    "duration": 2110,
    "start_time": "2024-03-31T15:59:32.546Z"
   },
   {
    "duration": 3,
    "start_time": "2024-03-31T15:59:34.658Z"
   },
   {
    "duration": 71557,
    "start_time": "2024-03-31T15:59:34.662Z"
   },
   {
    "duration": 2062,
    "start_time": "2024-03-31T16:00:46.221Z"
   },
   {
    "duration": 42,
    "start_time": "2024-03-31T16:00:48.285Z"
   },
   {
    "duration": 2,
    "start_time": "2024-03-31T16:00:48.329Z"
   },
   {
    "duration": 6752,
    "start_time": "2024-03-31T16:00:48.333Z"
   },
   {
    "duration": 130,
    "start_time": "2024-03-31T16:00:55.087Z"
   },
   {
    "duration": 0,
    "start_time": "2024-03-31T16:00:55.219Z"
   },
   {
    "duration": 5,
    "start_time": "2024-03-31T16:01:52.800Z"
   },
   {
    "duration": 48,
    "start_time": "2024-03-31T16:02:01.437Z"
   },
   {
    "duration": 50601,
    "start_time": "2024-03-31T16:02:24.868Z"
   },
   {
    "duration": 991,
    "start_time": "2024-03-31T16:04:51.850Z"
   },
   {
    "duration": 65668,
    "start_time": "2024-03-31T16:05:19.310Z"
   },
   {
    "duration": 5552,
    "start_time": "2024-03-31T16:08:12.528Z"
   },
   {
    "duration": 1296,
    "start_time": "2024-03-31T16:08:18.082Z"
   },
   {
    "duration": 229,
    "start_time": "2024-03-31T16:08:19.379Z"
   },
   {
    "duration": 2,
    "start_time": "2024-03-31T16:08:19.610Z"
   },
   {
    "duration": 7,
    "start_time": "2024-03-31T16:08:19.614Z"
   },
   {
    "duration": 898,
    "start_time": "2024-03-31T16:08:19.622Z"
   },
   {
    "duration": 11,
    "start_time": "2024-03-31T16:08:20.522Z"
   },
   {
    "duration": 12,
    "start_time": "2024-03-31T16:08:20.535Z"
   },
   {
    "duration": 261,
    "start_time": "2024-03-31T16:08:20.548Z"
   },
   {
    "duration": 7,
    "start_time": "2024-03-31T16:08:20.811Z"
   },
   {
    "duration": 120,
    "start_time": "2024-03-31T16:08:20.820Z"
   },
   {
    "duration": 3,
    "start_time": "2024-03-31T16:08:20.942Z"
   },
   {
    "duration": 25,
    "start_time": "2024-03-31T16:08:20.947Z"
   },
   {
    "duration": 2087,
    "start_time": "2024-03-31T16:08:20.974Z"
   },
   {
    "duration": 2,
    "start_time": "2024-03-31T16:08:23.065Z"
   },
   {
    "duration": 71902,
    "start_time": "2024-03-31T16:08:23.068Z"
   },
   {
    "duration": 2095,
    "start_time": "2024-03-31T16:09:34.972Z"
   },
   {
    "duration": 29,
    "start_time": "2024-03-31T16:09:37.068Z"
   },
   {
    "duration": 2,
    "start_time": "2024-03-31T16:09:37.099Z"
   },
   {
    "duration": 6779,
    "start_time": "2024-03-31T16:09:37.102Z"
   },
   {
    "duration": 51983,
    "start_time": "2024-03-31T16:09:43.883Z"
   },
   {
    "duration": 43,
    "start_time": "2024-03-31T16:12:03.865Z"
   },
   {
    "duration": 0,
    "start_time": "2024-03-31T16:12:03.910Z"
   },
   {
    "duration": 0,
    "start_time": "2024-03-31T16:12:03.911Z"
   },
   {
    "duration": 5440,
    "start_time": "2024-03-31T16:15:34.842Z"
   },
   {
    "duration": 1304,
    "start_time": "2024-03-31T16:15:40.284Z"
   },
   {
    "duration": 235,
    "start_time": "2024-03-31T16:15:41.590Z"
   },
   {
    "duration": 3,
    "start_time": "2024-03-31T16:15:41.827Z"
   },
   {
    "duration": 5,
    "start_time": "2024-03-31T16:15:41.831Z"
   },
   {
    "duration": 868,
    "start_time": "2024-03-31T16:15:41.838Z"
   },
   {
    "duration": 17,
    "start_time": "2024-03-31T16:15:42.708Z"
   },
   {
    "duration": 6,
    "start_time": "2024-03-31T16:15:42.727Z"
   },
   {
    "duration": 258,
    "start_time": "2024-03-31T16:15:42.735Z"
   },
   {
    "duration": 5,
    "start_time": "2024-03-31T16:15:42.996Z"
   },
   {
    "duration": 110,
    "start_time": "2024-03-31T16:15:43.003Z"
   },
   {
    "duration": 12,
    "start_time": "2024-03-31T16:15:43.114Z"
   },
   {
    "duration": 4,
    "start_time": "2024-03-31T16:15:43.130Z"
   },
   {
    "duration": 2066,
    "start_time": "2024-03-31T16:15:43.136Z"
   },
   {
    "duration": 3,
    "start_time": "2024-03-31T16:15:45.203Z"
   },
   {
    "duration": 70279,
    "start_time": "2024-03-31T16:15:45.207Z"
   },
   {
    "duration": 2069,
    "start_time": "2024-03-31T16:16:55.487Z"
   },
   {
    "duration": 36,
    "start_time": "2024-03-31T16:16:57.565Z"
   },
   {
    "duration": 2,
    "start_time": "2024-03-31T16:16:57.603Z"
   },
   {
    "duration": 6911,
    "start_time": "2024-03-31T16:16:57.607Z"
   },
   {
    "duration": 51353,
    "start_time": "2024-03-31T16:17:04.519Z"
   },
   {
    "duration": 3,
    "start_time": "2024-03-31T16:17:55.874Z"
   },
   {
    "duration": 5454,
    "start_time": "2024-03-31T16:21:13.391Z"
   },
   {
    "duration": 1385,
    "start_time": "2024-03-31T16:21:18.847Z"
   },
   {
    "duration": 163,
    "start_time": "2024-03-31T16:21:20.233Z"
   },
   {
    "duration": 4,
    "start_time": "2024-03-31T16:21:20.398Z"
   },
   {
    "duration": 29,
    "start_time": "2024-03-31T16:21:20.404Z"
   },
   {
    "duration": 933,
    "start_time": "2024-03-31T16:21:20.434Z"
   },
   {
    "duration": 11,
    "start_time": "2024-03-31T16:21:21.369Z"
   },
   {
    "duration": 23,
    "start_time": "2024-03-31T16:21:21.382Z"
   },
   {
    "duration": 284,
    "start_time": "2024-03-31T16:21:21.407Z"
   },
   {
    "duration": 5,
    "start_time": "2024-03-31T16:21:21.693Z"
   },
   {
    "duration": 110,
    "start_time": "2024-03-31T16:21:21.700Z"
   },
   {
    "duration": 3,
    "start_time": "2024-03-31T16:21:21.812Z"
   },
   {
    "duration": 22,
    "start_time": "2024-03-31T16:21:21.817Z"
   },
   {
    "duration": 2122,
    "start_time": "2024-03-31T16:21:21.843Z"
   },
   {
    "duration": 2,
    "start_time": "2024-03-31T16:21:23.967Z"
   },
   {
    "duration": 71423,
    "start_time": "2024-03-31T16:21:23.970Z"
   },
   {
    "duration": 2063,
    "start_time": "2024-03-31T16:22:35.395Z"
   },
   {
    "duration": 28,
    "start_time": "2024-03-31T16:22:37.466Z"
   },
   {
    "duration": 3,
    "start_time": "2024-03-31T16:22:37.495Z"
   },
   {
    "duration": 6408,
    "start_time": "2024-03-31T16:22:37.499Z"
   },
   {
    "duration": 14023,
    "start_time": "2024-03-31T16:22:43.909Z"
   },
   {
    "duration": 3,
    "start_time": "2024-03-31T16:22:57.933Z"
   },
   {
    "duration": 53214,
    "start_time": "2024-03-31T16:22:57.937Z"
   },
   {
    "duration": 14,
    "start_time": "2024-03-31T16:23:51.152Z"
   },
   {
    "duration": 148,
    "start_time": "2024-03-31T16:23:51.168Z"
   },
   {
    "duration": 0,
    "start_time": "2024-03-31T16:23:51.317Z"
   },
   {
    "duration": 7,
    "start_time": "2024-03-31T16:29:02.356Z"
   },
   {
    "duration": 6,
    "start_time": "2024-03-31T16:29:05.757Z"
   },
   {
    "duration": 5,
    "start_time": "2024-03-31T16:30:33.304Z"
   },
   {
    "duration": 5516,
    "start_time": "2024-03-31T16:37:58.236Z"
   },
   {
    "duration": 1326,
    "start_time": "2024-03-31T16:38:03.754Z"
   },
   {
    "duration": 149,
    "start_time": "2024-03-31T16:38:05.081Z"
   },
   {
    "duration": 2,
    "start_time": "2024-03-31T16:38:05.232Z"
   },
   {
    "duration": 5,
    "start_time": "2024-03-31T16:38:05.236Z"
   },
   {
    "duration": 910,
    "start_time": "2024-03-31T16:38:05.243Z"
   },
   {
    "duration": 21,
    "start_time": "2024-03-31T16:38:06.154Z"
   },
   {
    "duration": 7,
    "start_time": "2024-03-31T16:38:06.176Z"
   },
   {
    "duration": 243,
    "start_time": "2024-03-31T16:38:06.184Z"
   },
   {
    "duration": 5,
    "start_time": "2024-03-31T16:38:06.428Z"
   },
   {
    "duration": 104,
    "start_time": "2024-03-31T16:38:06.434Z"
   },
   {
    "duration": 2,
    "start_time": "2024-03-31T16:38:06.540Z"
   },
   {
    "duration": 7,
    "start_time": "2024-03-31T16:38:06.544Z"
   },
   {
    "duration": 2073,
    "start_time": "2024-03-31T16:38:06.553Z"
   },
   {
    "duration": 2,
    "start_time": "2024-03-31T16:38:08.628Z"
   },
   {
    "duration": 70724,
    "start_time": "2024-03-31T16:38:08.631Z"
   },
   {
    "duration": 2111,
    "start_time": "2024-03-31T16:39:19.357Z"
   },
   {
    "duration": 32,
    "start_time": "2024-03-31T16:39:21.470Z"
   },
   {
    "duration": 3,
    "start_time": "2024-03-31T16:39:21.504Z"
   },
   {
    "duration": 6606,
    "start_time": "2024-03-31T16:39:21.509Z"
   },
   {
    "duration": 9463,
    "start_time": "2024-03-31T16:39:28.117Z"
   },
   {
    "duration": 36090,
    "start_time": "2024-03-31T16:39:37.582Z"
   },
   {
    "duration": 5,
    "start_time": "2024-03-31T16:40:13.674Z"
   },
   {
    "duration": 17,
    "start_time": "2024-03-31T16:40:13.681Z"
   },
   {
    "duration": 143,
    "start_time": "2024-03-31T16:40:13.699Z"
   },
   {
    "duration": 0,
    "start_time": "2024-03-31T16:40:13.844Z"
   },
   {
    "duration": 5,
    "start_time": "2024-03-31T16:42:18.300Z"
   },
   {
    "duration": 15,
    "start_time": "2024-03-31T16:42:22.217Z"
   },
   {
    "duration": 7,
    "start_time": "2024-03-31T16:43:22.562Z"
   },
   {
    "duration": 2384,
    "start_time": "2024-03-31T16:43:26.087Z"
   },
   {
    "duration": 5337,
    "start_time": "2024-03-31T16:47:14.470Z"
   },
   {
    "duration": 1400,
    "start_time": "2024-03-31T16:47:19.809Z"
   },
   {
    "duration": 241,
    "start_time": "2024-03-31T16:47:21.210Z"
   },
   {
    "duration": 3,
    "start_time": "2024-03-31T16:47:21.452Z"
   },
   {
    "duration": 8,
    "start_time": "2024-03-31T16:47:21.457Z"
   },
   {
    "duration": 864,
    "start_time": "2024-03-31T16:47:21.467Z"
   },
   {
    "duration": 12,
    "start_time": "2024-03-31T16:47:22.332Z"
   },
   {
    "duration": 8,
    "start_time": "2024-03-31T16:47:22.346Z"
   },
   {
    "duration": 252,
    "start_time": "2024-03-31T16:47:22.365Z"
   },
   {
    "duration": 6,
    "start_time": "2024-03-31T16:47:22.618Z"
   },
   {
    "duration": 122,
    "start_time": "2024-03-31T16:47:22.625Z"
   },
   {
    "duration": 3,
    "start_time": "2024-03-31T16:47:22.749Z"
   },
   {
    "duration": 11,
    "start_time": "2024-03-31T16:47:22.754Z"
   },
   {
    "duration": 2064,
    "start_time": "2024-03-31T16:47:22.768Z"
   },
   {
    "duration": 2,
    "start_time": "2024-03-31T16:47:24.834Z"
   },
   {
    "duration": 70479,
    "start_time": "2024-03-31T16:47:24.838Z"
   },
   {
    "duration": 4,
    "start_time": "2024-03-31T16:48:35.319Z"
   },
   {
    "duration": 49,
    "start_time": "2024-03-31T16:48:35.325Z"
   },
   {
    "duration": 3,
    "start_time": "2024-03-31T16:48:35.375Z"
   },
   {
    "duration": 6803,
    "start_time": "2024-03-31T16:48:35.379Z"
   },
   {
    "duration": 9409,
    "start_time": "2024-03-31T16:48:42.184Z"
   },
   {
    "duration": 34573,
    "start_time": "2024-03-31T16:48:51.594Z"
   },
   {
    "duration": 7,
    "start_time": "2024-03-31T16:49:26.169Z"
   },
   {
    "duration": 16,
    "start_time": "2024-03-31T16:49:26.178Z"
   },
   {
    "duration": 11202,
    "start_time": "2024-04-01T08:48:27.999Z"
   },
   {
    "duration": 5724,
    "start_time": "2024-04-01T08:50:14.023Z"
   },
   {
    "duration": 1535,
    "start_time": "2024-04-01T08:50:19.750Z"
   },
   {
    "duration": 171,
    "start_time": "2024-04-01T08:50:21.287Z"
   },
   {
    "duration": 3,
    "start_time": "2024-04-01T08:50:21.460Z"
   },
   {
    "duration": 4,
    "start_time": "2024-04-01T08:50:21.465Z"
   },
   {
    "duration": 3314,
    "start_time": "2024-04-01T08:50:21.470Z"
   },
   {
    "duration": 10,
    "start_time": "2024-04-01T08:50:24.785Z"
   },
   {
    "duration": 16,
    "start_time": "2024-04-01T08:50:24.796Z"
   },
   {
    "duration": 259,
    "start_time": "2024-04-01T08:50:24.813Z"
   },
   {
    "duration": 6,
    "start_time": "2024-04-01T08:50:25.080Z"
   },
   {
    "duration": 121,
    "start_time": "2024-04-01T08:50:25.087Z"
   },
   {
    "duration": 4,
    "start_time": "2024-04-01T08:50:25.209Z"
   },
   {
    "duration": 4,
    "start_time": "2024-04-01T08:50:25.214Z"
   },
   {
    "duration": 2221,
    "start_time": "2024-04-01T08:50:25.219Z"
   },
   {
    "duration": 2,
    "start_time": "2024-04-01T08:50:27.441Z"
   },
   {
    "duration": 74566,
    "start_time": "2024-04-01T08:50:27.445Z"
   },
   {
    "duration": 5,
    "start_time": "2024-04-01T08:51:42.013Z"
   },
   {
    "duration": 47,
    "start_time": "2024-04-01T08:51:42.019Z"
   },
   {
    "duration": 2,
    "start_time": "2024-04-01T08:51:42.068Z"
   },
   {
    "duration": 7151,
    "start_time": "2024-04-01T08:51:42.072Z"
   },
   {
    "duration": 11437,
    "start_time": "2024-04-01T08:51:49.225Z"
   },
   {
    "duration": 42872,
    "start_time": "2024-04-01T08:52:00.664Z"
   },
   {
    "duration": 7,
    "start_time": "2024-04-01T08:52:43.537Z"
   },
   {
    "duration": 18,
    "start_time": "2024-04-01T08:52:43.546Z"
   },
   {
    "duration": 5645,
    "start_time": "2024-04-01T08:52:47.461Z"
   },
   {
    "duration": 1338,
    "start_time": "2024-04-01T08:52:53.109Z"
   },
   {
    "duration": 163,
    "start_time": "2024-04-01T08:52:54.448Z"
   },
   {
    "duration": 3,
    "start_time": "2024-04-01T08:52:54.612Z"
   },
   {
    "duration": 6,
    "start_time": "2024-04-01T08:52:54.618Z"
   },
   {
    "duration": 1037,
    "start_time": "2024-04-01T08:52:54.625Z"
   },
   {
    "duration": 3,
    "start_time": "2024-04-01T08:52:55.664Z"
   },
   {
    "duration": 264,
    "start_time": "2024-04-01T08:52:55.680Z"
   },
   {
    "duration": 6,
    "start_time": "2024-04-01T08:52:55.946Z"
   },
   {
    "duration": 120,
    "start_time": "2024-04-01T08:52:55.953Z"
   },
   {
    "duration": 7,
    "start_time": "2024-04-01T08:52:56.074Z"
   },
   {
    "duration": 8,
    "start_time": "2024-04-01T08:52:56.083Z"
   },
   {
    "duration": 2198,
    "start_time": "2024-04-01T08:52:56.092Z"
   },
   {
    "duration": 2,
    "start_time": "2024-04-01T08:52:58.293Z"
   },
   {
    "duration": 5786,
    "start_time": "2024-04-01T08:53:23.912Z"
   },
   {
    "duration": 1382,
    "start_time": "2024-04-01T08:53:29.701Z"
   },
   {
    "duration": 247,
    "start_time": "2024-04-01T08:53:31.086Z"
   },
   {
    "duration": 3,
    "start_time": "2024-04-01T08:53:31.334Z"
   },
   {
    "duration": 81,
    "start_time": "2024-04-01T08:53:31.339Z"
   },
   {
    "duration": 1159,
    "start_time": "2024-04-01T08:53:31.422Z"
   },
   {
    "duration": 3,
    "start_time": "2024-04-01T08:53:32.583Z"
   },
   {
    "duration": 272,
    "start_time": "2024-04-01T08:53:32.588Z"
   },
   {
    "duration": 6,
    "start_time": "2024-04-01T08:53:32.861Z"
   },
   {
    "duration": 140,
    "start_time": "2024-04-01T08:53:32.869Z"
   },
   {
    "duration": 3,
    "start_time": "2024-04-01T08:53:33.010Z"
   },
   {
    "duration": 22,
    "start_time": "2024-04-01T08:53:33.015Z"
   },
   {
    "duration": 2238,
    "start_time": "2024-04-01T08:53:33.039Z"
   },
   {
    "duration": 3,
    "start_time": "2024-04-01T08:53:35.282Z"
   },
   {
    "duration": 74932,
    "start_time": "2024-04-01T08:53:35.287Z"
   },
   {
    "duration": 5,
    "start_time": "2024-04-01T08:54:50.220Z"
   },
   {
    "duration": 47,
    "start_time": "2024-04-01T08:54:50.226Z"
   },
   {
    "duration": 3,
    "start_time": "2024-04-01T08:54:50.274Z"
   },
   {
    "duration": 7594,
    "start_time": "2024-04-01T08:54:50.280Z"
   },
   {
    "duration": 12115,
    "start_time": "2024-04-01T08:54:57.876Z"
   },
   {
    "duration": 41700,
    "start_time": "2024-04-01T08:55:09.992Z"
   },
   {
    "duration": 6,
    "start_time": "2024-04-01T08:55:51.694Z"
   },
   {
    "duration": 30,
    "start_time": "2024-04-01T08:55:51.702Z"
   },
   {
    "duration": 2718,
    "start_time": "2024-04-01T08:59:50.841Z"
   },
   {
    "duration": 5819,
    "start_time": "2024-04-01T09:01:31.307Z"
   },
   {
    "duration": 4110,
    "start_time": "2024-04-01T09:01:37.129Z"
   },
   {
    "duration": 241,
    "start_time": "2024-04-01T09:01:41.241Z"
   },
   {
    "duration": 2,
    "start_time": "2024-04-01T09:01:41.484Z"
   },
   {
    "duration": 27,
    "start_time": "2024-04-01T09:01:41.488Z"
   },
   {
    "duration": 968,
    "start_time": "2024-04-01T09:01:41.516Z"
   },
   {
    "duration": 4,
    "start_time": "2024-04-01T09:01:42.486Z"
   },
   {
    "duration": 264,
    "start_time": "2024-04-01T09:01:42.492Z"
   },
   {
    "duration": 7,
    "start_time": "2024-04-01T09:01:42.758Z"
   },
   {
    "duration": 135,
    "start_time": "2024-04-01T09:01:42.768Z"
   },
   {
    "duration": 513,
    "start_time": "2024-04-01T09:01:42.905Z"
   },
   {
    "duration": 25,
    "start_time": "2024-04-01T09:01:43.420Z"
   },
   {
    "duration": 2193,
    "start_time": "2024-04-01T09:01:43.447Z"
   },
   {
    "duration": 5818,
    "start_time": "2024-04-01T09:04:01.261Z"
   },
   {
    "duration": 4164,
    "start_time": "2024-04-01T09:04:07.082Z"
   },
   {
    "duration": 243,
    "start_time": "2024-04-01T09:04:11.247Z"
   },
   {
    "duration": 3,
    "start_time": "2024-04-01T09:04:11.492Z"
   },
   {
    "duration": 4,
    "start_time": "2024-04-01T09:04:11.496Z"
   },
   {
    "duration": 950,
    "start_time": "2024-04-01T09:04:11.502Z"
   },
   {
    "duration": 3,
    "start_time": "2024-04-01T09:04:12.454Z"
   },
   {
    "duration": 267,
    "start_time": "2024-04-01T09:04:12.459Z"
   },
   {
    "duration": 5,
    "start_time": "2024-04-01T09:04:12.728Z"
   },
   {
    "duration": 113,
    "start_time": "2024-04-01T09:04:12.735Z"
   },
   {
    "duration": 507,
    "start_time": "2024-04-01T09:04:12.850Z"
   },
   {
    "duration": 33,
    "start_time": "2024-04-01T09:04:13.359Z"
   },
   {
    "duration": 6,
    "start_time": "2024-04-01T09:04:13.394Z"
   },
   {
    "duration": 2269,
    "start_time": "2024-04-01T09:04:13.401Z"
   },
   {
    "duration": 5700,
    "start_time": "2024-04-01T09:05:21.244Z"
   },
   {
    "duration": 4174,
    "start_time": "2024-04-01T09:05:26.947Z"
   },
   {
    "duration": 243,
    "start_time": "2024-04-01T09:05:31.123Z"
   },
   {
    "duration": 2,
    "start_time": "2024-04-01T09:05:31.368Z"
   },
   {
    "duration": 58,
    "start_time": "2024-04-01T09:05:31.372Z"
   },
   {
    "duration": 1036,
    "start_time": "2024-04-01T09:05:31.432Z"
   },
   {
    "duration": 11,
    "start_time": "2024-04-01T09:05:32.470Z"
   },
   {
    "duration": 316,
    "start_time": "2024-04-01T09:05:32.483Z"
   },
   {
    "duration": 6,
    "start_time": "2024-04-01T09:05:32.800Z"
   },
   {
    "duration": 125,
    "start_time": "2024-04-01T09:05:32.809Z"
   },
   {
    "duration": 531,
    "start_time": "2024-04-01T09:05:32.936Z"
   },
   {
    "duration": 6,
    "start_time": "2024-04-01T09:05:33.469Z"
   },
   {
    "duration": 53,
    "start_time": "2024-04-01T09:05:33.481Z"
   },
   {
    "duration": 2245,
    "start_time": "2024-04-01T09:05:33.536Z"
   },
   {
    "duration": 5825,
    "start_time": "2024-04-01T09:06:39.235Z"
   },
   {
    "duration": 4258,
    "start_time": "2024-04-01T09:06:45.062Z"
   },
   {
    "duration": 169,
    "start_time": "2024-04-01T09:06:49.322Z"
   },
   {
    "duration": 3,
    "start_time": "2024-04-01T09:06:49.493Z"
   },
   {
    "duration": 8,
    "start_time": "2024-04-01T09:06:49.497Z"
   },
   {
    "duration": 951,
    "start_time": "2024-04-01T09:06:49.507Z"
   },
   {
    "duration": 3,
    "start_time": "2024-04-01T09:06:50.460Z"
   },
   {
    "duration": 266,
    "start_time": "2024-04-01T09:06:50.465Z"
   },
   {
    "duration": 5,
    "start_time": "2024-04-01T09:06:50.733Z"
   },
   {
    "duration": 121,
    "start_time": "2024-04-01T09:06:50.741Z"
   },
   {
    "duration": 534,
    "start_time": "2024-04-01T09:06:50.863Z"
   },
   {
    "duration": 6,
    "start_time": "2024-04-01T09:06:51.399Z"
   },
   {
    "duration": 43,
    "start_time": "2024-04-01T09:06:51.407Z"
   },
   {
    "duration": 2249,
    "start_time": "2024-04-01T09:06:51.451Z"
   },
   {
    "duration": 5829,
    "start_time": "2024-04-01T09:08:31.115Z"
   },
   {
    "duration": 4188,
    "start_time": "2024-04-01T09:08:36.946Z"
   },
   {
    "duration": 178,
    "start_time": "2024-04-01T09:08:41.136Z"
   },
   {
    "duration": 3,
    "start_time": "2024-04-01T09:08:41.315Z"
   },
   {
    "duration": 6,
    "start_time": "2024-04-01T09:08:41.319Z"
   },
   {
    "duration": 966,
    "start_time": "2024-04-01T09:08:41.326Z"
   },
   {
    "duration": 4,
    "start_time": "2024-04-01T09:08:42.293Z"
   },
   {
    "duration": 263,
    "start_time": "2024-04-01T09:08:42.298Z"
   },
   {
    "duration": 5,
    "start_time": "2024-04-01T09:08:42.563Z"
   },
   {
    "duration": 109,
    "start_time": "2024-04-01T09:08:42.582Z"
   },
   {
    "duration": 533,
    "start_time": "2024-04-01T09:08:42.692Z"
   },
   {
    "duration": 7,
    "start_time": "2024-04-01T09:08:43.226Z"
   },
   {
    "duration": 25,
    "start_time": "2024-04-01T09:08:43.235Z"
   },
   {
    "duration": 2230,
    "start_time": "2024-04-01T09:08:43.262Z"
   },
   {
    "duration": 9119,
    "start_time": "2024-04-01T09:13:36.496Z"
   },
   {
    "duration": 4197,
    "start_time": "2024-04-01T09:13:45.617Z"
   },
   {
    "duration": 248,
    "start_time": "2024-04-01T09:13:49.816Z"
   },
   {
    "duration": 3,
    "start_time": "2024-04-01T09:13:50.065Z"
   },
   {
    "duration": 21,
    "start_time": "2024-04-01T09:13:50.070Z"
   },
   {
    "duration": 946,
    "start_time": "2024-04-01T09:13:50.092Z"
   },
   {
    "duration": 4,
    "start_time": "2024-04-01T09:13:51.040Z"
   },
   {
    "duration": 272,
    "start_time": "2024-04-01T09:13:51.045Z"
   },
   {
    "duration": 6,
    "start_time": "2024-04-01T09:13:51.318Z"
   },
   {
    "duration": 116,
    "start_time": "2024-04-01T09:13:51.326Z"
   },
   {
    "duration": 574,
    "start_time": "2024-04-01T09:13:51.444Z"
   },
   {
    "duration": 7,
    "start_time": "2024-04-01T09:13:52.019Z"
   },
   {
    "duration": 41,
    "start_time": "2024-04-01T09:13:52.028Z"
   },
   {
    "duration": 347,
    "start_time": "2024-04-01T09:13:52.072Z"
   },
   {
    "duration": 0,
    "start_time": "2024-04-01T09:13:52.421Z"
   },
   {
    "duration": 0,
    "start_time": "2024-04-01T09:13:52.422Z"
   },
   {
    "duration": 0,
    "start_time": "2024-04-01T09:13:52.424Z"
   },
   {
    "duration": 0,
    "start_time": "2024-04-01T09:13:52.425Z"
   },
   {
    "duration": 0,
    "start_time": "2024-04-01T09:13:52.426Z"
   },
   {
    "duration": 0,
    "start_time": "2024-04-01T09:13:52.427Z"
   },
   {
    "duration": 0,
    "start_time": "2024-04-01T09:13:52.428Z"
   },
   {
    "duration": 0,
    "start_time": "2024-04-01T09:13:52.430Z"
   },
   {
    "duration": 0,
    "start_time": "2024-04-01T09:13:52.431Z"
   },
   {
    "duration": 3,
    "start_time": "2024-04-01T09:14:03.243Z"
   },
   {
    "duration": 2684,
    "start_time": "2024-04-01T09:14:04.582Z"
   },
   {
    "duration": 12929,
    "start_time": "2024-04-01T09:22:29.779Z"
   },
   {
    "duration": 4201,
    "start_time": "2024-04-01T09:22:42.710Z"
   },
   {
    "duration": 246,
    "start_time": "2024-04-01T09:22:46.913Z"
   },
   {
    "duration": 4,
    "start_time": "2024-04-01T09:22:47.161Z"
   },
   {
    "duration": 27,
    "start_time": "2024-04-01T09:22:47.166Z"
   },
   {
    "duration": 993,
    "start_time": "2024-04-01T09:22:47.194Z"
   },
   {
    "duration": 4,
    "start_time": "2024-04-01T09:22:48.189Z"
   },
   {
    "duration": 287,
    "start_time": "2024-04-01T09:22:48.195Z"
   },
   {
    "duration": 7,
    "start_time": "2024-04-01T09:22:48.484Z"
   },
   {
    "duration": 120,
    "start_time": "2024-04-01T09:22:48.494Z"
   },
   {
    "duration": 531,
    "start_time": "2024-04-01T09:22:48.616Z"
   },
   {
    "duration": 7,
    "start_time": "2024-04-01T09:22:49.149Z"
   },
   {
    "duration": 36,
    "start_time": "2024-04-01T09:22:49.158Z"
   },
   {
    "duration": 7,
    "start_time": "2024-04-01T09:22:49.195Z"
   },
   {
    "duration": 2836,
    "start_time": "2024-04-01T09:22:49.204Z"
   },
   {
    "duration": 15554,
    "start_time": "2024-04-01T09:23:32.750Z"
   },
   {
    "duration": 4211,
    "start_time": "2024-04-01T09:23:48.306Z"
   },
   {
    "duration": 258,
    "start_time": "2024-04-01T09:23:52.519Z"
   },
   {
    "duration": 3,
    "start_time": "2024-04-01T09:23:52.779Z"
   },
   {
    "duration": 23,
    "start_time": "2024-04-01T09:23:52.783Z"
   },
   {
    "duration": 989,
    "start_time": "2024-04-01T09:23:52.807Z"
   },
   {
    "duration": 4,
    "start_time": "2024-04-01T09:23:53.797Z"
   },
   {
    "duration": 271,
    "start_time": "2024-04-01T09:23:53.802Z"
   },
   {
    "duration": 6,
    "start_time": "2024-04-01T09:23:54.081Z"
   },
   {
    "duration": 114,
    "start_time": "2024-04-01T09:23:54.090Z"
   },
   {
    "duration": 515,
    "start_time": "2024-04-01T09:23:54.206Z"
   },
   {
    "duration": 7,
    "start_time": "2024-04-01T09:23:54.723Z"
   },
   {
    "duration": 25,
    "start_time": "2024-04-01T09:23:54.731Z"
   },
   {
    "duration": 3,
    "start_time": "2024-04-01T09:23:54.758Z"
   },
   {
    "duration": 2799,
    "start_time": "2024-04-01T09:23:54.782Z"
   },
   {
    "duration": 2340998,
    "start_time": "2024-04-01T09:23:57.583Z"
   },
   {
    "duration": 5,
    "start_time": "2024-04-01T10:02:58.582Z"
   },
   {
    "duration": 340,
    "start_time": "2024-04-01T10:02:58.589Z"
   },
   {
    "duration": 0,
    "start_time": "2024-04-01T10:02:58.931Z"
   },
   {
    "duration": 0,
    "start_time": "2024-04-01T10:02:58.932Z"
   },
   {
    "duration": 0,
    "start_time": "2024-04-01T10:02:58.933Z"
   },
   {
    "duration": 0,
    "start_time": "2024-04-01T10:02:58.934Z"
   },
   {
    "duration": 0,
    "start_time": "2024-04-01T10:02:58.935Z"
   },
   {
    "duration": 0,
    "start_time": "2024-04-01T10:02:58.936Z"
   },
   {
    "duration": 0,
    "start_time": "2024-04-01T10:02:58.937Z"
   },
   {
    "duration": 0,
    "start_time": "2024-04-01T10:02:58.940Z"
   },
   {
    "duration": 0,
    "start_time": "2024-04-01T10:02:58.941Z"
   },
   {
    "duration": 0,
    "start_time": "2024-04-01T10:02:58.944Z"
   },
   {
    "duration": 0,
    "start_time": "2024-04-01T10:02:58.945Z"
   },
   {
    "duration": 203,
    "start_time": "2024-04-01T10:36:11.837Z"
   },
   {
    "duration": 60,
    "start_time": "2024-04-01T10:36:23.328Z"
   },
   {
    "duration": 20,
    "start_time": "2024-04-01T10:38:58.349Z"
   },
   {
    "duration": 2090,
    "start_time": "2024-04-01T10:40:01.055Z"
   },
   {
    "duration": 27,
    "start_time": "2024-04-01T10:40:44.961Z"
   },
   {
    "duration": 17383,
    "start_time": "2024-04-01T10:41:15.447Z"
   },
   {
    "duration": 67,
    "start_time": "2024-04-01T10:43:10.644Z"
   },
   {
    "duration": 4,
    "start_time": "2024-04-01T10:43:46.430Z"
   },
   {
    "duration": 29,
    "start_time": "2024-04-01T10:44:01.261Z"
   },
   {
    "duration": 4,
    "start_time": "2024-04-01T10:44:42.554Z"
   },
   {
    "duration": 2,
    "start_time": "2024-04-01T10:44:44.138Z"
   },
   {
    "duration": 16238,
    "start_time": "2024-04-01T10:53:02.747Z"
   },
   {
    "duration": 249,
    "start_time": "2024-04-01T10:53:24.581Z"
   },
   {
    "duration": 2,
    "start_time": "2024-04-01T10:53:24.831Z"
   },
   {
    "duration": 5,
    "start_time": "2024-04-01T10:53:24.835Z"
   },
   {
    "duration": 761,
    "start_time": "2024-04-01T10:53:24.841Z"
   },
   {
    "duration": 5,
    "start_time": "2024-04-01T10:53:25.603Z"
   },
   {
    "duration": 249,
    "start_time": "2024-04-01T10:53:25.610Z"
   },
   {
    "duration": 5,
    "start_time": "2024-04-01T10:53:25.860Z"
   },
   {
    "duration": 81,
    "start_time": "2024-04-01T10:53:25.880Z"
   },
   {
    "duration": 411,
    "start_time": "2024-04-01T10:53:25.962Z"
   },
   {
    "duration": 8,
    "start_time": "2024-04-01T10:53:26.375Z"
   },
   {
    "duration": 47,
    "start_time": "2024-04-01T10:53:26.384Z"
   },
   {
    "duration": 2,
    "start_time": "2024-04-01T10:53:26.432Z"
   },
   {
    "duration": 2080,
    "start_time": "2024-04-01T10:53:26.435Z"
   },
   {
    "duration": 1962875,
    "start_time": "2024-04-01T10:53:28.516Z"
   },
   {
    "duration": 4,
    "start_time": "2024-04-01T11:26:11.393Z"
   },
   {
    "duration": 176,
    "start_time": "2024-04-01T11:26:11.399Z"
   },
   {
    "duration": 52,
    "start_time": "2024-04-01T11:26:11.577Z"
   },
   {
    "duration": 309,
    "start_time": "2024-04-01T11:26:11.631Z"
   },
   {
    "duration": 0,
    "start_time": "2024-04-01T11:26:11.941Z"
   },
   {
    "duration": 0,
    "start_time": "2024-04-01T11:26:11.943Z"
   },
   {
    "duration": 0,
    "start_time": "2024-04-01T11:26:11.944Z"
   },
   {
    "duration": 0,
    "start_time": "2024-04-01T11:26:11.944Z"
   },
   {
    "duration": 0,
    "start_time": "2024-04-01T11:26:11.945Z"
   },
   {
    "duration": 0,
    "start_time": "2024-04-01T11:26:11.946Z"
   },
   {
    "duration": 0,
    "start_time": "2024-04-01T11:26:11.947Z"
   },
   {
    "duration": 0,
    "start_time": "2024-04-01T11:26:11.948Z"
   },
   {
    "duration": 0,
    "start_time": "2024-04-01T11:26:11.949Z"
   },
   {
    "duration": 0,
    "start_time": "2024-04-01T11:26:11.950Z"
   },
   {
    "duration": 4,
    "start_time": "2024-04-01T11:26:26.293Z"
   },
   {
    "duration": 5,
    "start_time": "2024-04-01T11:26:36.338Z"
   },
   {
    "duration": 3,
    "start_time": "2024-04-01T11:26:40.926Z"
   },
   {
    "duration": 2892014,
    "start_time": "2024-04-01T11:26:41.727Z"
   },
   {
    "duration": 3,
    "start_time": "2024-04-01T12:14:53.784Z"
   },
   {
    "duration": 40,
    "start_time": "2024-04-01T12:14:53.789Z"
   },
   {
    "duration": 50,
    "start_time": "2024-04-01T12:14:53.831Z"
   },
   {
    "duration": 6438,
    "start_time": "2024-04-01T12:14:53.882Z"
   },
   {
    "duration": 22,
    "start_time": "2024-04-01T12:35:53.570Z"
   },
   {
    "duration": 12,
    "start_time": "2024-04-01T12:36:02.583Z"
   },
   {
    "duration": 1392,
    "start_time": "2024-04-01T12:37:31.562Z"
   },
   {
    "duration": 23,
    "start_time": "2024-04-01T12:39:22.576Z"
   },
   {
    "duration": 21,
    "start_time": "2024-04-01T12:39:32.382Z"
   },
   {
    "duration": 35,
    "start_time": "2024-04-01T12:40:28.681Z"
   },
   {
    "duration": 96,
    "start_time": "2024-04-01T12:41:32.470Z"
   },
   {
    "duration": 24864,
    "start_time": "2024-04-01T12:42:40.993Z"
   },
   {
    "duration": 18043,
    "start_time": "2024-04-01T12:46:35.147Z"
   },
   {
    "duration": 6040,
    "start_time": "2024-04-01T12:46:53.192Z"
   },
   {
    "duration": 170,
    "start_time": "2024-04-01T12:46:59.234Z"
   },
   {
    "duration": 2,
    "start_time": "2024-04-01T12:46:59.406Z"
   },
   {
    "duration": 5,
    "start_time": "2024-04-01T12:46:59.409Z"
   },
   {
    "duration": 887,
    "start_time": "2024-04-01T12:46:59.415Z"
   },
   {
    "duration": 3,
    "start_time": "2024-04-01T12:47:00.304Z"
   },
   {
    "duration": 306,
    "start_time": "2024-04-01T12:47:00.308Z"
   },
   {
    "duration": 5,
    "start_time": "2024-04-01T12:47:00.616Z"
   },
   {
    "duration": 164,
    "start_time": "2024-04-01T12:47:00.624Z"
   },
   {
    "duration": 475,
    "start_time": "2024-04-01T12:47:00.789Z"
   },
   {
    "duration": 6,
    "start_time": "2024-04-01T12:47:01.266Z"
   },
   {
    "duration": 122,
    "start_time": "2024-04-01T12:47:01.273Z"
   },
   {
    "duration": 47,
    "start_time": "2024-04-01T12:47:01.397Z"
   },
   {
    "duration": 2511,
    "start_time": "2024-04-01T12:47:01.445Z"
   },
   {
    "duration": 2018287,
    "start_time": "2024-04-01T12:47:03.958Z"
   },
   {
    "duration": 5,
    "start_time": "2024-04-01T13:20:42.247Z"
   },
   {
    "duration": 172,
    "start_time": "2024-04-01T13:20:42.254Z"
   },
   {
    "duration": 64,
    "start_time": "2024-04-01T13:20:42.428Z"
   },
   {
    "duration": 6,
    "start_time": "2024-04-01T13:20:42.493Z"
   },
   {
    "duration": 9,
    "start_time": "2024-04-01T13:20:42.501Z"
   },
   {
    "duration": 3020179,
    "start_time": "2024-04-01T13:20:42.512Z"
   },
   {
    "duration": 3,
    "start_time": "2024-04-01T14:11:02.693Z"
   },
   {
    "duration": 53,
    "start_time": "2024-04-01T14:11:02.697Z"
   },
   {
    "duration": 46,
    "start_time": "2024-04-01T14:11:02.752Z"
   },
   {
    "duration": 1393,
    "start_time": "2024-04-01T14:11:02.800Z"
   },
   {
    "duration": 23711,
    "start_time": "2024-04-01T14:11:04.194Z"
   }
  ],
  "kernelspec": {
   "display_name": "Python 3 (ipykernel)",
   "language": "python",
   "name": "python3"
  },
  "language_info": {
   "codemirror_mode": {
    "name": "ipython",
    "version": 3
   },
   "file_extension": ".py",
   "mimetype": "text/x-python",
   "name": "python",
   "nbconvert_exporter": "python",
   "pygments_lexer": "ipython3",
   "version": "3.9.5"
  },
  "toc": {
   "base_numbering": 1,
   "nav_menu": {},
   "number_sections": true,
   "sideBar": true,
   "skip_h1_title": true,
   "title_cell": "Содержание",
   "title_sidebar": "Contents",
   "toc_cell": true,
   "toc_position": {
    "height": "calc(100% - 180px)",
    "left": "10px",
    "top": "150px",
    "width": "302.391px"
   },
   "toc_section_display": true,
   "toc_window_display": false
  }
 },
 "nbformat": 4,
 "nbformat_minor": 2
}
